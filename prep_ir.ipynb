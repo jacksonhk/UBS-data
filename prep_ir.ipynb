{
 "cells": [
  {
   "cell_type": "code",
   "execution_count": 1,
   "id": "f5a20aab",
   "metadata": {},
   "outputs": [],
   "source": [
    "import pandas as pd\n",
    "import numpy as np\n",
    "import matplotlib.pyplot as plt\n",
    "from pysabr import Hagan2002LognormalSABR\n",
    "from pysabr import hagan_2002_lognormal_sabr as sabr\n",
    "import xgboost as xgb\n",
    "from math import sqrt\n",
    "from sklearn.metrics import mean_squared_error\n",
    "from sklearn.metrics import mean_absolute_percentage_error\n",
    "from sklearn.metrics import r2_score\n",
    "from sklearn.model_selection import train_test_split"
   ]
  },
  {
   "cell_type": "code",
   "execution_count": null,
   "id": "f892b585",
   "metadata": {},
   "outputs": [],
   "source": [
    "# prepare data for ir dataframe modeling"
   ]
  },
  {
   "cell_type": "code",
   "execution_count": 2,
   "id": "3a8feb2b",
   "metadata": {},
   "outputs": [],
   "source": [
    "def create_features(df):\n",
    "    df=df.copy()\n",
    "    df['rhol1']=df.shift(1)['rho']\n",
    "    df['volvoll1']=df.shift(1)['volvol']\n",
    "    df['Forward Swap Ratel1']=df.shift(1)['Forward Swap Rate']\n",
    "    df['rhol2']=df.shift(2)['rho']\n",
    "    df['volvoll2']=df.shift(2)['volvol']\n",
    "    df['Forward Swap Ratel2']=df.shift(2)['Forward Swap Rate']\n",
    "    df['rholrm2']=df['rho'].shift(1).rolling(2).mean()\n",
    "    df['volvollrm2']=df['volvol'].shift(1).rolling(2).mean()\n",
    "    df['Forward Swap Ratelrm2']=df['Forward Swap Rate'].shift(1).rolling(2).mean()\n",
    "    df['hour'] = df.index.hour\n",
    "    df['dayofweek'] = df.index.dayofweek\n",
    "    df['quarter'] = df.index.quarter\n",
    "    df['month'] = df.index.month\n",
    "    df['year'] = df.index.year\n",
    "    df['dayofyear'] = df.index.dayofyear\n",
    "    df['dayofmonth'] = df.index.day\n",
    "    df['weekofyear'] = df.index.isocalendar().week\n",
    "    return df\n",
    "def create_featuresa(df):\n",
    "    df=df.copy()\n",
    "    df['alphal1']=df.shift(1)['alpha']\n",
    "    df['Forward Swap Ratel1']=df.shift(1)['Forward Swap Rate']\n",
    "    df['alphal2']=df.shift(2)['alpha']\n",
    "    df['Forward Swap Ratel2']=df.shift(2)['Forward Swap Rate']\n",
    "    df['alphalrm2']=df['alpha'].shift(1).rolling(2).mean()\n",
    "    df['Forward Swap Ratelrm2']=df['Forward Swap Rate'].shift(1).rolling(2).mean()\n",
    "    df['hour'] = df.index.hour\n",
    "    df['dayofweek'] = df.index.dayofweek\n",
    "    df['quarter'] = df.index.quarter\n",
    "    df['month'] = df.index.month\n",
    "    df['year'] = df.index.year\n",
    "    df['dayofyear'] = df.index.dayofyear\n",
    "    df['dayofmonth'] = df.index.day\n",
    "    df['weekofyear'] = df.index.isocalendar().week\n",
    "    df['alphal3']=df.shift(3)['alpha']\n",
    "    return df"
   ]
  },
  {
   "cell_type": "code",
   "execution_count": 3,
   "id": "8ebd7e6a",
   "metadata": {},
   "outputs": [],
   "source": [
    "swaption=pd.read_csv(\"sabr.csv\")\n",
    "swaption['Date']=pd.to_datetime(swaption['Date'],format='%Y-%m-%d')\n",
    "swaption=swaption.drop('Unnamed: 0',axis=1)\n",
    "swaption_u=swaption.copy()\n",
    "swaption_u=swaption_u.drop(['error','abs(e_size)>0.005'],axis=1)\n",
    "swaption_u.set_index('Date',inplace=True)"
   ]
  },
  {
   "cell_type": "code",
   "execution_count": 4,
   "id": "c70fe515",
   "metadata": {},
   "outputs": [],
   "source": [
    "ir=pd.read_csv('../data/trade-price-ir-vegas.csv')\n",
    "irdate=ir['Value Date'].drop_duplicates().reset_index(drop=True)\n",
    "unique_combos=pd.read_csv('unique_combo.csv')\n",
    "unique_combos=unique_combos.drop('Unnamed: 0',axis=1)"
   ]
  },
  {
   "cell_type": "code",
   "execution_count": 5,
   "id": "868c0aee",
   "metadata": {},
   "outputs": [],
   "source": [
    "datasets1 = {name: group for name, group in swaption_u.groupby(['Expiry', 'Tenor'])}\n",
    "datasets=datasets1.copy()"
   ]
  },
  {
   "cell_type": "code",
   "execution_count": 6,
   "id": "eade4d56",
   "metadata": {},
   "outputs": [],
   "source": [
    "#extract data useful for ir datasets\n",
    "for i in range(len(unique_combos)):\n",
    "    a,b=unique_combos.loc[i,:]\n",
    "    ddf=datasets1[a,b].drop_duplicates('Forward Swap Rate')\n",
    "    filtered_ddf = ddf[ddf.index.isin(irdate)]\n",
    "    # Get the index of the first row that satisfies the condition\n",
    "    first_filtered_index = filtered_ddf.index[0]\n",
    "    ddf_index = ddf.index.to_list()\n",
    "    before_indices = [idx for idx in ddf_index if idx < first_filtered_index and idx not in irdate][-3:]\n",
    "    combined_indices = before_indices + list(filtered_ddf.index)\n",
    "    reindexed_ddf = ddf.reindex(combined_indices)\n",
    "    reindexed_ddf=create_features(reindexed_ddf)\n",
    "    datasets[a,b]=create_featuresa(reindexed_ddf)"
   ]
  },
  {
   "cell_type": "code",
   "execution_count": 21,
   "id": "9fe022f5",
   "metadata": {},
   "outputs": [],
   "source": [
    "for i in range(len(unique_combos)):\n",
    "    a,b=unique_combos.loc[i,:]\n",
    "    df=datasets[a,b]\n",
    "    x_testa=df[['Forward Swap Rate','alphal1','Forward Swap Ratel1','alphal2','Forward Swap Ratel2','alphalrm2','Forward Swap Ratelrm2','hour','dayofweek','quarter','month','year','dayofyear','dayofmonth','weekofyear','alphal3']]\n",
    "    reg_new = xgb.XGBRegressor()\n",
    "    reg_new.load_model(f'model/{a}_{b}_alphamodel.json')\n",
    "    df['pre']=reg_new.predict(x_testa)\n",
    "    x_test=df[['Forward Swap Rate','rhol1','volvoll1','Forward Swap Ratel1','rhol2','volvoll2','Forward Swap Ratel2','rholrm2','volvollrm2','Forward Swap Ratelrm2','hour','dayofweek','quarter','month','year','dayofyear','dayofmonth','weekofyear']]\n",
    "    reg_new = xgb.XGBRegressor()\n",
    "    reg_new.load_model(f'model/{a}_{b}_rhovolmodel.json')\n",
    "    df['prer']=reg_new.predict(x_test)[:,0]\n",
    "    df['prev']=reg_new.predict(x_test)[:,1]\n",
    "    df['vol'] = 100*df.apply(lambda row: sabr.lognormal_vol(row['Forward Swap Rate'],row['Forward Swap Rate'],a,row['pre'],0.5, row['prer'],row['prev']), axis=1)\n",
    "    datasets[a,b]=df"
   ]
  },
  {
   "cell_type": "code",
   "execution_count": 24,
   "id": "b2f6d543",
   "metadata": {},
   "outputs": [],
   "source": [
    "for name, group in datasets.items():\n",
    "    filename = f\"model/{name[0]}_{name[1]}.csv\"\n",
    "    group.to_csv(filename, index=True)\n"
   ]
  }
 ],
 "metadata": {
  "kernelspec": {
   "display_name": "Python 3 (ipykernel)",
   "language": "python",
   "name": "python3"
  },
  "language_info": {
   "codemirror_mode": {
    "name": "ipython",
    "version": 3
   },
   "file_extension": ".py",
   "mimetype": "text/x-python",
   "name": "python",
   "nbconvert_exporter": "python",
   "pygments_lexer": "ipython3",
   "version": "3.9.13"
  }
 },
 "nbformat": 4,
 "nbformat_minor": 5
}
