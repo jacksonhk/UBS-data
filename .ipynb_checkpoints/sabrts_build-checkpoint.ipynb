{
 "cells": [
  {
   "cell_type": "code",
   "execution_count": 1,
   "id": "667bda28",
   "metadata": {},
   "outputs": [],
   "source": [
    "import pandas as pd\n",
    "import numpy as np\n",
    "import matplotlib.pyplot as plt\n",
    "from pysabr import Hagan2002LognormalSABR\n",
    "from pysabr import hagan_2002_lognormal_sabr as sabr\n",
    "import xgboost as xgb\n",
    "from math import sqrt\n",
    "from sklearn.metrics import mean_squared_error\n",
    "from sklearn.metrics import mean_absolute_percentage_error\n",
    "from sklearn.metrics import r2_score\n",
    "from sklearn.model_selection import train_test_split"
   ]
  },
  {
   "cell_type": "code",
   "execution_count": null,
   "id": "1cbe777d",
   "metadata": {},
   "outputs": [],
   "source": [
    "# build time series model for sabr parameters "
   ]
  },
  {
   "cell_type": "code",
   "execution_count": 193,
   "id": "675d86b5",
   "metadata": {},
   "outputs": [],
   "source": [
    "def create_features(df):\n",
    "    df=df.copy()\n",
    "    df['rhol1']=df.shift(1)['rho']\n",
    "    df['volvoll1']=df.shift(1)['volvol']\n",
    "    df['Forward Swap Ratel1']=df.shift(1)['Forward Swap Rate']\n",
    "    df['rhol2']=df.shift(2)['rho']\n",
    "    df['volvoll2']=df.shift(2)['volvol']\n",
    "    df['Forward Swap Ratel2']=df.shift(2)['Forward Swap Rate']\n",
    "    df['rholrm2']=df['rho'].shift(1).rolling(2).mean()\n",
    "    df['volvollrm2']=df['volvol'].shift(1).rolling(2).mean()\n",
    "    df['Forward Swap Ratelrm2']=df['Forward Swap Rate'].shift(1).rolling(2).mean()\n",
    "    df['hour'] = df.index.hour\n",
    "    df['dayofweek'] = df.index.dayofweek\n",
    "    df['quarter'] = df.index.quarter\n",
    "    df['month'] = df.index.month\n",
    "    df['year'] = df.index.year\n",
    "    df['dayofyear'] = df.index.dayofyear\n",
    "    df['dayofmonth'] = df.index.day\n",
    "    df['weekofyear'] = df.index.isocalendar().week\n",
    "    return df\n",
    "def create_featuresa(df):\n",
    "    df=df.copy()\n",
    "    df['alphal1']=df.shift(1)['alpha']\n",
    "    df['Forward Swap Ratel1']=df.shift(1)['Forward Swap Rate']\n",
    "    df['alphal2']=df.shift(2)['alpha']\n",
    "    df['Forward Swap Ratel2']=df.shift(2)['Forward Swap Rate']\n",
    "    df['alphalrm2']=df['alpha'].shift(1).rolling(2).mean()\n",
    "    df['Forward Swap Ratelrm2']=df['Forward Swap Rate'].shift(1).rolling(2).mean()\n",
    "    df['hour'] = df.index.hour\n",
    "    df['dayofweek'] = df.index.dayofweek\n",
    "    df['quarter'] = df.index.quarter\n",
    "    df['month'] = df.index.month\n",
    "    df['year'] = df.index.year\n",
    "    df['dayofyear'] = df.index.dayofyear\n",
    "    df['dayofmonth'] = df.index.day\n",
    "    df['weekofyear'] = df.index.isocalendar().week\n",
    "    df['alphal3']=df.shift(3)['alpha']\n",
    "    return df"
   ]
  },
  {
   "cell_type": "code",
   "execution_count": 2,
   "id": "85992ecf",
   "metadata": {},
   "outputs": [],
   "source": [
    "swaption=pd.read_csv(\"sabr.csv\") #sabr is swaption with sabr parameters calibrated\n",
    "swaption['Date']=pd.to_datetime(swaption['Date'],format='%Y-%m-%d')\n",
    "swaption=swaption.drop('Unnamed: 0',axis=1)\n",
    "swaption_u=swaption.copy()\n",
    "swaption_u=swaption_u.drop(['error','abs(e_size)>0.005'],axis=1)\n",
    "swaption_u.set_index('Date',inplace=True)\n",
    "swaption_u"
   ]
  },
  {
   "cell_type": "code",
   "execution_count": null,
   "id": "7e0a91fb",
   "metadata": {},
   "outputs": [],
   "source": [
    "datasets = {name: group for name, group in swaption_u.groupby(['Expiry', 'Tenor'])}"
   ]
  },
  {
   "cell_type": "code",
   "execution_count": null,
   "id": "5b134384",
   "metadata": {},
   "outputs": [],
   "source": [
    "unique_combos=pd.read_csv('unique_combo.csv')\n",
    "unique_combos=unique_combos.drop('Unnamed: 0',axis=1)"
   ]
  },
  {
   "cell_type": "code",
   "execution_count": 238,
   "id": "e4d05320",
   "metadata": {
    "collapsed": true
   },
   "outputs": [
    {
     "name": "stdout",
     "output_type": "stream",
     "text": [
      "[0]\tvalidation_0-rmse:0.49015\tvalidation_1-rmse:0.48397\n",
      "[100]\tvalidation_0-rmse:0.19881\tvalidation_1-rmse:0.19269\n",
      "[200]\tvalidation_0-rmse:0.08071\tvalidation_1-rmse:0.07604\n",
      "[300]\tvalidation_0-rmse:0.03280\tvalidation_1-rmse:0.03029\n"
     ]
    },
    {
     "name": "stderr",
     "output_type": "stream",
     "text": [
      "/Users/unimportantnotes/opt/anaconda3/lib/python3.9/site-packages/xgboost/core.py:160: UserWarning: [12:05:45] WARNING: /Users/runner/work/xgboost/xgboost/src/objective/regression_obj.cu:209: reg:linear is now deprecated in favor of reg:squarederror.\n",
      "  warnings.warn(smsg, UserWarning)\n"
     ]
    },
    {
     "name": "stdout",
     "output_type": "stream",
     "text": [
      "[400]\tvalidation_0-rmse:0.01335\tvalidation_1-rmse:0.01237\n",
      "[500]\tvalidation_0-rmse:0.00545\tvalidation_1-rmse:0.00715\n",
      "[600]\tvalidation_0-rmse:0.00224\tvalidation_1-rmse:0.00532\n",
      "[700]\tvalidation_0-rmse:0.00096\tvalidation_1-rmse:0.00478\n",
      "[800]\tvalidation_0-rmse:0.00048\tvalidation_1-rmse:0.00448\n",
      "[900]\tvalidation_0-rmse:0.00034\tvalidation_1-rmse:0.00437\n",
      "[999]\tvalidation_0-rmse:0.00031\tvalidation_1-rmse:0.00433\n",
      "[0]\tvalidation_0-rmse:0.38345\tvalidation_1-rmse:0.35678\n",
      "[100]\tvalidation_0-rmse:0.15615\tvalidation_1-rmse:0.13372\n"
     ]
    },
    {
     "name": "stderr",
     "output_type": "stream",
     "text": [
      "/Users/unimportantnotes/opt/anaconda3/lib/python3.9/site-packages/xgboost/core.py:160: UserWarning: [12:05:45] WARNING: /Users/runner/work/xgboost/xgboost/src/objective/regression_obj.cu:209: reg:linear is now deprecated in favor of reg:squarederror.\n",
      "  warnings.warn(smsg, UserWarning)\n"
     ]
    },
    {
     "name": "stdout",
     "output_type": "stream",
     "text": [
      "[200]\tvalidation_0-rmse:0.06411\tvalidation_1-rmse:0.05921\n",
      "[300]\tvalidation_0-rmse:0.02701\tvalidation_1-rmse:0.03881\n",
      "[394]\tvalidation_0-rmse:0.01304\tvalidation_1-rmse:0.03929\n",
      "[0]\tvalidation_0-rmse:0.48954\tvalidation_1-rmse:0.48161\n",
      "[100]\tvalidation_0-rmse:0.19859\tvalidation_1-rmse:0.19077\n",
      "[200]\tvalidation_0-rmse:0.08063\tvalidation_1-rmse:0.07572\n"
     ]
    },
    {
     "name": "stderr",
     "output_type": "stream",
     "text": [
      "/Users/unimportantnotes/opt/anaconda3/lib/python3.9/site-packages/xgboost/core.py:160: UserWarning: [12:05:46] WARNING: /Users/runner/work/xgboost/xgboost/src/objective/regression_obj.cu:209: reg:linear is now deprecated in favor of reg:squarederror.\n",
      "  warnings.warn(smsg, UserWarning)\n"
     ]
    },
    {
     "name": "stdout",
     "output_type": "stream",
     "text": [
      "[300]\tvalidation_0-rmse:0.03277\tvalidation_1-rmse:0.02988\n",
      "[400]\tvalidation_0-rmse:0.01335\tvalidation_1-rmse:0.01171\n",
      "[500]\tvalidation_0-rmse:0.00546\tvalidation_1-rmse:0.00508\n",
      "[600]\tvalidation_0-rmse:0.00227\tvalidation_1-rmse:0.00301\n",
      "[700]\tvalidation_0-rmse:0.00099\tvalidation_1-rmse:0.00248\n",
      "[800]\tvalidation_0-rmse:0.00051\tvalidation_1-rmse:0.00239\n",
      "[900]\tvalidation_0-rmse:0.00038\tvalidation_1-rmse:0.00238\n",
      "[915]\tvalidation_0-rmse:0.00037\tvalidation_1-rmse:0.00239\n",
      "[0]\tvalidation_0-rmse:0.38649\tvalidation_1-rmse:0.37489\n",
      "[100]\tvalidation_0-rmse:0.15720\tvalidation_1-rmse:0.13692\n"
     ]
    },
    {
     "name": "stderr",
     "output_type": "stream",
     "text": [
      "/Users/unimportantnotes/opt/anaconda3/lib/python3.9/site-packages/xgboost/core.py:160: UserWarning: [12:05:47] WARNING: /Users/runner/work/xgboost/xgboost/src/objective/regression_obj.cu:209: reg:linear is now deprecated in favor of reg:squarederror.\n",
      "  warnings.warn(smsg, UserWarning)\n"
     ]
    },
    {
     "name": "stdout",
     "output_type": "stream",
     "text": [
      "[200]\tvalidation_0-rmse:0.06433\tvalidation_1-rmse:0.06312\n",
      "[300]\tvalidation_0-rmse:0.02687\tvalidation_1-rmse:0.05840\n",
      "[327]\tvalidation_0-rmse:0.02138\tvalidation_1-rmse:0.05993\n",
      "[0]\tvalidation_0-rmse:0.49214\tvalidation_1-rmse:0.48911\n",
      "[100]\tvalidation_0-rmse:0.19958\tvalidation_1-rmse:0.19656\n",
      "[200]\tvalidation_0-rmse:0.08096\tvalidation_1-rmse:0.07792\n"
     ]
    },
    {
     "name": "stderr",
     "output_type": "stream",
     "text": [
      "/Users/unimportantnotes/opt/anaconda3/lib/python3.9/site-packages/xgboost/core.py:160: UserWarning: [12:05:47] WARNING: /Users/runner/work/xgboost/xgboost/src/objective/regression_obj.cu:209: reg:linear is now deprecated in favor of reg:squarederror.\n",
      "  warnings.warn(smsg, UserWarning)\n"
     ]
    },
    {
     "name": "stdout",
     "output_type": "stream",
     "text": [
      "[300]\tvalidation_0-rmse:0.03287\tvalidation_1-rmse:0.03030\n",
      "[400]\tvalidation_0-rmse:0.01336\tvalidation_1-rmse:0.01170\n",
      "[500]\tvalidation_0-rmse:0.00544\tvalidation_1-rmse:0.00449\n",
      "[600]\tvalidation_0-rmse:0.00222\tvalidation_1-rmse:0.00167\n",
      "[700]\tvalidation_0-rmse:0.00092\tvalidation_1-rmse:0.00069\n",
      "[800]\tvalidation_0-rmse:0.00042\tvalidation_1-rmse:0.00055\n",
      "[855]\tvalidation_0-rmse:0.00030\tvalidation_1-rmse:0.00058\n",
      "[0]\tvalidation_0-rmse:0.38024\tvalidation_1-rmse:0.27871\n",
      "[100]\tvalidation_0-rmse:0.15549\tvalidation_1-rmse:0.10780\n"
     ]
    },
    {
     "name": "stderr",
     "output_type": "stream",
     "text": [
      "/Users/unimportantnotes/opt/anaconda3/lib/python3.9/site-packages/xgboost/core.py:160: UserWarning: [12:05:48] WARNING: /Users/runner/work/xgboost/xgboost/src/objective/regression_obj.cu:209: reg:linear is now deprecated in favor of reg:squarederror.\n",
      "  warnings.warn(smsg, UserWarning)\n"
     ]
    },
    {
     "name": "stdout",
     "output_type": "stream",
     "text": [
      "[200]\tvalidation_0-rmse:0.06448\tvalidation_1-rmse:0.04005\n",
      "[300]\tvalidation_0-rmse:0.02806\tvalidation_1-rmse:0.01721\n",
      "[400]\tvalidation_0-rmse:0.01416\tvalidation_1-rmse:0.01467\n",
      "[491]\tvalidation_0-rmse:0.00969\tvalidation_1-rmse:0.01519\n",
      "[0]\tvalidation_0-rmse:0.49216\tvalidation_1-rmse:0.48893\n",
      "[100]\tvalidation_0-rmse:0.19959\tvalidation_1-rmse:0.19636\n",
      "[200]\tvalidation_0-rmse:0.08096\tvalidation_1-rmse:0.07772\n",
      "[300]\tvalidation_0-rmse:0.03287\tvalidation_1-rmse:0.03011\n"
     ]
    },
    {
     "name": "stderr",
     "output_type": "stream",
     "text": [
      "/Users/unimportantnotes/opt/anaconda3/lib/python3.9/site-packages/xgboost/core.py:160: UserWarning: [12:05:49] WARNING: /Users/runner/work/xgboost/xgboost/src/objective/regression_obj.cu:209: reg:linear is now deprecated in favor of reg:squarederror.\n",
      "  warnings.warn(smsg, UserWarning)\n"
     ]
    },
    {
     "name": "stdout",
     "output_type": "stream",
     "text": [
      "[400]\tvalidation_0-rmse:0.01336\tvalidation_1-rmse:0.01155\n",
      "[500]\tvalidation_0-rmse:0.00544\tvalidation_1-rmse:0.00441\n",
      "[600]\tvalidation_0-rmse:0.00222\tvalidation_1-rmse:0.00161\n",
      "[700]\tvalidation_0-rmse:0.00092\tvalidation_1-rmse:0.00072\n",
      "[800]\tvalidation_0-rmse:0.00042\tvalidation_1-rmse:0.00064\n",
      "[840]\tvalidation_0-rmse:0.00032\tvalidation_1-rmse:0.00067\n",
      "[0]\tvalidation_0-rmse:0.37971\tvalidation_1-rmse:0.28277\n",
      "[100]\tvalidation_0-rmse:0.15494\tvalidation_1-rmse:0.11580\n"
     ]
    },
    {
     "name": "stderr",
     "output_type": "stream",
     "text": [
      "/Users/unimportantnotes/opt/anaconda3/lib/python3.9/site-packages/xgboost/core.py:160: UserWarning: [12:05:49] WARNING: /Users/runner/work/xgboost/xgboost/src/objective/regression_obj.cu:209: reg:linear is now deprecated in favor of reg:squarederror.\n",
      "  warnings.warn(smsg, UserWarning)\n"
     ]
    },
    {
     "name": "stdout",
     "output_type": "stream",
     "text": [
      "[200]\tvalidation_0-rmse:0.06411\tvalidation_1-rmse:0.05296\n",
      "[300]\tvalidation_0-rmse:0.02798\tvalidation_1-rmse:0.03542\n",
      "[400]\tvalidation_0-rmse:0.01449\tvalidation_1-rmse:0.03260\n",
      "[497]\tvalidation_0-rmse:0.01004\tvalidation_1-rmse:0.03276\n",
      "[0]\tvalidation_0-rmse:0.49211\tvalidation_1-rmse:0.48918\n",
      "[100]\tvalidation_0-rmse:0.19957\tvalidation_1-rmse:0.19663\n",
      "[200]\tvalidation_0-rmse:0.08095\tvalidation_1-rmse:0.07801\n",
      "[300]\tvalidation_0-rmse:0.03287\tvalidation_1-rmse:0.03037\n"
     ]
    },
    {
     "name": "stderr",
     "output_type": "stream",
     "text": [
      "/Users/unimportantnotes/opt/anaconda3/lib/python3.9/site-packages/xgboost/core.py:160: UserWarning: [12:05:50] WARNING: /Users/runner/work/xgboost/xgboost/src/objective/regression_obj.cu:209: reg:linear is now deprecated in favor of reg:squarederror.\n",
      "  warnings.warn(smsg, UserWarning)\n"
     ]
    },
    {
     "name": "stdout",
     "output_type": "stream",
     "text": [
      "[400]\tvalidation_0-rmse:0.01336\tvalidation_1-rmse:0.01174\n",
      "[500]\tvalidation_0-rmse:0.00544\tvalidation_1-rmse:0.00454\n",
      "[600]\tvalidation_0-rmse:0.00222\tvalidation_1-rmse:0.00170\n",
      "[700]\tvalidation_0-rmse:0.00093\tvalidation_1-rmse:0.00071\n",
      "[800]\tvalidation_0-rmse:0.00042\tvalidation_1-rmse:0.00055\n",
      "[863]\tvalidation_0-rmse:0.00030\tvalidation_1-rmse:0.00058\n",
      "[0]\tvalidation_0-rmse:0.37919\tvalidation_1-rmse:0.27850\n",
      "[100]\tvalidation_0-rmse:0.15510\tvalidation_1-rmse:0.10749\n"
     ]
    },
    {
     "name": "stderr",
     "output_type": "stream",
     "text": [
      "/Users/unimportantnotes/opt/anaconda3/lib/python3.9/site-packages/xgboost/core.py:160: UserWarning: [12:05:51] WARNING: /Users/runner/work/xgboost/xgboost/src/objective/regression_obj.cu:209: reg:linear is now deprecated in favor of reg:squarederror.\n",
      "  warnings.warn(smsg, UserWarning)\n"
     ]
    },
    {
     "name": "stdout",
     "output_type": "stream",
     "text": [
      "[200]\tvalidation_0-rmse:0.06455\tvalidation_1-rmse:0.03966\n",
      "[300]\tvalidation_0-rmse:0.02846\tvalidation_1-rmse:0.01703\n",
      "[400]\tvalidation_0-rmse:0.01527\tvalidation_1-rmse:0.01497\n",
      "[427]\tvalidation_0-rmse:0.01344\tvalidation_1-rmse:0.01529\n",
      "[0]\tvalidation_0-rmse:0.49206\tvalidation_1-rmse:0.48937\n",
      "[100]\tvalidation_0-rmse:0.19955\tvalidation_1-rmse:0.19686\n",
      "[200]\tvalidation_0-rmse:0.08094\tvalidation_1-rmse:0.07824\n",
      "[300]\tvalidation_0-rmse:0.03287\tvalidation_1-rmse:0.03060\n",
      "[400]\tvalidation_0-rmse:0.01336\tvalidation_1-rmse:0.01190\n"
     ]
    },
    {
     "name": "stderr",
     "output_type": "stream",
     "text": [
      "/Users/unimportantnotes/opt/anaconda3/lib/python3.9/site-packages/xgboost/core.py:160: UserWarning: [12:05:51] WARNING: /Users/runner/work/xgboost/xgboost/src/objective/regression_obj.cu:209: reg:linear is now deprecated in favor of reg:squarederror.\n",
      "  warnings.warn(smsg, UserWarning)\n"
     ]
    },
    {
     "name": "stdout",
     "output_type": "stream",
     "text": [
      "[500]\tvalidation_0-rmse:0.00544\tvalidation_1-rmse:0.00449\n",
      "[600]\tvalidation_0-rmse:0.00223\tvalidation_1-rmse:0.00161\n",
      "[700]\tvalidation_0-rmse:0.00094\tvalidation_1-rmse:0.00059\n",
      "[800]\tvalidation_0-rmse:0.00043\tvalidation_1-rmse:0.00046\n",
      "[842]\tvalidation_0-rmse:0.00034\tvalidation_1-rmse:0.00050\n",
      "[0]\tvalidation_0-rmse:0.38026\tvalidation_1-rmse:0.28128\n",
      "[100]\tvalidation_0-rmse:0.15499\tvalidation_1-rmse:0.10962\n"
     ]
    },
    {
     "name": "stderr",
     "output_type": "stream",
     "text": [
      "/Users/unimportantnotes/opt/anaconda3/lib/python3.9/site-packages/xgboost/core.py:160: UserWarning: [12:05:52] WARNING: /Users/runner/work/xgboost/xgboost/src/objective/regression_obj.cu:209: reg:linear is now deprecated in favor of reg:squarederror.\n",
      "  warnings.warn(smsg, UserWarning)\n"
     ]
    },
    {
     "name": "stdout",
     "output_type": "stream",
     "text": [
      "[200]\tvalidation_0-rmse:0.06378\tvalidation_1-rmse:0.04097\n",
      "[300]\tvalidation_0-rmse:0.02719\tvalidation_1-rmse:0.01784\n",
      "[400]\tvalidation_0-rmse:0.01310\tvalidation_1-rmse:0.01589\n",
      "[429]\tvalidation_0-rmse:0.01112\tvalidation_1-rmse:0.01627\n",
      "[0]\tvalidation_0-rmse:0.49184\tvalidation_1-rmse:0.48897\n",
      "[100]\tvalidation_0-rmse:0.19946\tvalidation_1-rmse:0.19659\n",
      "[200]\tvalidation_0-rmse:0.08091\tvalidation_1-rmse:0.07803\n",
      "[300]\tvalidation_0-rmse:0.03286\tvalidation_1-rmse:0.03037\n",
      "[400]\tvalidation_0-rmse:0.01336\tvalidation_1-rmse:0.01181\n"
     ]
    },
    {
     "name": "stderr",
     "output_type": "stream",
     "text": [
      "/Users/unimportantnotes/opt/anaconda3/lib/python3.9/site-packages/xgboost/core.py:160: UserWarning: [12:05:52] WARNING: /Users/runner/work/xgboost/xgboost/src/objective/regression_obj.cu:209: reg:linear is now deprecated in favor of reg:squarederror.\n",
      "  warnings.warn(smsg, UserWarning)\n"
     ]
    },
    {
     "name": "stdout",
     "output_type": "stream",
     "text": [
      "[500]\tvalidation_0-rmse:0.00544\tvalidation_1-rmse:0.00465\n",
      "[600]\tvalidation_0-rmse:0.00222\tvalidation_1-rmse:0.00184\n",
      "[700]\tvalidation_0-rmse:0.00093\tvalidation_1-rmse:0.00084\n",
      "[800]\tvalidation_0-rmse:0.00042\tvalidation_1-rmse:0.00064\n",
      "[887]\tvalidation_0-rmse:0.00027\tvalidation_1-rmse:0.00065\n",
      "[0]\tvalidation_0-rmse:0.37869\tvalidation_1-rmse:0.29706\n",
      "[100]\tvalidation_0-rmse:0.15605\tvalidation_1-rmse:0.14007\n",
      "[200]\tvalidation_0-rmse:0.06604\tvalidation_1-rmse:0.09561\n"
     ]
    },
    {
     "name": "stderr",
     "output_type": "stream",
     "text": [
      "/Users/unimportantnotes/opt/anaconda3/lib/python3.9/site-packages/xgboost/core.py:160: UserWarning: [12:05:53] WARNING: /Users/runner/work/xgboost/xgboost/src/objective/regression_obj.cu:209: reg:linear is now deprecated in favor of reg:squarederror.\n",
      "  warnings.warn(smsg, UserWarning)\n"
     ]
    },
    {
     "name": "stdout",
     "output_type": "stream",
     "text": [
      "[300]\tvalidation_0-rmse:0.02992\tvalidation_1-rmse:0.08653\n",
      "[400]\tvalidation_0-rmse:0.01599\tvalidation_1-rmse:0.08522\n",
      "[435]\tvalidation_0-rmse:0.01369\tvalidation_1-rmse:0.08570\n",
      "[0]\tvalidation_0-rmse:0.49155\tvalidation_1-rmse:0.48830\n",
      "[100]\tvalidation_0-rmse:0.19935\tvalidation_1-rmse:0.19610\n",
      "[200]\tvalidation_0-rmse:0.08087\tvalidation_1-rmse:0.07763\n",
      "[300]\tvalidation_0-rmse:0.03285\tvalidation_1-rmse:0.03019\n",
      "[400]\tvalidation_0-rmse:0.01336\tvalidation_1-rmse:0.01187\n"
     ]
    },
    {
     "name": "stderr",
     "output_type": "stream",
     "text": [
      "/Users/unimportantnotes/opt/anaconda3/lib/python3.9/site-packages/xgboost/core.py:160: UserWarning: [12:05:53] WARNING: /Users/runner/work/xgboost/xgboost/src/objective/regression_obj.cu:209: reg:linear is now deprecated in favor of reg:squarederror.\n",
      "  warnings.warn(smsg, UserWarning)\n"
     ]
    },
    {
     "name": "stdout",
     "output_type": "stream",
     "text": [
      "[500]\tvalidation_0-rmse:0.00545\tvalidation_1-rmse:0.00464\n",
      "[600]\tvalidation_0-rmse:0.00224\tvalidation_1-rmse:0.00178\n",
      "[700]\tvalidation_0-rmse:0.00094\tvalidation_1-rmse:0.00077\n",
      "[800]\tvalidation_0-rmse:0.00045\tvalidation_1-rmse:0.00057\n",
      "[880]\tvalidation_0-rmse:0.00031\tvalidation_1-rmse:0.00059\n",
      "[0]\tvalidation_0-rmse:0.37963\tvalidation_1-rmse:0.30333\n",
      "[100]\tvalidation_0-rmse:0.15573\tvalidation_1-rmse:0.12051\n",
      "[200]\tvalidation_0-rmse:0.06527\tvalidation_1-rmse:0.05354\n"
     ]
    },
    {
     "name": "stderr",
     "output_type": "stream",
     "text": [
      "/Users/unimportantnotes/opt/anaconda3/lib/python3.9/site-packages/xgboost/core.py:160: UserWarning: [12:05:54] WARNING: /Users/runner/work/xgboost/xgboost/src/objective/regression_obj.cu:209: reg:linear is now deprecated in favor of reg:squarederror.\n",
      "  warnings.warn(smsg, UserWarning)\n"
     ]
    },
    {
     "name": "stdout",
     "output_type": "stream",
     "text": [
      "[300]\tvalidation_0-rmse:0.02948\tvalidation_1-rmse:0.04012\n",
      "[400]\tvalidation_0-rmse:0.01661\tvalidation_1-rmse:0.04050\n",
      "[414]\tvalidation_0-rmse:0.01571\tvalidation_1-rmse:0.04079\n",
      "[0]\tvalidation_0-rmse:0.49070\tvalidation_1-rmse:0.48562\n",
      "[100]\tvalidation_0-rmse:0.19902\tvalidation_1-rmse:0.19397\n",
      "[200]\tvalidation_0-rmse:0.08077\tvalidation_1-rmse:0.07610\n",
      "[300]\tvalidation_0-rmse:0.03282\tvalidation_1-rmse:0.02997\n"
     ]
    },
    {
     "name": "stderr",
     "output_type": "stream",
     "text": [
      "/Users/unimportantnotes/opt/anaconda3/lib/python3.9/site-packages/xgboost/core.py:160: UserWarning: [12:05:54] WARNING: /Users/runner/work/xgboost/xgboost/src/objective/regression_obj.cu:209: reg:linear is now deprecated in favor of reg:squarederror.\n",
      "  warnings.warn(smsg, UserWarning)\n"
     ]
    },
    {
     "name": "stdout",
     "output_type": "stream",
     "text": [
      "[400]\tvalidation_0-rmse:0.01335\tvalidation_1-rmse:0.01290\n",
      "[500]\tvalidation_0-rmse:0.00544\tvalidation_1-rmse:0.00646\n",
      "[600]\tvalidation_0-rmse:0.00223\tvalidation_1-rmse:0.00414\n",
      "[700]\tvalidation_0-rmse:0.00093\tvalidation_1-rmse:0.00342\n",
      "[800]\tvalidation_0-rmse:0.00043\tvalidation_1-rmse:0.00318\n",
      "[900]\tvalidation_0-rmse:0.00026\tvalidation_1-rmse:0.00308\n",
      "[999]\tvalidation_0-rmse:0.00022\tvalidation_1-rmse:0.00304\n",
      "[0]\tvalidation_0-rmse:0.37902\tvalidation_1-rmse:0.33466\n",
      "[100]\tvalidation_0-rmse:0.15494\tvalidation_1-rmse:0.13828\n",
      "[200]\tvalidation_0-rmse:0.06448\tvalidation_1-rmse:0.07461\n"
     ]
    },
    {
     "name": "stderr",
     "output_type": "stream",
     "text": [
      "/Users/unimportantnotes/opt/anaconda3/lib/python3.9/site-packages/xgboost/core.py:160: UserWarning: [12:05:55] WARNING: /Users/runner/work/xgboost/xgboost/src/objective/regression_obj.cu:209: reg:linear is now deprecated in favor of reg:squarederror.\n",
      "  warnings.warn(smsg, UserWarning)\n"
     ]
    },
    {
     "name": "stdout",
     "output_type": "stream",
     "text": [
      "[300]\tvalidation_0-rmse:0.02841\tvalidation_1-rmse:0.05616\n",
      "[396]\tvalidation_0-rmse:0.01488\tvalidation_1-rmse:0.05560\n",
      "[0]\tvalidation_0-rmse:0.48834\tvalidation_1-rmse:0.47804\n",
      "[100]\tvalidation_0-rmse:0.19814\tvalidation_1-rmse:0.18807\n",
      "[200]\tvalidation_0-rmse:0.08046\tvalidation_1-rmse:0.07520\n",
      "[300]\tvalidation_0-rmse:0.03271\tvalidation_1-rmse:0.02929\n",
      "[400]\tvalidation_0-rmse:0.01335\tvalidation_1-rmse:0.01119\n"
     ]
    },
    {
     "name": "stderr",
     "output_type": "stream",
     "text": [
      "/Users/unimportantnotes/opt/anaconda3/lib/python3.9/site-packages/xgboost/core.py:160: UserWarning: [12:05:55] WARNING: /Users/runner/work/xgboost/xgboost/src/objective/regression_obj.cu:209: reg:linear is now deprecated in favor of reg:squarederror.\n",
      "  warnings.warn(smsg, UserWarning)\n"
     ]
    },
    {
     "name": "stdout",
     "output_type": "stream",
     "text": [
      "[500]\tvalidation_0-rmse:0.00548\tvalidation_1-rmse:0.00670\n",
      "[600]\tvalidation_0-rmse:0.00228\tvalidation_1-rmse:0.00632\n",
      "[623]\tvalidation_0-rmse:0.00187\tvalidation_1-rmse:0.00649\n",
      "[0]\tvalidation_0-rmse:0.39304\tvalidation_1-rmse:0.37550\n",
      "[100]\tvalidation_0-rmse:0.16002\tvalidation_1-rmse:0.15409\n"
     ]
    },
    {
     "name": "stderr",
     "output_type": "stream",
     "text": [
      "/Users/unimportantnotes/opt/anaconda3/lib/python3.9/site-packages/xgboost/core.py:160: UserWarning: [12:05:56] WARNING: /Users/runner/work/xgboost/xgboost/src/objective/regression_obj.cu:209: reg:linear is now deprecated in favor of reg:squarederror.\n",
      "  warnings.warn(smsg, UserWarning)\n"
     ]
    },
    {
     "name": "stdout",
     "output_type": "stream",
     "text": [
      "[200]\tvalidation_0-rmse:0.06565\tvalidation_1-rmse:0.06707\n",
      "[300]\tvalidation_0-rmse:0.02788\tvalidation_1-rmse:0.04084\n",
      "[400]\tvalidation_0-rmse:0.01325\tvalidation_1-rmse:0.03769\n",
      "[449]\tvalidation_0-rmse:0.00998\tvalidation_1-rmse:0.03792\n",
      "[0]\tvalidation_0-rmse:0.48856\tvalidation_1-rmse:0.47828\n",
      "[100]\tvalidation_0-rmse:0.19823\tvalidation_1-rmse:0.18816\n",
      "[200]\tvalidation_0-rmse:0.08050\tvalidation_1-rmse:0.07516\n",
      "[300]\tvalidation_0-rmse:0.03273\tvalidation_1-rmse:0.02928\n"
     ]
    },
    {
     "name": "stderr",
     "output_type": "stream",
     "text": [
      "/Users/unimportantnotes/opt/anaconda3/lib/python3.9/site-packages/xgboost/core.py:160: UserWarning: [12:05:56] WARNING: /Users/runner/work/xgboost/xgboost/src/objective/regression_obj.cu:209: reg:linear is now deprecated in favor of reg:squarederror.\n",
      "  warnings.warn(smsg, UserWarning)\n"
     ]
    },
    {
     "name": "stdout",
     "output_type": "stream",
     "text": [
      "[400]\tvalidation_0-rmse:0.01335\tvalidation_1-rmse:0.01099\n",
      "[500]\tvalidation_0-rmse:0.00548\tvalidation_1-rmse:0.00538\n",
      "[600]\tvalidation_0-rmse:0.00229\tvalidation_1-rmse:0.00411\n",
      "[700]\tvalidation_0-rmse:0.00104\tvalidation_1-rmse:0.00376\n",
      "[800]\tvalidation_0-rmse:0.00056\tvalidation_1-rmse:0.00376\n",
      "[837]\tvalidation_0-rmse:0.00048\tvalidation_1-rmse:0.00395\n",
      "[0]\tvalidation_0-rmse:0.39645\tvalidation_1-rmse:0.38720\n",
      "[100]\tvalidation_0-rmse:0.16166\tvalidation_1-rmse:0.15708\n",
      "[200]\tvalidation_0-rmse:0.06679\tvalidation_1-rmse:0.06706\n"
     ]
    },
    {
     "name": "stderr",
     "output_type": "stream",
     "text": [
      "/Users/unimportantnotes/opt/anaconda3/lib/python3.9/site-packages/xgboost/core.py:160: UserWarning: [12:05:57] WARNING: /Users/runner/work/xgboost/xgboost/src/objective/regression_obj.cu:209: reg:linear is now deprecated in favor of reg:squarederror.\n",
      "  warnings.warn(smsg, UserWarning)\n"
     ]
    },
    {
     "name": "stdout",
     "output_type": "stream",
     "text": [
      "[300]\tvalidation_0-rmse:0.02903\tvalidation_1-rmse:0.04559\n",
      "[397]\tvalidation_0-rmse:0.01520\tvalidation_1-rmse:0.04882\n",
      "[0]\tvalidation_0-rmse:0.48964\tvalidation_1-rmse:0.48249\n",
      "[100]\tvalidation_0-rmse:0.19861\tvalidation_1-rmse:0.19157\n",
      "[200]\tvalidation_0-rmse:0.08064\tvalidation_1-rmse:0.07589\n",
      "[300]\tvalidation_0-rmse:0.03278\tvalidation_1-rmse:0.03010\n",
      "[400]\tvalidation_0-rmse:0.01334\tvalidation_1-rmse:0.01204\n"
     ]
    },
    {
     "name": "stderr",
     "output_type": "stream",
     "text": [
      "/Users/unimportantnotes/opt/anaconda3/lib/python3.9/site-packages/xgboost/core.py:160: UserWarning: [12:05:57] WARNING: /Users/runner/work/xgboost/xgboost/src/objective/regression_obj.cu:209: reg:linear is now deprecated in favor of reg:squarederror.\n",
      "  warnings.warn(smsg, UserWarning)\n"
     ]
    },
    {
     "name": "stdout",
     "output_type": "stream",
     "text": [
      "[500]\tvalidation_0-rmse:0.00544\tvalidation_1-rmse:0.00514\n",
      "[600]\tvalidation_0-rmse:0.00224\tvalidation_1-rmse:0.00298\n",
      "[700]\tvalidation_0-rmse:0.00094\tvalidation_1-rmse:0.00238\n",
      "[800]\tvalidation_0-rmse:0.00045\tvalidation_1-rmse:0.00221\n",
      "[900]\tvalidation_0-rmse:0.00030\tvalidation_1-rmse:0.00217\n",
      "[999]\tvalidation_0-rmse:0.00026\tvalidation_1-rmse:0.00217\n",
      "[0]\tvalidation_0-rmse:0.39718\tvalidation_1-rmse:0.37116\n",
      "[100]\tvalidation_0-rmse:0.16146\tvalidation_1-rmse:0.12885\n",
      "[200]\tvalidation_0-rmse:0.06590\tvalidation_1-rmse:0.07650\n"
     ]
    },
    {
     "name": "stderr",
     "output_type": "stream",
     "text": [
      "/Users/unimportantnotes/opt/anaconda3/lib/python3.9/site-packages/xgboost/core.py:160: UserWarning: [12:05:58] WARNING: /Users/runner/work/xgboost/xgboost/src/objective/regression_obj.cu:209: reg:linear is now deprecated in favor of reg:squarederror.\n",
      "  warnings.warn(smsg, UserWarning)\n"
     ]
    },
    {
     "name": "stdout",
     "output_type": "stream",
     "text": [
      "[270]\tvalidation_0-rmse:0.03553\tvalidation_1-rmse:0.08310\n",
      "[0]\tvalidation_0-rmse:0.48982\tvalidation_1-rmse:0.48314\n",
      "[100]\tvalidation_0-rmse:0.19868\tvalidation_1-rmse:0.19209\n",
      "[200]\tvalidation_0-rmse:0.08066\tvalidation_1-rmse:0.07603\n",
      "[300]\tvalidation_0-rmse:0.03278\tvalidation_1-rmse:0.03028\n",
      "[400]\tvalidation_0-rmse:0.01334\tvalidation_1-rmse:0.01225\n"
     ]
    },
    {
     "name": "stderr",
     "output_type": "stream",
     "text": [
      "/Users/unimportantnotes/opt/anaconda3/lib/python3.9/site-packages/xgboost/core.py:160: UserWarning: [12:05:58] WARNING: /Users/runner/work/xgboost/xgboost/src/objective/regression_obj.cu:209: reg:linear is now deprecated in favor of reg:squarederror.\n",
      "  warnings.warn(smsg, UserWarning)\n"
     ]
    },
    {
     "name": "stdout",
     "output_type": "stream",
     "text": [
      "[500]\tvalidation_0-rmse:0.00545\tvalidation_1-rmse:0.00525\n",
      "[600]\tvalidation_0-rmse:0.00225\tvalidation_1-rmse:0.00302\n",
      "[700]\tvalidation_0-rmse:0.00097\tvalidation_1-rmse:0.00230\n",
      "[800]\tvalidation_0-rmse:0.00049\tvalidation_1-rmse:0.00209\n",
      "[900]\tvalidation_0-rmse:0.00035\tvalidation_1-rmse:0.00202\n",
      "[999]\tvalidation_0-rmse:0.00032\tvalidation_1-rmse:0.00201\n",
      "[0]\tvalidation_0-rmse:0.39613\tvalidation_1-rmse:0.35945\n",
      "[100]\tvalidation_0-rmse:0.16107\tvalidation_1-rmse:0.13142\n",
      "[200]\tvalidation_0-rmse:0.06585\tvalidation_1-rmse:0.07586\n"
     ]
    },
    {
     "name": "stderr",
     "output_type": "stream",
     "text": [
      "/Users/unimportantnotes/opt/anaconda3/lib/python3.9/site-packages/xgboost/core.py:160: UserWarning: [12:05:58] WARNING: /Users/runner/work/xgboost/xgboost/src/objective/regression_obj.cu:209: reg:linear is now deprecated in favor of reg:squarederror.\n",
      "  warnings.warn(smsg, UserWarning)\n"
     ]
    },
    {
     "name": "stdout",
     "output_type": "stream",
     "text": [
      "[271]\tvalidation_0-rmse:0.03531\tvalidation_1-rmse:0.08230\n",
      "[0]\tvalidation_0-rmse:0.48952\tvalidation_1-rmse:0.48209\n",
      "[100]\tvalidation_0-rmse:0.19857\tvalidation_1-rmse:0.19125\n",
      "[200]\tvalidation_0-rmse:0.08062\tvalidation_1-rmse:0.07579\n",
      "[300]\tvalidation_0-rmse:0.03277\tvalidation_1-rmse:0.03000\n"
     ]
    },
    {
     "name": "stderr",
     "output_type": "stream",
     "text": [
      "/Users/unimportantnotes/opt/anaconda3/lib/python3.9/site-packages/xgboost/core.py:160: UserWarning: [12:05:59] WARNING: /Users/runner/work/xgboost/xgboost/src/objective/regression_obj.cu:209: reg:linear is now deprecated in favor of reg:squarederror.\n",
      "  warnings.warn(smsg, UserWarning)\n"
     ]
    },
    {
     "name": "stdout",
     "output_type": "stream",
     "text": [
      "[400]\tvalidation_0-rmse:0.01334\tvalidation_1-rmse:0.01191\n",
      "[500]\tvalidation_0-rmse:0.00544\tvalidation_1-rmse:0.00513\n",
      "[600]\tvalidation_0-rmse:0.00223\tvalidation_1-rmse:0.00302\n",
      "[700]\tvalidation_0-rmse:0.00094\tvalidation_1-rmse:0.00245\n",
      "[800]\tvalidation_0-rmse:0.00044\tvalidation_1-rmse:0.00230\n",
      "[900]\tvalidation_0-rmse:0.00029\tvalidation_1-rmse:0.00226\n",
      "[999]\tvalidation_0-rmse:0.00025\tvalidation_1-rmse:0.00226\n",
      "[0]\tvalidation_0-rmse:0.39719\tvalidation_1-rmse:0.37683\n",
      "[100]\tvalidation_0-rmse:0.16149\tvalidation_1-rmse:0.13800\n",
      "[200]\tvalidation_0-rmse:0.06597\tvalidation_1-rmse:0.08232\n"
     ]
    },
    {
     "name": "stderr",
     "output_type": "stream",
     "text": [
      "/Users/unimportantnotes/opt/anaconda3/lib/python3.9/site-packages/xgboost/core.py:160: UserWarning: [12:05:59] WARNING: /Users/runner/work/xgboost/xgboost/src/objective/regression_obj.cu:209: reg:linear is now deprecated in favor of reg:squarederror.\n",
      "  warnings.warn(smsg, UserWarning)\n"
     ]
    },
    {
     "name": "stdout",
     "output_type": "stream",
     "text": [
      "[285]\tvalidation_0-rmse:0.03133\tvalidation_1-rmse:0.08551\n",
      "[0]\tvalidation_0-rmse:0.48925\tvalidation_1-rmse:0.48127\n",
      "[100]\tvalidation_0-rmse:0.19847\tvalidation_1-rmse:0.19062\n",
      "[200]\tvalidation_0-rmse:0.08059\tvalidation_1-rmse:0.07574\n",
      "[300]\tvalidation_0-rmse:0.03276\tvalidation_1-rmse:0.02992\n",
      "[400]\tvalidation_0-rmse:0.01334\tvalidation_1-rmse:0.01180\n"
     ]
    },
    {
     "name": "stderr",
     "output_type": "stream",
     "text": [
      "/Users/unimportantnotes/opt/anaconda3/lib/python3.9/site-packages/xgboost/core.py:160: UserWarning: [12:06:00] WARNING: /Users/runner/work/xgboost/xgboost/src/objective/regression_obj.cu:209: reg:linear is now deprecated in favor of reg:squarederror.\n",
      "  warnings.warn(smsg, UserWarning)\n"
     ]
    },
    {
     "name": "stdout",
     "output_type": "stream",
     "text": [
      "[500]\tvalidation_0-rmse:0.00545\tvalidation_1-rmse:0.00494\n",
      "[600]\tvalidation_0-rmse:0.00225\tvalidation_1-rmse:0.00291\n",
      "[700]\tvalidation_0-rmse:0.00097\tvalidation_1-rmse:0.00248\n",
      "[773]\tvalidation_0-rmse:0.00058\tvalidation_1-rmse:0.00249\n",
      "[0]\tvalidation_0-rmse:0.39633\tvalidation_1-rmse:0.37302\n",
      "[100]\tvalidation_0-rmse:0.16165\tvalidation_1-rmse:0.14189\n",
      "[200]\tvalidation_0-rmse:0.06682\tvalidation_1-rmse:0.08052\n"
     ]
    },
    {
     "name": "stderr",
     "output_type": "stream",
     "text": [
      "/Users/unimportantnotes/opt/anaconda3/lib/python3.9/site-packages/xgboost/core.py:160: UserWarning: [12:06:00] WARNING: /Users/runner/work/xgboost/xgboost/src/objective/regression_obj.cu:209: reg:linear is now deprecated in favor of reg:squarederror.\n",
      "  warnings.warn(smsg, UserWarning)\n"
     ]
    },
    {
     "name": "stdout",
     "output_type": "stream",
     "text": [
      "[300]\tvalidation_0-rmse:0.02908\tvalidation_1-rmse:0.07941\n",
      "[312]\tvalidation_0-rmse:0.02650\tvalidation_1-rmse:0.07995\n",
      "[0]\tvalidation_0-rmse:0.48898\tvalidation_1-rmse:0.48046\n",
      "[100]\tvalidation_0-rmse:0.19837\tvalidation_1-rmse:0.19000\n",
      "[200]\tvalidation_0-rmse:0.08055\tvalidation_1-rmse:0.07565\n",
      "[300]\tvalidation_0-rmse:0.03274\tvalidation_1-rmse:0.02976\n"
     ]
    },
    {
     "name": "stderr",
     "output_type": "stream",
     "text": [
      "/Users/unimportantnotes/opt/anaconda3/lib/python3.9/site-packages/xgboost/core.py:160: UserWarning: [12:06:00] WARNING: /Users/runner/work/xgboost/xgboost/src/objective/regression_obj.cu:209: reg:linear is now deprecated in favor of reg:squarederror.\n",
      "  warnings.warn(smsg, UserWarning)\n"
     ]
    },
    {
     "name": "stdout",
     "output_type": "stream",
     "text": [
      "[400]\tvalidation_0-rmse:0.01334\tvalidation_1-rmse:0.01165\n",
      "[500]\tvalidation_0-rmse:0.00546\tvalidation_1-rmse:0.00530\n",
      "[600]\tvalidation_0-rmse:0.00226\tvalidation_1-rmse:0.00413\n",
      "[700]\tvalidation_0-rmse:0.00099\tvalidation_1-rmse:0.00380\n",
      "[800]\tvalidation_0-rmse:0.00052\tvalidation_1-rmse:0.00374\n",
      "[900]\tvalidation_0-rmse:0.00038\tvalidation_1-rmse:0.00371\n",
      "[999]\tvalidation_0-rmse:0.00036\tvalidation_1-rmse:0.00369\n",
      "[0]\tvalidation_0-rmse:0.39611\tvalidation_1-rmse:0.36588\n",
      "[100]\tvalidation_0-rmse:0.16134\tvalidation_1-rmse:0.13276\n"
     ]
    },
    {
     "name": "stderr",
     "output_type": "stream",
     "text": [
      "/Users/unimportantnotes/opt/anaconda3/lib/python3.9/site-packages/xgboost/core.py:160: UserWarning: [12:06:01] WARNING: /Users/runner/work/xgboost/xgboost/src/objective/regression_obj.cu:209: reg:linear is now deprecated in favor of reg:squarederror.\n",
      "  warnings.warn(smsg, UserWarning)\n"
     ]
    },
    {
     "name": "stdout",
     "output_type": "stream",
     "text": [
      "[200]\tvalidation_0-rmse:0.06643\tvalidation_1-rmse:0.07739\n",
      "[272]\tvalidation_0-rmse:0.03561\tvalidation_1-rmse:0.08265\n",
      "[0]\tvalidation_0-rmse:0.48875\tvalidation_1-rmse:0.47976\n",
      "[100]\tvalidation_0-rmse:0.19829\tvalidation_1-rmse:0.18948\n",
      "[200]\tvalidation_0-rmse:0.08052\tvalidation_1-rmse:0.07559\n",
      "[300]\tvalidation_0-rmse:0.03273\tvalidation_1-rmse:0.02967\n",
      "[400]\tvalidation_0-rmse:0.01334\tvalidation_1-rmse:0.01146\n"
     ]
    },
    {
     "name": "stderr",
     "output_type": "stream",
     "text": [
      "/Users/unimportantnotes/opt/anaconda3/lib/python3.9/site-packages/xgboost/core.py:160: UserWarning: [12:06:01] WARNING: /Users/runner/work/xgboost/xgboost/src/objective/regression_obj.cu:209: reg:linear is now deprecated in favor of reg:squarederror.\n",
      "  warnings.warn(smsg, UserWarning)\n"
     ]
    },
    {
     "name": "stdout",
     "output_type": "stream",
     "text": [
      "[500]\tvalidation_0-rmse:0.00546\tvalidation_1-rmse:0.00531\n",
      "[600]\tvalidation_0-rmse:0.00226\tvalidation_1-rmse:0.00439\n",
      "[700]\tvalidation_0-rmse:0.00099\tvalidation_1-rmse:0.00411\n",
      "[800]\tvalidation_0-rmse:0.00052\tvalidation_1-rmse:0.00404\n",
      "[900]\tvalidation_0-rmse:0.00039\tvalidation_1-rmse:0.00403\n",
      "[999]\tvalidation_0-rmse:0.00036\tvalidation_1-rmse:0.00401\n",
      "[0]\tvalidation_0-rmse:0.39614\tvalidation_1-rmse:0.36555\n",
      "[100]\tvalidation_0-rmse:0.16128\tvalidation_1-rmse:0.13213\n",
      "[200]\tvalidation_0-rmse:0.06629\tvalidation_1-rmse:0.07469\n"
     ]
    },
    {
     "name": "stderr",
     "output_type": "stream",
     "text": [
      "/Users/unimportantnotes/opt/anaconda3/lib/python3.9/site-packages/xgboost/core.py:160: UserWarning: [12:06:02] WARNING: /Users/runner/work/xgboost/xgboost/src/objective/regression_obj.cu:209: reg:linear is now deprecated in favor of reg:squarederror.\n",
      "  warnings.warn(smsg, UserWarning)\n"
     ]
    },
    {
     "name": "stdout",
     "output_type": "stream",
     "text": [
      "[275]\tvalidation_0-rmse:0.03473\tvalidation_1-rmse:0.08094\n",
      "[0]\tvalidation_0-rmse:0.48836\tvalidation_1-rmse:0.47834\n",
      "[100]\tvalidation_0-rmse:0.19814\tvalidation_1-rmse:0.18835\n",
      "[200]\tvalidation_0-rmse:0.08046\tvalidation_1-rmse:0.07531\n",
      "[300]\tvalidation_0-rmse:0.03271\tvalidation_1-rmse:0.02938\n",
      "[400]\tvalidation_0-rmse:0.01334\tvalidation_1-rmse:0.01108\n"
     ]
    },
    {
     "name": "stderr",
     "output_type": "stream",
     "text": [
      "/Users/unimportantnotes/opt/anaconda3/lib/python3.9/site-packages/xgboost/core.py:160: UserWarning: [12:06:02] WARNING: /Users/runner/work/xgboost/xgboost/src/objective/regression_obj.cu:209: reg:linear is now deprecated in favor of reg:squarederror.\n",
      "  warnings.warn(smsg, UserWarning)\n"
     ]
    },
    {
     "name": "stdout",
     "output_type": "stream",
     "text": [
      "[500]\tvalidation_0-rmse:0.00546\tvalidation_1-rmse:0.00615\n",
      "[600]\tvalidation_0-rmse:0.00226\tvalidation_1-rmse:0.00546\n",
      "[634]\tvalidation_0-rmse:0.00169\tvalidation_1-rmse:0.00552\n",
      "[0]\tvalidation_0-rmse:0.39248\tvalidation_1-rmse:0.36301\n",
      "[100]\tvalidation_0-rmse:0.15989\tvalidation_1-rmse:0.15011\n",
      "[200]\tvalidation_0-rmse:0.06581\tvalidation_1-rmse:0.06308\n"
     ]
    },
    {
     "name": "stderr",
     "output_type": "stream",
     "text": [
      "/Users/unimportantnotes/opt/anaconda3/lib/python3.9/site-packages/xgboost/core.py:160: UserWarning: [12:06:02] WARNING: /Users/runner/work/xgboost/xgboost/src/objective/regression_obj.cu:209: reg:linear is now deprecated in favor of reg:squarederror.\n",
      "  warnings.warn(smsg, UserWarning)\n"
     ]
    },
    {
     "name": "stdout",
     "output_type": "stream",
     "text": [
      "[300]\tvalidation_0-rmse:0.02817\tvalidation_1-rmse:0.04982\n",
      "[341]\tvalidation_0-rmse:0.02046\tvalidation_1-rmse:0.05128\n",
      "[0]\tvalidation_0-rmse:0.49307\tvalidation_1-rmse:0.47953\n",
      "[100]\tvalidation_0-rmse:0.19997\tvalidation_1-rmse:0.18643\n",
      "[200]\tvalidation_0-rmse:0.08113\tvalidation_1-rmse:0.06758\n",
      "[300]\tvalidation_0-rmse:0.03295\tvalidation_1-rmse:0.02538\n",
      "[400]\tvalidation_0-rmse:0.01340\tvalidation_1-rmse:0.00811\n"
     ]
    },
    {
     "name": "stderr",
     "output_type": "stream",
     "text": [
      "/Users/unimportantnotes/opt/anaconda3/lib/python3.9/site-packages/xgboost/core.py:160: UserWarning: [12:06:03] WARNING: /Users/runner/work/xgboost/xgboost/src/objective/regression_obj.cu:209: reg:linear is now deprecated in favor of reg:squarederror.\n",
      "  warnings.warn(smsg, UserWarning)\n"
     ]
    },
    {
     "name": "stdout",
     "output_type": "stream",
     "text": [
      "[500]\tvalidation_0-rmse:0.00546\tvalidation_1-rmse:0.00210\n",
      "[600]\tvalidation_0-rmse:0.00224\tvalidation_1-rmse:0.00195\n",
      "[612]\tvalidation_0-rmse:0.00201\tvalidation_1-rmse:0.00205\n",
      "[0]\tvalidation_0-rmse:0.34006\tvalidation_1-rmse:0.21558\n",
      "[70]\tvalidation_0-rmse:0.18511\tvalidation_1-rmse:0.26686\n",
      "[0]\tvalidation_0-rmse:0.49240\tvalidation_1-rmse:0.48134\n",
      "[100]\tvalidation_0-rmse:0.19970\tvalidation_1-rmse:0.18864\n",
      "[200]\tvalidation_0-rmse:0.08103\tvalidation_1-rmse:0.06997\n"
     ]
    },
    {
     "name": "stderr",
     "output_type": "stream",
     "text": [
      "/Users/unimportantnotes/opt/anaconda3/lib/python3.9/site-packages/xgboost/core.py:160: UserWarning: [12:06:03] WARNING: /Users/runner/work/xgboost/xgboost/src/objective/regression_obj.cu:209: reg:linear is now deprecated in favor of reg:squarederror.\n",
      "  warnings.warn(smsg, UserWarning)\n",
      "/Users/unimportantnotes/opt/anaconda3/lib/python3.9/site-packages/xgboost/core.py:160: UserWarning: [12:06:03] WARNING: /Users/runner/work/xgboost/xgboost/src/objective/regression_obj.cu:209: reg:linear is now deprecated in favor of reg:squarederror.\n",
      "  warnings.warn(smsg, UserWarning)\n"
     ]
    },
    {
     "name": "stdout",
     "output_type": "stream",
     "text": [
      "[300]\tvalidation_0-rmse:0.03292\tvalidation_1-rmse:0.02611\n",
      "[400]\tvalidation_0-rmse:0.01339\tvalidation_1-rmse:0.00867\n",
      "[500]\tvalidation_0-rmse:0.00546\tvalidation_1-rmse:0.00296\n",
      "[600]\tvalidation_0-rmse:0.00225\tvalidation_1-rmse:0.00277\n",
      "[615]\tvalidation_0-rmse:0.00198\tvalidation_1-rmse:0.00287\n",
      "[0]\tvalidation_0-rmse:0.36152\tvalidation_1-rmse:0.22001\n",
      "[100]\tvalidation_0-rmse:0.15083\tvalidation_1-rmse:0.12580\n",
      "[200]\tvalidation_0-rmse:0.06779\tvalidation_1-rmse:0.11078\n"
     ]
    },
    {
     "name": "stderr",
     "output_type": "stream",
     "text": [
      "/Users/unimportantnotes/opt/anaconda3/lib/python3.9/site-packages/xgboost/core.py:160: UserWarning: [12:06:04] WARNING: /Users/runner/work/xgboost/xgboost/src/objective/regression_obj.cu:209: reg:linear is now deprecated in favor of reg:squarederror.\n",
      "  warnings.warn(smsg, UserWarning)\n"
     ]
    },
    {
     "name": "stdout",
     "output_type": "stream",
     "text": [
      "[300]\tvalidation_0-rmse:0.03788\tvalidation_1-rmse:0.10669\n",
      "[400]\tvalidation_0-rmse:0.02842\tvalidation_1-rmse:0.10231\n",
      "[460]\tvalidation_0-rmse:0.02620\tvalidation_1-rmse:0.10329\n",
      "[0]\tvalidation_0-rmse:0.49357\tvalidation_1-rmse:0.46008\n",
      "[100]\tvalidation_0-rmse:0.20021\tvalidation_1-rmse:0.16675\n",
      "[200]\tvalidation_0-rmse:0.08127\tvalidation_1-rmse:0.05569\n",
      "[300]\tvalidation_0-rmse:0.03301\tvalidation_1-rmse:0.01533\n",
      "[400]\tvalidation_0-rmse:0.01343\tvalidation_1-rmse:0.00631\n"
     ]
    },
    {
     "name": "stderr",
     "output_type": "stream",
     "text": [
      "/Users/unimportantnotes/opt/anaconda3/lib/python3.9/site-packages/xgboost/core.py:160: UserWarning: [12:06:04] WARNING: /Users/runner/work/xgboost/xgboost/src/objective/regression_obj.cu:209: reg:linear is now deprecated in favor of reg:squarederror.\n",
      "  warnings.warn(smsg, UserWarning)\n"
     ]
    },
    {
     "name": "stdout",
     "output_type": "stream",
     "text": [
      "[448]\tvalidation_0-rmse:0.00873\tvalidation_1-rmse:0.00874\n",
      "[0]\tvalidation_0-rmse:0.33246\tvalidation_1-rmse:0.31290\n",
      "[100]\tvalidation_0-rmse:0.20248\tvalidation_1-rmse:0.22110\n"
     ]
    },
    {
     "name": "stderr",
     "output_type": "stream",
     "text": [
      "/Users/unimportantnotes/opt/anaconda3/lib/python3.9/site-packages/xgboost/core.py:160: UserWarning: [12:06:04] WARNING: /Users/runner/work/xgboost/xgboost/src/objective/regression_obj.cu:209: reg:linear is now deprecated in favor of reg:squarederror.\n",
      "  warnings.warn(smsg, UserWarning)\n"
     ]
    },
    {
     "name": "stdout",
     "output_type": "stream",
     "text": [
      "[200]\tvalidation_0-rmse:0.16395\tvalidation_1-rmse:0.20756\n",
      "[247]\tvalidation_0-rmse:0.15665\tvalidation_1-rmse:0.21063\n",
      "[0]\tvalidation_0-rmse:0.49350\tvalidation_1-rmse:0.45642\n",
      "[100]\tvalidation_0-rmse:0.20018\tvalidation_1-rmse:0.16316\n",
      "[200]\tvalidation_0-rmse:0.08127\tvalidation_1-rmse:0.05373\n",
      "[300]\tvalidation_0-rmse:0.03301\tvalidation_1-rmse:0.01398\n",
      "[400]\tvalidation_0-rmse:0.01343\tvalidation_1-rmse:0.00836\n"
     ]
    },
    {
     "name": "stderr",
     "output_type": "stream",
     "text": [
      "/Users/unimportantnotes/opt/anaconda3/lib/python3.9/site-packages/xgboost/core.py:160: UserWarning: [12:06:05] WARNING: /Users/runner/work/xgboost/xgboost/src/objective/regression_obj.cu:209: reg:linear is now deprecated in favor of reg:squarederror.\n",
      "  warnings.warn(smsg, UserWarning)\n"
     ]
    },
    {
     "name": "stdout",
     "output_type": "stream",
     "text": [
      "[434]\tvalidation_0-rmse:0.00990\tvalidation_1-rmse:0.01031\n",
      "[0]\tvalidation_0-rmse:0.33853\tvalidation_1-rmse:0.30624\n",
      "[100]\tvalidation_0-rmse:0.21192\tvalidation_1-rmse:0.28627\n",
      "[123]\tvalidation_0-rmse:0.19879\tvalidation_1-rmse:0.28266\n",
      "[0]\tvalidation_0-rmse:0.49358\tvalidation_1-rmse:0.46236\n"
     ]
    },
    {
     "name": "stderr",
     "output_type": "stream",
     "text": [
      "/Users/unimportantnotes/opt/anaconda3/lib/python3.9/site-packages/xgboost/core.py:160: UserWarning: [12:06:05] WARNING: /Users/runner/work/xgboost/xgboost/src/objective/regression_obj.cu:209: reg:linear is now deprecated in favor of reg:squarederror.\n",
      "  warnings.warn(smsg, UserWarning)\n",
      "/Users/unimportantnotes/opt/anaconda3/lib/python3.9/site-packages/xgboost/core.py:160: UserWarning: [12:06:05] WARNING: /Users/runner/work/xgboost/xgboost/src/objective/regression_obj.cu:209: reg:linear is now deprecated in favor of reg:squarederror.\n",
      "  warnings.warn(smsg, UserWarning)\n"
     ]
    },
    {
     "name": "stdout",
     "output_type": "stream",
     "text": [
      "[100]\tvalidation_0-rmse:0.20020\tvalidation_1-rmse:0.16899\n",
      "[200]\tvalidation_0-rmse:0.08127\tvalidation_1-rmse:0.05653\n",
      "[300]\tvalidation_0-rmse:0.03301\tvalidation_1-rmse:0.01584\n",
      "[400]\tvalidation_0-rmse:0.01342\tvalidation_1-rmse:0.00496\n",
      "[455]\tvalidation_0-rmse:0.00820\tvalidation_1-rmse:0.00772\n",
      "[0]\tvalidation_0-rmse:0.38293\tvalidation_1-rmse:0.29865\n",
      "[100]\tvalidation_0-rmse:0.23946\tvalidation_1-rmse:0.21080\n",
      "[200]\tvalidation_0-rmse:0.19740\tvalidation_1-rmse:0.19665\n"
     ]
    },
    {
     "name": "stderr",
     "output_type": "stream",
     "text": [
      "/Users/unimportantnotes/opt/anaconda3/lib/python3.9/site-packages/xgboost/core.py:160: UserWarning: [12:06:05] WARNING: /Users/runner/work/xgboost/xgboost/src/objective/regression_obj.cu:209: reg:linear is now deprecated in favor of reg:squarederror.\n",
      "  warnings.warn(smsg, UserWarning)\n"
     ]
    },
    {
     "name": "stdout",
     "output_type": "stream",
     "text": [
      "[300]\tvalidation_0-rmse:0.18098\tvalidation_1-rmse:0.19254\n",
      "[400]\tvalidation_0-rmse:0.17039\tvalidation_1-rmse:0.19206\n",
      "[467]\tvalidation_0-rmse:0.16555\tvalidation_1-rmse:0.19308\n",
      "[0]\tvalidation_0-rmse:0.49368\tvalidation_1-rmse:0.46669\n",
      "[100]\tvalidation_0-rmse:0.20024\tvalidation_1-rmse:0.17324\n",
      "[200]\tvalidation_0-rmse:0.08127\tvalidation_1-rmse:0.05880\n",
      "[300]\tvalidation_0-rmse:0.03301\tvalidation_1-rmse:0.01773\n",
      "[400]\tvalidation_0-rmse:0.01343\tvalidation_1-rmse:0.00378\n"
     ]
    },
    {
     "name": "stderr",
     "output_type": "stream",
     "text": [
      "/Users/unimportantnotes/opt/anaconda3/lib/python3.9/site-packages/xgboost/core.py:160: UserWarning: [12:06:06] WARNING: /Users/runner/work/xgboost/xgboost/src/objective/regression_obj.cu:209: reg:linear is now deprecated in favor of reg:squarederror.\n",
      "  warnings.warn(smsg, UserWarning)\n"
     ]
    },
    {
     "name": "stdout",
     "output_type": "stream",
     "text": [
      "[478]\tvalidation_0-rmse:0.00668\tvalidation_1-rmse:0.00634\n",
      "[0]\tvalidation_0-rmse:0.35614\tvalidation_1-rmse:0.28161\n",
      "[100]\tvalidation_0-rmse:0.22641\tvalidation_1-rmse:0.20069\n",
      "[200]\tvalidation_0-rmse:0.18629\tvalidation_1-rmse:0.17946\n"
     ]
    },
    {
     "name": "stderr",
     "output_type": "stream",
     "text": [
      "/Users/unimportantnotes/opt/anaconda3/lib/python3.9/site-packages/xgboost/core.py:160: UserWarning: [12:06:06] WARNING: /Users/runner/work/xgboost/xgboost/src/objective/regression_obj.cu:209: reg:linear is now deprecated in favor of reg:squarederror.\n",
      "  warnings.warn(smsg, UserWarning)\n"
     ]
    },
    {
     "name": "stdout",
     "output_type": "stream",
     "text": [
      "[300]\tvalidation_0-rmse:0.17095\tvalidation_1-rmse:0.17899\n",
      "[349]\tvalidation_0-rmse:0.16564\tvalidation_1-rmse:0.17954\n",
      "[0]\tvalidation_0-rmse:0.49368\tvalidation_1-rmse:0.46963\n",
      "[100]\tvalidation_0-rmse:0.20023\tvalidation_1-rmse:0.17617\n",
      "[200]\tvalidation_0-rmse:0.08127\tvalidation_1-rmse:0.06081\n",
      "[300]\tvalidation_0-rmse:0.03300\tvalidation_1-rmse:0.01932\n",
      "[400]\tvalidation_0-rmse:0.01342\tvalidation_1-rmse:0.00363\n"
     ]
    },
    {
     "name": "stderr",
     "output_type": "stream",
     "text": [
      "/Users/unimportantnotes/opt/anaconda3/lib/python3.9/site-packages/xgboost/core.py:160: UserWarning: [12:06:06] WARNING: /Users/runner/work/xgboost/xgboost/src/objective/regression_obj.cu:209: reg:linear is now deprecated in favor of reg:squarederror.\n",
      "  warnings.warn(smsg, UserWarning)\n"
     ]
    },
    {
     "name": "stdout",
     "output_type": "stream",
     "text": [
      "[496]\tvalidation_0-rmse:0.00568\tvalidation_1-rmse:0.00502\n",
      "[0]\tvalidation_0-rmse:0.34371\tvalidation_1-rmse:0.25309\n",
      "[100]\tvalidation_0-rmse:0.21239\tvalidation_1-rmse:0.21336\n",
      "[200]\tvalidation_0-rmse:0.17176\tvalidation_1-rmse:0.20414\n"
     ]
    },
    {
     "name": "stderr",
     "output_type": "stream",
     "text": [
      "/Users/unimportantnotes/opt/anaconda3/lib/python3.9/site-packages/xgboost/core.py:160: UserWarning: [12:06:07] WARNING: /Users/runner/work/xgboost/xgboost/src/objective/regression_obj.cu:209: reg:linear is now deprecated in favor of reg:squarederror.\n",
      "  warnings.warn(smsg, UserWarning)\n"
     ]
    },
    {
     "name": "stdout",
     "output_type": "stream",
     "text": [
      "[300]\tvalidation_0-rmse:0.15680\tvalidation_1-rmse:0.20082\n",
      "[400]\tvalidation_0-rmse:0.14903\tvalidation_1-rmse:0.20062\n",
      "[424]\tvalidation_0-rmse:0.14766\tvalidation_1-rmse:0.20084\n",
      "[0]\tvalidation_0-rmse:0.49373\tvalidation_1-rmse:0.47213\n",
      "[100]\tvalidation_0-rmse:0.20025\tvalidation_1-rmse:0.17864\n",
      "[200]\tvalidation_0-rmse:0.08127\tvalidation_1-rmse:0.06252\n",
      "[300]\tvalidation_0-rmse:0.03300\tvalidation_1-rmse:0.02099\n",
      "[400]\tvalidation_0-rmse:0.01341\tvalidation_1-rmse:0.00467\n"
     ]
    },
    {
     "name": "stderr",
     "output_type": "stream",
     "text": [
      "/Users/unimportantnotes/opt/anaconda3/lib/python3.9/site-packages/xgboost/core.py:160: UserWarning: [12:06:07] WARNING: /Users/runner/work/xgboost/xgboost/src/objective/regression_obj.cu:209: reg:linear is now deprecated in favor of reg:squarederror.\n",
      "  warnings.warn(smsg, UserWarning)\n"
     ]
    },
    {
     "name": "stdout",
     "output_type": "stream",
     "text": [
      "[500]\tvalidation_0-rmse:0.00547\tvalidation_1-rmse:0.00355\n",
      "[519]\tvalidation_0-rmse:0.00462\tvalidation_1-rmse:0.00411\n",
      "[0]\tvalidation_0-rmse:0.32390\tvalidation_1-rmse:0.24160\n",
      "[100]\tvalidation_0-rmse:0.19452\tvalidation_1-rmse:0.20746\n",
      "[200]\tvalidation_0-rmse:0.15625\tvalidation_1-rmse:0.19801\n"
     ]
    },
    {
     "name": "stderr",
     "output_type": "stream",
     "text": [
      "/Users/unimportantnotes/opt/anaconda3/lib/python3.9/site-packages/xgboost/core.py:160: UserWarning: [12:06:07] WARNING: /Users/runner/work/xgboost/xgboost/src/objective/regression_obj.cu:209: reg:linear is now deprecated in favor of reg:squarederror.\n",
      "  warnings.warn(smsg, UserWarning)\n"
     ]
    },
    {
     "name": "stdout",
     "output_type": "stream",
     "text": [
      "[300]\tvalidation_0-rmse:0.14260\tvalidation_1-rmse:0.19642\n",
      "[307]\tvalidation_0-rmse:0.14174\tvalidation_1-rmse:0.19643\n",
      "[0]\tvalidation_0-rmse:0.49325\tvalidation_1-rmse:0.47745\n",
      "[100]\tvalidation_0-rmse:0.20005\tvalidation_1-rmse:0.18424\n",
      "[200]\tvalidation_0-rmse:0.08117\tvalidation_1-rmse:0.06570\n",
      "[300]\tvalidation_0-rmse:0.03296\tvalidation_1-rmse:0.02416\n"
     ]
    },
    {
     "name": "stderr",
     "output_type": "stream",
     "text": [
      "/Users/unimportantnotes/opt/anaconda3/lib/python3.9/site-packages/xgboost/core.py:160: UserWarning: [12:06:08] WARNING: /Users/runner/work/xgboost/xgboost/src/objective/regression_obj.cu:209: reg:linear is now deprecated in favor of reg:squarederror.\n",
      "  warnings.warn(smsg, UserWarning)\n"
     ]
    },
    {
     "name": "stdout",
     "output_type": "stream",
     "text": [
      "[400]\tvalidation_0-rmse:0.01340\tvalidation_1-rmse:0.00722\n",
      "[500]\tvalidation_0-rmse:0.00546\tvalidation_1-rmse:0.00173\n",
      "[575]\tvalidation_0-rmse:0.00279\tvalidation_1-rmse:0.00252\n",
      "[0]\tvalidation_0-rmse:0.38192\tvalidation_1-rmse:0.21995\n",
      "[100]\tvalidation_0-rmse:0.19626\tvalidation_1-rmse:0.17452\n"
     ]
    },
    {
     "name": "stderr",
     "output_type": "stream",
     "text": [
      "/Users/unimportantnotes/opt/anaconda3/lib/python3.9/site-packages/xgboost/core.py:160: UserWarning: [12:06:08] WARNING: /Users/runner/work/xgboost/xgboost/src/objective/regression_obj.cu:209: reg:linear is now deprecated in favor of reg:squarederror.\n",
      "  warnings.warn(smsg, UserWarning)\n"
     ]
    },
    {
     "name": "stdout",
     "output_type": "stream",
     "text": [
      "[182]\tvalidation_0-rmse:0.14068\tvalidation_1-rmse:0.17855\n",
      "[0]\tvalidation_0-rmse:0.49300\tvalidation_1-rmse:0.47778\n",
      "[100]\tvalidation_0-rmse:0.19995\tvalidation_1-rmse:0.18472\n",
      "[200]\tvalidation_0-rmse:0.08113\tvalidation_1-rmse:0.06625\n"
     ]
    },
    {
     "name": "stderr",
     "output_type": "stream",
     "text": [
      "/Users/unimportantnotes/opt/anaconda3/lib/python3.9/site-packages/xgboost/core.py:160: UserWarning: [12:06:08] WARNING: /Users/runner/work/xgboost/xgboost/src/objective/regression_obj.cu:209: reg:linear is now deprecated in favor of reg:squarederror.\n",
      "  warnings.warn(smsg, UserWarning)\n"
     ]
    },
    {
     "name": "stdout",
     "output_type": "stream",
     "text": [
      "[300]\tvalidation_0-rmse:0.03295\tvalidation_1-rmse:0.02476\n",
      "[400]\tvalidation_0-rmse:0.01340\tvalidation_1-rmse:0.00769\n",
      "[500]\tvalidation_0-rmse:0.00545\tvalidation_1-rmse:0.00219\n",
      "[594]\tvalidation_0-rmse:0.00235\tvalidation_1-rmse:0.00256\n",
      "[0]\tvalidation_0-rmse:0.33327\tvalidation_1-rmse:0.21794\n",
      "[100]\tvalidation_0-rmse:0.14951\tvalidation_1-rmse:0.15666\n"
     ]
    },
    {
     "name": "stderr",
     "output_type": "stream",
     "text": [
      "/Users/unimportantnotes/opt/anaconda3/lib/python3.9/site-packages/xgboost/core.py:160: UserWarning: [12:06:09] WARNING: /Users/runner/work/xgboost/xgboost/src/objective/regression_obj.cu:209: reg:linear is now deprecated in favor of reg:squarederror.\n",
      "  warnings.warn(smsg, UserWarning)\n"
     ]
    },
    {
     "name": "stdout",
     "output_type": "stream",
     "text": [
      "[200]\tvalidation_0-rmse:0.08369\tvalidation_1-rmse:0.14641\n",
      "[300]\tvalidation_0-rmse:0.06316\tvalidation_1-rmse:0.14549\n",
      "[328]\tvalidation_0-rmse:0.06061\tvalidation_1-rmse:0.14561\n",
      "[0]\tvalidation_0-rmse:0.49244\tvalidation_1-rmse:0.48034\n",
      "[100]\tvalidation_0-rmse:0.19972\tvalidation_1-rmse:0.18762\n",
      "[200]\tvalidation_0-rmse:0.08104\tvalidation_1-rmse:0.06902\n"
     ]
    },
    {
     "name": "stderr",
     "output_type": "stream",
     "text": [
      "/Users/unimportantnotes/opt/anaconda3/lib/python3.9/site-packages/xgboost/core.py:160: UserWarning: [12:06:10] WARNING: /Users/runner/work/xgboost/xgboost/src/objective/regression_obj.cu:209: reg:linear is now deprecated in favor of reg:squarederror.\n",
      "  warnings.warn(smsg, UserWarning)\n"
     ]
    },
    {
     "name": "stdout",
     "output_type": "stream",
     "text": [
      "[300]\tvalidation_0-rmse:0.03292\tvalidation_1-rmse:0.02552\n",
      "[400]\tvalidation_0-rmse:0.01339\tvalidation_1-rmse:0.00808\n",
      "[500]\tvalidation_0-rmse:0.00545\tvalidation_1-rmse:0.00267\n",
      "[596]\tvalidation_0-rmse:0.00232\tvalidation_1-rmse:0.00297\n",
      "[0]\tvalidation_0-rmse:0.33785\tvalidation_1-rmse:0.21544\n"
     ]
    },
    {
     "name": "stderr",
     "output_type": "stream",
     "text": [
      "/Users/unimportantnotes/opt/anaconda3/lib/python3.9/site-packages/xgboost/core.py:160: UserWarning: [12:06:10] WARNING: /Users/runner/work/xgboost/xgboost/src/objective/regression_obj.cu:209: reg:linear is now deprecated in favor of reg:squarederror.\n",
      "  warnings.warn(smsg, UserWarning)\n"
     ]
    },
    {
     "name": "stdout",
     "output_type": "stream",
     "text": [
      "[100]\tvalidation_0-rmse:0.14024\tvalidation_1-rmse:0.13067\n",
      "[200]\tvalidation_0-rmse:0.06182\tvalidation_1-rmse:0.11648\n",
      "[300]\tvalidation_0-rmse:0.03271\tvalidation_1-rmse:0.11339\n",
      "[400]\tvalidation_0-rmse:0.02217\tvalidation_1-rmse:0.11437\n",
      "[426]\tvalidation_0-rmse:0.02086\tvalidation_1-rmse:0.11495\n",
      "[0]\tvalidation_0-rmse:0.49319\tvalidation_1-rmse:0.45485\n",
      "[100]\tvalidation_0-rmse:0.20008\tvalidation_1-rmse:0.16180\n",
      "[200]\tvalidation_0-rmse:0.08123\tvalidation_1-rmse:0.05548\n"
     ]
    },
    {
     "name": "stderr",
     "output_type": "stream",
     "text": [
      "/Users/unimportantnotes/opt/anaconda3/lib/python3.9/site-packages/xgboost/core.py:160: UserWarning: [12:06:11] WARNING: /Users/runner/work/xgboost/xgboost/src/objective/regression_obj.cu:209: reg:linear is now deprecated in favor of reg:squarederror.\n",
      "  warnings.warn(smsg, UserWarning)\n"
     ]
    },
    {
     "name": "stdout",
     "output_type": "stream",
     "text": [
      "[300]\tvalidation_0-rmse:0.03300\tvalidation_1-rmse:0.01583\n",
      "[400]\tvalidation_0-rmse:0.01343\tvalidation_1-rmse:0.00812\n",
      "[446]\tvalidation_0-rmse:0.00890\tvalidation_1-rmse:0.01023\n",
      "[0]\tvalidation_0-rmse:0.29281\tvalidation_1-rmse:0.30807\n",
      "[100]\tvalidation_0-rmse:0.14645\tvalidation_1-rmse:0.26212\n"
     ]
    },
    {
     "name": "stderr",
     "output_type": "stream",
     "text": [
      "/Users/unimportantnotes/opt/anaconda3/lib/python3.9/site-packages/xgboost/core.py:160: UserWarning: [12:06:11] WARNING: /Users/runner/work/xgboost/xgboost/src/objective/regression_obj.cu:209: reg:linear is now deprecated in favor of reg:squarederror.\n",
      "  warnings.warn(smsg, UserWarning)\n"
     ]
    },
    {
     "name": "stdout",
     "output_type": "stream",
     "text": [
      "[200]\tvalidation_0-rmse:0.09729\tvalidation_1-rmse:0.24920\n",
      "[300]\tvalidation_0-rmse:0.08170\tvalidation_1-rmse:0.24162\n",
      "[383]\tvalidation_0-rmse:0.07590\tvalidation_1-rmse:0.24292\n",
      "[0]\tvalidation_0-rmse:0.49294\tvalidation_1-rmse:0.45000\n",
      "[100]\tvalidation_0-rmse:0.20000\tvalidation_1-rmse:0.15718\n",
      "[200]\tvalidation_0-rmse:0.08120\tvalidation_1-rmse:0.05343\n"
     ]
    },
    {
     "name": "stderr",
     "output_type": "stream",
     "text": [
      "/Users/unimportantnotes/opt/anaconda3/lib/python3.9/site-packages/xgboost/core.py:160: UserWarning: [12:06:12] WARNING: /Users/runner/work/xgboost/xgboost/src/objective/regression_obj.cu:209: reg:linear is now deprecated in favor of reg:squarederror.\n",
      "  warnings.warn(smsg, UserWarning)\n"
     ]
    },
    {
     "name": "stdout",
     "output_type": "stream",
     "text": [
      "[300]\tvalidation_0-rmse:0.03299\tvalidation_1-rmse:0.01512\n",
      "[400]\tvalidation_0-rmse:0.01344\tvalidation_1-rmse:0.01109\n",
      "[428]\tvalidation_0-rmse:0.01046\tvalidation_1-rmse:0.01248\n",
      "[0]\tvalidation_0-rmse:0.28648\tvalidation_1-rmse:0.30777\n",
      "[100]\tvalidation_0-rmse:0.13876\tvalidation_1-rmse:0.26673\n"
     ]
    },
    {
     "name": "stderr",
     "output_type": "stream",
     "text": [
      "/Users/unimportantnotes/opt/anaconda3/lib/python3.9/site-packages/xgboost/core.py:160: UserWarning: [12:06:12] WARNING: /Users/runner/work/xgboost/xgboost/src/objective/regression_obj.cu:209: reg:linear is now deprecated in favor of reg:squarederror.\n",
      "  warnings.warn(smsg, UserWarning)\n"
     ]
    },
    {
     "name": "stdout",
     "output_type": "stream",
     "text": [
      "[200]\tvalidation_0-rmse:0.08865\tvalidation_1-rmse:0.26367\n",
      "[222]\tvalidation_0-rmse:0.08354\tvalidation_1-rmse:0.26428\n",
      "[0]\tvalidation_0-rmse:0.49335\tvalidation_1-rmse:0.45847\n",
      "[100]\tvalidation_0-rmse:0.20013\tvalidation_1-rmse:0.16529\n",
      "[200]\tvalidation_0-rmse:0.08125\tvalidation_1-rmse:0.05667\n"
     ]
    },
    {
     "name": "stderr",
     "output_type": "stream",
     "text": [
      "/Users/unimportantnotes/opt/anaconda3/lib/python3.9/site-packages/xgboost/core.py:160: UserWarning: [12:06:13] WARNING: /Users/runner/work/xgboost/xgboost/src/objective/regression_obj.cu:209: reg:linear is now deprecated in favor of reg:squarederror.\n",
      "  warnings.warn(smsg, UserWarning)\n"
     ]
    },
    {
     "name": "stdout",
     "output_type": "stream",
     "text": [
      "[300]\tvalidation_0-rmse:0.03301\tvalidation_1-rmse:0.01652\n",
      "[400]\tvalidation_0-rmse:0.01344\tvalidation_1-rmse:0.00659\n",
      "[457]\tvalidation_0-rmse:0.00807\tvalidation_1-rmse:0.00894\n",
      "[0]\tvalidation_0-rmse:0.31028\tvalidation_1-rmse:0.31402\n",
      "[100]\tvalidation_0-rmse:0.15367\tvalidation_1-rmse:0.24750\n"
     ]
    },
    {
     "name": "stderr",
     "output_type": "stream",
     "text": [
      "/Users/unimportantnotes/opt/anaconda3/lib/python3.9/site-packages/xgboost/core.py:160: UserWarning: [12:06:13] WARNING: /Users/runner/work/xgboost/xgboost/src/objective/regression_obj.cu:209: reg:linear is now deprecated in favor of reg:squarederror.\n",
      "  warnings.warn(smsg, UserWarning)\n"
     ]
    },
    {
     "name": "stdout",
     "output_type": "stream",
     "text": [
      "[200]\tvalidation_0-rmse:0.10275\tvalidation_1-rmse:0.21664\n",
      "[300]\tvalidation_0-rmse:0.08727\tvalidation_1-rmse:0.19610\n",
      "[400]\tvalidation_0-rmse:0.08040\tvalidation_1-rmse:0.19426\n",
      "[466]\tvalidation_0-rmse:0.07733\tvalidation_1-rmse:0.19618\n",
      "[0]\tvalidation_0-rmse:0.49352\tvalidation_1-rmse:0.46345\n",
      "[100]\tvalidation_0-rmse:0.20018\tvalidation_1-rmse:0.17013\n",
      "[200]\tvalidation_0-rmse:0.08126\tvalidation_1-rmse:0.05871\n",
      "[300]\tvalidation_0-rmse:0.03300\tvalidation_1-rmse:0.01796\n",
      "[400]\tvalidation_0-rmse:0.01342\tvalidation_1-rmse:0.00496\n"
     ]
    },
    {
     "name": "stderr",
     "output_type": "stream",
     "text": [
      "/Users/unimportantnotes/opt/anaconda3/lib/python3.9/site-packages/xgboost/core.py:160: UserWarning: [12:06:14] WARNING: /Users/runner/work/xgboost/xgboost/src/objective/regression_obj.cu:209: reg:linear is now deprecated in favor of reg:squarederror.\n",
      "  warnings.warn(smsg, UserWarning)\n"
     ]
    },
    {
     "name": "stdout",
     "output_type": "stream",
     "text": [
      "[476]\tvalidation_0-rmse:0.00679\tvalidation_1-rmse:0.00706\n",
      "[0]\tvalidation_0-rmse:0.32157\tvalidation_1-rmse:0.30418\n",
      "[100]\tvalidation_0-rmse:0.15476\tvalidation_1-rmse:0.19970\n"
     ]
    },
    {
     "name": "stderr",
     "output_type": "stream",
     "text": [
      "/Users/unimportantnotes/opt/anaconda3/lib/python3.9/site-packages/xgboost/core.py:160: UserWarning: [12:06:14] WARNING: /Users/runner/work/xgboost/xgboost/src/objective/regression_obj.cu:209: reg:linear is now deprecated in favor of reg:squarederror.\n",
      "  warnings.warn(smsg, UserWarning)\n"
     ]
    },
    {
     "name": "stdout",
     "output_type": "stream",
     "text": [
      "[200]\tvalidation_0-rmse:0.09893\tvalidation_1-rmse:0.16653\n",
      "[300]\tvalidation_0-rmse:0.08164\tvalidation_1-rmse:0.15519\n",
      "[400]\tvalidation_0-rmse:0.07432\tvalidation_1-rmse:0.15251\n",
      "[500]\tvalidation_0-rmse:0.07020\tvalidation_1-rmse:0.15031\n",
      "[565]\tvalidation_0-rmse:0.06826\tvalidation_1-rmse:0.15204\n",
      "[0]\tvalidation_0-rmse:0.49361\tvalidation_1-rmse:0.46717\n",
      "[100]\tvalidation_0-rmse:0.20021\tvalidation_1-rmse:0.17377\n",
      "[200]\tvalidation_0-rmse:0.08127\tvalidation_1-rmse:0.06027\n",
      "[300]\tvalidation_0-rmse:0.03300\tvalidation_1-rmse:0.01899\n",
      "[400]\tvalidation_0-rmse:0.01342\tvalidation_1-rmse:0.00414\n"
     ]
    },
    {
     "name": "stderr",
     "output_type": "stream",
     "text": [
      "/Users/unimportantnotes/opt/anaconda3/lib/python3.9/site-packages/xgboost/core.py:160: UserWarning: [12:06:15] WARNING: /Users/runner/work/xgboost/xgboost/src/objective/regression_obj.cu:209: reg:linear is now deprecated in favor of reg:squarederror.\n",
      "  warnings.warn(smsg, UserWarning)\n"
     ]
    },
    {
     "name": "stdout",
     "output_type": "stream",
     "text": [
      "[490]\tvalidation_0-rmse:0.00599\tvalidation_1-rmse:0.00571\n",
      "[0]\tvalidation_0-rmse:0.33580\tvalidation_1-rmse:0.24812\n",
      "[100]\tvalidation_0-rmse:0.15669\tvalidation_1-rmse:0.19437\n"
     ]
    },
    {
     "name": "stderr",
     "output_type": "stream",
     "text": [
      "/Users/unimportantnotes/opt/anaconda3/lib/python3.9/site-packages/xgboost/core.py:160: UserWarning: [12:06:15] WARNING: /Users/runner/work/xgboost/xgboost/src/objective/regression_obj.cu:209: reg:linear is now deprecated in favor of reg:squarederror.\n",
      "  warnings.warn(smsg, UserWarning)\n"
     ]
    },
    {
     "name": "stdout",
     "output_type": "stream",
     "text": [
      "[200]\tvalidation_0-rmse:0.09539\tvalidation_1-rmse:0.18465\n",
      "[276]\tvalidation_0-rmse:0.07937\tvalidation_1-rmse:0.18568\n",
      "[0]\tvalidation_0-rmse:0.49362\tvalidation_1-rmse:0.46958\n",
      "[100]\tvalidation_0-rmse:0.20021\tvalidation_1-rmse:0.17616\n",
      "[200]\tvalidation_0-rmse:0.08126\tvalidation_1-rmse:0.06163\n",
      "[300]\tvalidation_0-rmse:0.03300\tvalidation_1-rmse:0.02016\n"
     ]
    },
    {
     "name": "stderr",
     "output_type": "stream",
     "text": [
      "/Users/unimportantnotes/opt/anaconda3/lib/python3.9/site-packages/xgboost/core.py:160: UserWarning: [12:06:15] WARNING: /Users/runner/work/xgboost/xgboost/src/objective/regression_obj.cu:209: reg:linear is now deprecated in favor of reg:squarederror.\n",
      "  warnings.warn(smsg, UserWarning)\n"
     ]
    },
    {
     "name": "stdout",
     "output_type": "stream",
     "text": [
      "[400]\tvalidation_0-rmse:0.01342\tvalidation_1-rmse:0.00437\n",
      "[500]\tvalidation_0-rmse:0.00547\tvalidation_1-rmse:0.00462\n",
      "[507]\tvalidation_0-rmse:0.00514\tvalidation_1-rmse:0.00482\n",
      "[0]\tvalidation_0-rmse:0.34770\tvalidation_1-rmse:0.25307\n",
      "[100]\tvalidation_0-rmse:0.15830\tvalidation_1-rmse:0.22209\n"
     ]
    },
    {
     "name": "stderr",
     "output_type": "stream",
     "text": [
      "/Users/unimportantnotes/opt/anaconda3/lib/python3.9/site-packages/xgboost/core.py:160: UserWarning: [12:06:16] WARNING: /Users/runner/work/xgboost/xgboost/src/objective/regression_obj.cu:209: reg:linear is now deprecated in favor of reg:squarederror.\n",
      "  warnings.warn(smsg, UserWarning)\n"
     ]
    },
    {
     "name": "stdout",
     "output_type": "stream",
     "text": [
      "[200]\tvalidation_0-rmse:0.09187\tvalidation_1-rmse:0.22227\n",
      "[222]\tvalidation_0-rmse:0.08520\tvalidation_1-rmse:0.22231\n",
      "[0]\tvalidation_0-rmse:0.49324\tvalidation_1-rmse:0.47525\n",
      "[100]\tvalidation_0-rmse:0.20005\tvalidation_1-rmse:0.18205\n",
      "[200]\tvalidation_0-rmse:0.08118\tvalidation_1-rmse:0.06492\n",
      "[300]\tvalidation_0-rmse:0.03297\tvalidation_1-rmse:0.02341\n",
      "[400]\tvalidation_0-rmse:0.01340\tvalidation_1-rmse:0.00665\n"
     ]
    },
    {
     "name": "stderr",
     "output_type": "stream",
     "text": [
      "/Users/unimportantnotes/opt/anaconda3/lib/python3.9/site-packages/xgboost/core.py:160: UserWarning: [12:06:16] WARNING: /Users/runner/work/xgboost/xgboost/src/objective/regression_obj.cu:209: reg:linear is now deprecated in favor of reg:squarederror.\n",
      "  warnings.warn(smsg, UserWarning)\n"
     ]
    },
    {
     "name": "stdout",
     "output_type": "stream",
     "text": [
      "[500]\tvalidation_0-rmse:0.00546\tvalidation_1-rmse:0.00223\n",
      "[560]\tvalidation_0-rmse:0.00320\tvalidation_1-rmse:0.00310\n",
      "[0]\tvalidation_0-rmse:0.34927\tvalidation_1-rmse:0.23074\n",
      "[100]\tvalidation_0-rmse:0.15239\tvalidation_1-rmse:0.15788\n"
     ]
    },
    {
     "name": "stderr",
     "output_type": "stream",
     "text": [
      "/Users/unimportantnotes/opt/anaconda3/lib/python3.9/site-packages/xgboost/core.py:160: UserWarning: [12:06:16] WARNING: /Users/runner/work/xgboost/xgboost/src/objective/regression_obj.cu:209: reg:linear is now deprecated in favor of reg:squarederror.\n",
      "  warnings.warn(smsg, UserWarning)\n"
     ]
    },
    {
     "name": "stdout",
     "output_type": "stream",
     "text": [
      "[200]\tvalidation_0-rmse:0.07903\tvalidation_1-rmse:0.14229\n",
      "[300]\tvalidation_0-rmse:0.05510\tvalidation_1-rmse:0.14099\n",
      "[348]\tvalidation_0-rmse:0.05032\tvalidation_1-rmse:0.14371\n",
      "[0]\tvalidation_0-rmse:0.49303\tvalidation_1-rmse:0.48165\n",
      "[100]\tvalidation_0-rmse:0.19995\tvalidation_1-rmse:0.18856\n",
      "[200]\tvalidation_0-rmse:0.08112\tvalidation_1-rmse:0.06971\n",
      "[300]\tvalidation_0-rmse:0.03295\tvalidation_1-rmse:0.02648\n",
      "[400]\tvalidation_0-rmse:0.01340\tvalidation_1-rmse:0.00911\n"
     ]
    },
    {
     "name": "stderr",
     "output_type": "stream",
     "text": [
      "/Users/unimportantnotes/opt/anaconda3/lib/python3.9/site-packages/xgboost/core.py:160: UserWarning: [12:06:17] WARNING: /Users/runner/work/xgboost/xgboost/src/objective/regression_obj.cu:209: reg:linear is now deprecated in favor of reg:squarederror.\n",
      "  warnings.warn(smsg, UserWarning)\n"
     ]
    },
    {
     "name": "stdout",
     "output_type": "stream",
     "text": [
      "[500]\tvalidation_0-rmse:0.00546\tvalidation_1-rmse:0.00273\n",
      "[600]\tvalidation_0-rmse:0.00223\tvalidation_1-rmse:0.00126\n",
      "[668]\tvalidation_0-rmse:0.00123\tvalidation_1-rmse:0.00149\n",
      "[0]\tvalidation_0-rmse:0.35568\tvalidation_1-rmse:0.21816\n",
      "[100]\tvalidation_0-rmse:0.14728\tvalidation_1-rmse:0.14651\n",
      "[200]\tvalidation_0-rmse:0.06431\tvalidation_1-rmse:0.12927\n"
     ]
    },
    {
     "name": "stderr",
     "output_type": "stream",
     "text": [
      "/Users/unimportantnotes/opt/anaconda3/lib/python3.9/site-packages/xgboost/core.py:160: UserWarning: [12:06:17] WARNING: /Users/runner/work/xgboost/xgboost/src/objective/regression_obj.cu:209: reg:linear is now deprecated in favor of reg:squarederror.\n",
      "  warnings.warn(smsg, UserWarning)\n"
     ]
    },
    {
     "name": "stdout",
     "output_type": "stream",
     "text": [
      "[300]\tvalidation_0-rmse:0.03342\tvalidation_1-rmse:0.13260\n",
      "[308]\tvalidation_0-rmse:0.03213\tvalidation_1-rmse:0.13315\n",
      "[0]\tvalidation_0-rmse:0.49228\tvalidation_1-rmse:0.48258\n",
      "[100]\tvalidation_0-rmse:0.19965\tvalidation_1-rmse:0.18995\n",
      "[200]\tvalidation_0-rmse:0.08101\tvalidation_1-rmse:0.07131\n",
      "[300]\tvalidation_0-rmse:0.03291\tvalidation_1-rmse:0.02527\n",
      "[400]\tvalidation_0-rmse:0.01339\tvalidation_1-rmse:0.00744\n"
     ]
    },
    {
     "name": "stderr",
     "output_type": "stream",
     "text": [
      "/Users/unimportantnotes/opt/anaconda3/lib/python3.9/site-packages/xgboost/core.py:160: UserWarning: [12:06:17] WARNING: /Users/runner/work/xgboost/xgboost/src/objective/regression_obj.cu:209: reg:linear is now deprecated in favor of reg:squarederror.\n",
      "  warnings.warn(smsg, UserWarning)\n"
     ]
    },
    {
     "name": "stdout",
     "output_type": "stream",
     "text": [
      "[500]\tvalidation_0-rmse:0.00546\tvalidation_1-rmse:0.00173\n",
      "[573]\tvalidation_0-rmse:0.00285\tvalidation_1-rmse:0.00266\n",
      "[0]\tvalidation_0-rmse:0.36209\tvalidation_1-rmse:0.24518\n",
      "[100]\tvalidation_0-rmse:0.15074\tvalidation_1-rmse:0.13151\n"
     ]
    },
    {
     "name": "stderr",
     "output_type": "stream",
     "text": [
      "/Users/unimportantnotes/opt/anaconda3/lib/python3.9/site-packages/xgboost/core.py:160: UserWarning: [12:06:18] WARNING: /Users/runner/work/xgboost/xgboost/src/objective/regression_obj.cu:209: reg:linear is now deprecated in favor of reg:squarederror.\n",
      "  warnings.warn(smsg, UserWarning)\n"
     ]
    },
    {
     "name": "stdout",
     "output_type": "stream",
     "text": [
      "[200]\tvalidation_0-rmse:0.06709\tvalidation_1-rmse:0.10162\n",
      "[300]\tvalidation_0-rmse:0.03671\tvalidation_1-rmse:0.09593\n",
      "[397]\tvalidation_0-rmse:0.02709\tvalidation_1-rmse:0.09783\n",
      "[0]\tvalidation_0-rmse:0.49377\tvalidation_1-rmse:0.46590\n",
      "[100]\tvalidation_0-rmse:0.20027\tvalidation_1-rmse:0.17241\n",
      "[200]\tvalidation_0-rmse:0.08129\tvalidation_1-rmse:0.05822\n",
      "[300]\tvalidation_0-rmse:0.03301\tvalidation_1-rmse:0.01696\n",
      "[400]\tvalidation_0-rmse:0.01342\tvalidation_1-rmse:0.00391\n"
     ]
    },
    {
     "name": "stderr",
     "output_type": "stream",
     "text": [
      "/Users/unimportantnotes/opt/anaconda3/lib/python3.9/site-packages/xgboost/core.py:160: UserWarning: [12:06:18] WARNING: /Users/runner/work/xgboost/xgboost/src/objective/regression_obj.cu:209: reg:linear is now deprecated in favor of reg:squarederror.\n",
      "  warnings.warn(smsg, UserWarning)\n"
     ]
    },
    {
     "name": "stdout",
     "output_type": "stream",
     "text": [
      "[469]\tvalidation_0-rmse:0.00722\tvalidation_1-rmse:0.00664\n",
      "[0]\tvalidation_0-rmse:0.29256\tvalidation_1-rmse:0.28648\n",
      "[100]\tvalidation_0-rmse:0.14990\tvalidation_1-rmse:0.27823\n",
      "[123]\tvalidation_0-rmse:0.13405\tvalidation_1-rmse:0.27867\n",
      "[0]\tvalidation_0-rmse:0.49378\tvalidation_1-rmse:0.46409\n"
     ]
    },
    {
     "name": "stderr",
     "output_type": "stream",
     "text": [
      "/Users/unimportantnotes/opt/anaconda3/lib/python3.9/site-packages/xgboost/core.py:160: UserWarning: [12:06:19] WARNING: /Users/runner/work/xgboost/xgboost/src/objective/regression_obj.cu:209: reg:linear is now deprecated in favor of reg:squarederror.\n",
      "  warnings.warn(smsg, UserWarning)\n",
      "/Users/unimportantnotes/opt/anaconda3/lib/python3.9/site-packages/xgboost/core.py:160: UserWarning: [12:06:19] WARNING: /Users/runner/work/xgboost/xgboost/src/objective/regression_obj.cu:209: reg:linear is now deprecated in favor of reg:squarederror.\n",
      "  warnings.warn(smsg, UserWarning)\n"
     ]
    },
    {
     "name": "stdout",
     "output_type": "stream",
     "text": [
      "[100]\tvalidation_0-rmse:0.20028\tvalidation_1-rmse:0.17061\n",
      "[200]\tvalidation_0-rmse:0.08130\tvalidation_1-rmse:0.05748\n",
      "[300]\tvalidation_0-rmse:0.03301\tvalidation_1-rmse:0.01638\n",
      "[400]\tvalidation_0-rmse:0.01342\tvalidation_1-rmse:0.00494\n",
      "[461]\tvalidation_0-rmse:0.00776\tvalidation_1-rmse:0.00753\n",
      "[0]\tvalidation_0-rmse:0.26811\tvalidation_1-rmse:0.29936\n",
      "[100]\tvalidation_0-rmse:0.15263\tvalidation_1-rmse:0.29203\n"
     ]
    },
    {
     "name": "stderr",
     "output_type": "stream",
     "text": [
      "/Users/unimportantnotes/opt/anaconda3/lib/python3.9/site-packages/xgboost/core.py:160: UserWarning: [12:06:19] WARNING: /Users/runner/work/xgboost/xgboost/src/objective/regression_obj.cu:209: reg:linear is now deprecated in favor of reg:squarederror.\n",
      "  warnings.warn(smsg, UserWarning)\n"
     ]
    },
    {
     "name": "stdout",
     "output_type": "stream",
     "text": [
      "[200]\tvalidation_0-rmse:0.11687\tvalidation_1-rmse:0.29737\n",
      "[207]\tvalidation_0-rmse:0.11563\tvalidation_1-rmse:0.29824\n",
      "[0]\tvalidation_0-rmse:0.49381\tvalidation_1-rmse:0.46809\n",
      "[100]\tvalidation_0-rmse:0.20028\tvalidation_1-rmse:0.17456\n",
      "[200]\tvalidation_0-rmse:0.08129\tvalidation_1-rmse:0.05967\n",
      "[300]\tvalidation_0-rmse:0.03301\tvalidation_1-rmse:0.01828\n"
     ]
    },
    {
     "name": "stderr",
     "output_type": "stream",
     "text": [
      "/Users/unimportantnotes/opt/anaconda3/lib/python3.9/site-packages/xgboost/core.py:160: UserWarning: [12:06:19] WARNING: /Users/runner/work/xgboost/xgboost/src/objective/regression_obj.cu:209: reg:linear is now deprecated in favor of reg:squarederror.\n",
      "  warnings.warn(smsg, UserWarning)\n"
     ]
    },
    {
     "name": "stdout",
     "output_type": "stream",
     "text": [
      "[400]\tvalidation_0-rmse:0.01341\tvalidation_1-rmse:0.00368\n",
      "[484]\tvalidation_0-rmse:0.00630\tvalidation_1-rmse:0.00582\n",
      "[0]\tvalidation_0-rmse:0.29987\tvalidation_1-rmse:0.27734\n",
      "[100]\tvalidation_0-rmse:0.14790\tvalidation_1-rmse:0.22242\n",
      "[182]\tvalidation_0-rmse:0.10353\tvalidation_1-rmse:0.22714\n"
     ]
    },
    {
     "name": "stderr",
     "output_type": "stream",
     "text": [
      "/Users/unimportantnotes/opt/anaconda3/lib/python3.9/site-packages/xgboost/core.py:160: UserWarning: [12:06:20] WARNING: /Users/runner/work/xgboost/xgboost/src/objective/regression_obj.cu:209: reg:linear is now deprecated in favor of reg:squarederror.\n",
      "  warnings.warn(smsg, UserWarning)\n"
     ]
    },
    {
     "name": "stdout",
     "output_type": "stream",
     "text": [
      "[0]\tvalidation_0-rmse:0.49384\tvalidation_1-rmse:0.47142\n",
      "[100]\tvalidation_0-rmse:0.20029\tvalidation_1-rmse:0.17787\n",
      "[200]\tvalidation_0-rmse:0.08129\tvalidation_1-rmse:0.06174\n",
      "[300]\tvalidation_0-rmse:0.03301\tvalidation_1-rmse:0.02024\n"
     ]
    },
    {
     "name": "stderr",
     "output_type": "stream",
     "text": [
      "/Users/unimportantnotes/opt/anaconda3/lib/python3.9/site-packages/xgboost/core.py:160: UserWarning: [12:06:20] WARNING: /Users/runner/work/xgboost/xgboost/src/objective/regression_obj.cu:209: reg:linear is now deprecated in favor of reg:squarederror.\n",
      "  warnings.warn(smsg, UserWarning)\n"
     ]
    },
    {
     "name": "stdout",
     "output_type": "stream",
     "text": [
      "[400]\tvalidation_0-rmse:0.01342\tvalidation_1-rmse:0.00406\n",
      "[500]\tvalidation_0-rmse:0.00547\tvalidation_1-rmse:0.00420\n",
      "[507]\tvalidation_0-rmse:0.00514\tvalidation_1-rmse:0.00445\n",
      "[0]\tvalidation_0-rmse:0.30075\tvalidation_1-rmse:0.24630\n",
      "[100]\tvalidation_0-rmse:0.13834\tvalidation_1-rmse:0.19647\n"
     ]
    },
    {
     "name": "stderr",
     "output_type": "stream",
     "text": [
      "/Users/unimportantnotes/opt/anaconda3/lib/python3.9/site-packages/xgboost/core.py:160: UserWarning: [12:06:20] WARNING: /Users/runner/work/xgboost/xgboost/src/objective/regression_obj.cu:209: reg:linear is now deprecated in favor of reg:squarederror.\n",
      "  warnings.warn(smsg, UserWarning)\n"
     ]
    },
    {
     "name": "stdout",
     "output_type": "stream",
     "text": [
      "[200]\tvalidation_0-rmse:0.08135\tvalidation_1-rmse:0.18409\n",
      "[300]\tvalidation_0-rmse:0.06370\tvalidation_1-rmse:0.17881\n",
      "[400]\tvalidation_0-rmse:0.05743\tvalidation_1-rmse:0.17618\n",
      "[500]\tvalidation_0-rmse:0.05439\tvalidation_1-rmse:0.17596\n",
      "[547]\tvalidation_0-rmse:0.05323\tvalidation_1-rmse:0.17628\n",
      "[0]\tvalidation_0-rmse:0.49382\tvalidation_1-rmse:0.47351\n",
      "[100]\tvalidation_0-rmse:0.20028\tvalidation_1-rmse:0.17997\n",
      "[200]\tvalidation_0-rmse:0.08128\tvalidation_1-rmse:0.06312\n"
     ]
    },
    {
     "name": "stderr",
     "output_type": "stream",
     "text": [
      "/Users/unimportantnotes/opt/anaconda3/lib/python3.9/site-packages/xgboost/core.py:160: UserWarning: [12:06:21] WARNING: /Users/runner/work/xgboost/xgboost/src/objective/regression_obj.cu:209: reg:linear is now deprecated in favor of reg:squarederror.\n",
      "  warnings.warn(smsg, UserWarning)\n"
     ]
    },
    {
     "name": "stdout",
     "output_type": "stream",
     "text": [
      "[300]\tvalidation_0-rmse:0.03300\tvalidation_1-rmse:0.02163\n",
      "[400]\tvalidation_0-rmse:0.01341\tvalidation_1-rmse:0.00505\n",
      "[500]\tvalidation_0-rmse:0.00547\tvalidation_1-rmse:0.00292\n",
      "[528]\tvalidation_0-rmse:0.00426\tvalidation_1-rmse:0.00377\n",
      "[0]\tvalidation_0-rmse:0.31711\tvalidation_1-rmse:0.24401\n",
      "[100]\tvalidation_0-rmse:0.14109\tvalidation_1-rmse:0.22125\n",
      "[153]\tvalidation_0-rmse:0.09916\tvalidation_1-rmse:0.22281\n"
     ]
    },
    {
     "name": "stderr",
     "output_type": "stream",
     "text": [
      "/Users/unimportantnotes/opt/anaconda3/lib/python3.9/site-packages/xgboost/core.py:160: UserWarning: [12:06:21] WARNING: /Users/runner/work/xgboost/xgboost/src/objective/regression_obj.cu:209: reg:linear is now deprecated in favor of reg:squarederror.\n",
      "  warnings.warn(smsg, UserWarning)\n"
     ]
    },
    {
     "name": "stdout",
     "output_type": "stream",
     "text": [
      "[0]\tvalidation_0-rmse:0.49374\tvalidation_1-rmse:0.47574\n",
      "[100]\tvalidation_0-rmse:0.20025\tvalidation_1-rmse:0.18223\n",
      "[200]\tvalidation_0-rmse:0.08126\tvalidation_1-rmse:0.06484\n",
      "[300]\tvalidation_0-rmse:0.03300\tvalidation_1-rmse:0.02328\n",
      "[400]\tvalidation_0-rmse:0.01341\tvalidation_1-rmse:0.00662\n"
     ]
    },
    {
     "name": "stderr",
     "output_type": "stream",
     "text": [
      "/Users/unimportantnotes/opt/anaconda3/lib/python3.9/site-packages/xgboost/core.py:160: UserWarning: [12:06:22] WARNING: /Users/runner/work/xgboost/xgboost/src/objective/regression_obj.cu:209: reg:linear is now deprecated in favor of reg:squarederror.\n",
      "  warnings.warn(smsg, UserWarning)\n"
     ]
    },
    {
     "name": "stdout",
     "output_type": "stream",
     "text": [
      "[500]\tvalidation_0-rmse:0.00547\tvalidation_1-rmse:0.00180\n",
      "[557]\tvalidation_0-rmse:0.00330\tvalidation_1-rmse:0.00280\n",
      "[0]\tvalidation_0-rmse:0.32993\tvalidation_1-rmse:0.22778\n",
      "[100]\tvalidation_0-rmse:0.14225\tvalidation_1-rmse:0.19638\n"
     ]
    },
    {
     "name": "stderr",
     "output_type": "stream",
     "text": [
      "/Users/unimportantnotes/opt/anaconda3/lib/python3.9/site-packages/xgboost/core.py:160: UserWarning: [12:06:22] WARNING: /Users/runner/work/xgboost/xgboost/src/objective/regression_obj.cu:209: reg:linear is now deprecated in favor of reg:squarederror.\n",
      "  warnings.warn(smsg, UserWarning)\n"
     ]
    },
    {
     "name": "stdout",
     "output_type": "stream",
     "text": [
      "[200]\tvalidation_0-rmse:0.07207\tvalidation_1-rmse:0.18450\n",
      "[300]\tvalidation_0-rmse:0.04966\tvalidation_1-rmse:0.18075\n",
      "[349]\tvalidation_0-rmse:0.04554\tvalidation_1-rmse:0.18142\n",
      "[0]\tvalidation_0-rmse:0.49325\tvalidation_1-rmse:0.48001\n",
      "[100]\tvalidation_0-rmse:0.20004\tvalidation_1-rmse:0.18680\n",
      "[200]\tvalidation_0-rmse:0.08116\tvalidation_1-rmse:0.06790\n",
      "[300]\tvalidation_0-rmse:0.03296\tvalidation_1-rmse:0.02560\n",
      "[400]\tvalidation_0-rmse:0.01340\tvalidation_1-rmse:0.00846\n"
     ]
    },
    {
     "name": "stderr",
     "output_type": "stream",
     "text": [
      "/Users/unimportantnotes/opt/anaconda3/lib/python3.9/site-packages/xgboost/core.py:160: UserWarning: [12:06:22] WARNING: /Users/runner/work/xgboost/xgboost/src/objective/regression_obj.cu:209: reg:linear is now deprecated in favor of reg:squarederror.\n",
      "  warnings.warn(smsg, UserWarning)\n"
     ]
    },
    {
     "name": "stdout",
     "output_type": "stream",
     "text": [
      "[500]\tvalidation_0-rmse:0.00546\tvalidation_1-rmse:0.00209\n",
      "[600]\tvalidation_0-rmse:0.00223\tvalidation_1-rmse:0.00163\n",
      "[620]\tvalidation_0-rmse:0.00187\tvalidation_1-rmse:0.00179\n",
      "[0]\tvalidation_0-rmse:0.34551\tvalidation_1-rmse:0.22090\n",
      "[70]\tvalidation_0-rmse:0.18855\tvalidation_1-rmse:0.23145\n",
      "[0]\tvalidation_0-rmse:0.49287\tvalidation_1-rmse:0.48395\n",
      "[100]\tvalidation_0-rmse:0.19988\tvalidation_1-rmse:0.19095\n",
      "[200]\tvalidation_0-rmse:0.08109\tvalidation_1-rmse:0.07214\n"
     ]
    },
    {
     "name": "stderr",
     "output_type": "stream",
     "text": [
      "/Users/unimportantnotes/opt/anaconda3/lib/python3.9/site-packages/xgboost/core.py:160: UserWarning: [12:06:23] WARNING: /Users/runner/work/xgboost/xgboost/src/objective/regression_obj.cu:209: reg:linear is now deprecated in favor of reg:squarederror.\n",
      "  warnings.warn(smsg, UserWarning)\n",
      "/Users/unimportantnotes/opt/anaconda3/lib/python3.9/site-packages/xgboost/core.py:160: UserWarning: [12:06:23] WARNING: /Users/runner/work/xgboost/xgboost/src/objective/regression_obj.cu:209: reg:linear is now deprecated in favor of reg:squarederror.\n",
      "  warnings.warn(smsg, UserWarning)\n"
     ]
    },
    {
     "name": "stdout",
     "output_type": "stream",
     "text": [
      "[300]\tvalidation_0-rmse:0.03293\tvalidation_1-rmse:0.02725\n",
      "[400]\tvalidation_0-rmse:0.01339\tvalidation_1-rmse:0.00971\n",
      "[500]\tvalidation_0-rmse:0.00545\tvalidation_1-rmse:0.00334\n",
      "[600]\tvalidation_0-rmse:0.00222\tvalidation_1-rmse:0.00157\n",
      "[697]\tvalidation_0-rmse:0.00094\tvalidation_1-rmse:0.00163\n",
      "[0]\tvalidation_0-rmse:0.36620\tvalidation_1-rmse:0.22604\n",
      "[100]\tvalidation_0-rmse:0.15296\tvalidation_1-rmse:0.11784\n"
     ]
    },
    {
     "name": "stderr",
     "output_type": "stream",
     "text": [
      "/Users/unimportantnotes/opt/anaconda3/lib/python3.9/site-packages/xgboost/core.py:160: UserWarning: [12:06:23] WARNING: /Users/runner/work/xgboost/xgboost/src/objective/regression_obj.cu:209: reg:linear is now deprecated in favor of reg:squarederror.\n",
      "  warnings.warn(smsg, UserWarning)\n"
     ]
    },
    {
     "name": "stdout",
     "output_type": "stream",
     "text": [
      "[200]\tvalidation_0-rmse:0.06957\tvalidation_1-rmse:0.08658\n",
      "[300]\tvalidation_0-rmse:0.04013\tvalidation_1-rmse:0.07802\n",
      "[400]\tvalidation_0-rmse:0.03115\tvalidation_1-rmse:0.07563\n",
      "[500]\tvalidation_0-rmse:0.02758\tvalidation_1-rmse:0.07488\n",
      "[600]\tvalidation_0-rmse:0.02554\tvalidation_1-rmse:0.07451\n",
      "[660]\tvalidation_0-rmse:0.02468\tvalidation_1-rmse:0.07452\n",
      "[0]\tvalidation_0-rmse:0.49200\tvalidation_1-rmse:0.48342\n",
      "[100]\tvalidation_0-rmse:0.19954\tvalidation_1-rmse:0.19097\n",
      "[200]\tvalidation_0-rmse:0.08097\tvalidation_1-rmse:0.07245\n",
      "[300]\tvalidation_0-rmse:0.03290\tvalidation_1-rmse:0.02643\n"
     ]
    },
    {
     "name": "stderr",
     "output_type": "stream",
     "text": [
      "/Users/unimportantnotes/opt/anaconda3/lib/python3.9/site-packages/xgboost/core.py:160: UserWarning: [12:06:24] WARNING: /Users/runner/work/xgboost/xgboost/src/objective/regression_obj.cu:209: reg:linear is now deprecated in favor of reg:squarederror.\n",
      "  warnings.warn(smsg, UserWarning)\n"
     ]
    },
    {
     "name": "stdout",
     "output_type": "stream",
     "text": [
      "[400]\tvalidation_0-rmse:0.01338\tvalidation_1-rmse:0.00849\n",
      "[500]\tvalidation_0-rmse:0.00545\tvalidation_1-rmse:0.00199\n",
      "[600]\tvalidation_0-rmse:0.00223\tvalidation_1-rmse:0.00195\n",
      "[607]\tvalidation_0-rmse:0.00209\tvalidation_1-rmse:0.00203\n",
      "[0]\tvalidation_0-rmse:0.36089\tvalidation_1-rmse:0.31100\n",
      "[100]\tvalidation_0-rmse:0.15161\tvalidation_1-rmse:0.18349\n"
     ]
    },
    {
     "name": "stderr",
     "output_type": "stream",
     "text": [
      "/Users/unimportantnotes/opt/anaconda3/lib/python3.9/site-packages/xgboost/core.py:160: UserWarning: [12:06:25] WARNING: /Users/runner/work/xgboost/xgboost/src/objective/regression_obj.cu:209: reg:linear is now deprecated in favor of reg:squarederror.\n",
      "  warnings.warn(smsg, UserWarning)\n"
     ]
    },
    {
     "name": "stdout",
     "output_type": "stream",
     "text": [
      "[200]\tvalidation_0-rmse:0.06949\tvalidation_1-rmse:0.14240\n",
      "[300]\tvalidation_0-rmse:0.04003\tvalidation_1-rmse:0.12962\n",
      "[400]\tvalidation_0-rmse:0.02985\tvalidation_1-rmse:0.12921\n",
      "[439]\tvalidation_0-rmse:0.02766\tvalidation_1-rmse:0.12990\n",
      "[0]\tvalidation_0-rmse:0.49383\tvalidation_1-rmse:0.47262\n",
      "[100]\tvalidation_0-rmse:0.20028\tvalidation_1-rmse:0.17907\n",
      "[200]\tvalidation_0-rmse:0.08128\tvalidation_1-rmse:0.06207\n",
      "[300]\tvalidation_0-rmse:0.03300\tvalidation_1-rmse:0.02051\n"
     ]
    },
    {
     "name": "stderr",
     "output_type": "stream",
     "text": [
      "/Users/unimportantnotes/opt/anaconda3/lib/python3.9/site-packages/xgboost/core.py:160: UserWarning: [12:06:25] WARNING: /Users/runner/work/xgboost/xgboost/src/objective/regression_obj.cu:209: reg:linear is now deprecated in favor of reg:squarederror.\n",
      "  warnings.warn(smsg, UserWarning)\n"
     ]
    },
    {
     "name": "stdout",
     "output_type": "stream",
     "text": [
      "[400]\tvalidation_0-rmse:0.01341\tvalidation_1-rmse:0.00415\n",
      "[500]\tvalidation_0-rmse:0.00547\tvalidation_1-rmse:0.00393\n",
      "[511]\tvalidation_0-rmse:0.00495\tvalidation_1-rmse:0.00430\n",
      "[0]\tvalidation_0-rmse:0.30734\tvalidation_1-rmse:0.24767\n",
      "[100]\tvalidation_0-rmse:0.15487\tvalidation_1-rmse:0.19578\n"
     ]
    },
    {
     "name": "stderr",
     "output_type": "stream",
     "text": [
      "/Users/unimportantnotes/opt/anaconda3/lib/python3.9/site-packages/xgboost/core.py:160: UserWarning: [12:06:25] WARNING: /Users/runner/work/xgboost/xgboost/src/objective/regression_obj.cu:209: reg:linear is now deprecated in favor of reg:squarederror.\n",
      "  warnings.warn(smsg, UserWarning)\n"
     ]
    },
    {
     "name": "stdout",
     "output_type": "stream",
     "text": [
      "[200]\tvalidation_0-rmse:0.10537\tvalidation_1-rmse:0.18488\n",
      "[300]\tvalidation_0-rmse:0.08994\tvalidation_1-rmse:0.18479\n",
      "[335]\tvalidation_0-rmse:0.08745\tvalidation_1-rmse:0.18520\n",
      "[0]\tvalidation_0-rmse:0.49378\tvalidation_1-rmse:0.47075\n",
      "[100]\tvalidation_0-rmse:0.20027\tvalidation_1-rmse:0.17722\n",
      "[200]\tvalidation_0-rmse:0.08128\tvalidation_1-rmse:0.06080\n",
      "[300]\tvalidation_0-rmse:0.03300\tvalidation_1-rmse:0.01928\n"
     ]
    },
    {
     "name": "stderr",
     "output_type": "stream",
     "text": [
      "/Users/unimportantnotes/opt/anaconda3/lib/python3.9/site-packages/xgboost/core.py:160: UserWarning: [12:06:26] WARNING: /Users/runner/work/xgboost/xgboost/src/objective/regression_obj.cu:209: reg:linear is now deprecated in favor of reg:squarederror.\n",
      "  warnings.warn(smsg, UserWarning)\n"
     ]
    },
    {
     "name": "stdout",
     "output_type": "stream",
     "text": [
      "[400]\tvalidation_0-rmse:0.01341\tvalidation_1-rmse:0.00341\n",
      "[494]\tvalidation_0-rmse:0.00577\tvalidation_1-rmse:0.00507\n",
      "[0]\tvalidation_0-rmse:0.29744\tvalidation_1-rmse:0.25090\n",
      "[100]\tvalidation_0-rmse:0.15677\tvalidation_1-rmse:0.18514\n"
     ]
    },
    {
     "name": "stderr",
     "output_type": "stream",
     "text": [
      "/Users/unimportantnotes/opt/anaconda3/lib/python3.9/site-packages/xgboost/core.py:160: UserWarning: [12:06:26] WARNING: /Users/runner/work/xgboost/xgboost/src/objective/regression_obj.cu:209: reg:linear is now deprecated in favor of reg:squarederror.\n",
      "  warnings.warn(smsg, UserWarning)\n"
     ]
    },
    {
     "name": "stdout",
     "output_type": "stream",
     "text": [
      "[200]\tvalidation_0-rmse:0.11306\tvalidation_1-rmse:0.16836\n",
      "[300]\tvalidation_0-rmse:0.09979\tvalidation_1-rmse:0.16340\n",
      "[400]\tvalidation_0-rmse:0.09422\tvalidation_1-rmse:0.16211\n",
      "[498]\tvalidation_0-rmse:0.09085\tvalidation_1-rmse:0.16246\n",
      "[0]\tvalidation_0-rmse:0.49383\tvalidation_1-rmse:0.47411\n",
      "[100]\tvalidation_0-rmse:0.20028\tvalidation_1-rmse:0.18055\n",
      "[200]\tvalidation_0-rmse:0.08128\tvalidation_1-rmse:0.06314\n",
      "[300]\tvalidation_0-rmse:0.03300\tvalidation_1-rmse:0.02157\n",
      "[400]\tvalidation_0-rmse:0.01341\tvalidation_1-rmse:0.00497\n"
     ]
    },
    {
     "name": "stderr",
     "output_type": "stream",
     "text": [
      "/Users/unimportantnotes/opt/anaconda3/lib/python3.9/site-packages/xgboost/core.py:160: UserWarning: [12:06:27] WARNING: /Users/runner/work/xgboost/xgboost/src/objective/regression_obj.cu:209: reg:linear is now deprecated in favor of reg:squarederror.\n",
      "  warnings.warn(smsg, UserWarning)\n"
     ]
    },
    {
     "name": "stdout",
     "output_type": "stream",
     "text": [
      "[500]\tvalidation_0-rmse:0.00546\tvalidation_1-rmse:0.00294\n",
      "[526]\tvalidation_0-rmse:0.00433\tvalidation_1-rmse:0.00374\n",
      "[0]\tvalidation_0-rmse:0.31084\tvalidation_1-rmse:0.24424\n",
      "[100]\tvalidation_0-rmse:0.15897\tvalidation_1-rmse:0.17479\n"
     ]
    },
    {
     "name": "stderr",
     "output_type": "stream",
     "text": [
      "/Users/unimportantnotes/opt/anaconda3/lib/python3.9/site-packages/xgboost/core.py:160: UserWarning: [12:06:27] WARNING: /Users/runner/work/xgboost/xgboost/src/objective/regression_obj.cu:209: reg:linear is now deprecated in favor of reg:squarederror.\n",
      "  warnings.warn(smsg, UserWarning)\n"
     ]
    },
    {
     "name": "stdout",
     "output_type": "stream",
     "text": [
      "[200]\tvalidation_0-rmse:0.11040\tvalidation_1-rmse:0.16235\n",
      "[300]\tvalidation_0-rmse:0.09498\tvalidation_1-rmse:0.15757\n",
      "[400]\tvalidation_0-rmse:0.08866\tvalidation_1-rmse:0.15776\n",
      "[418]\tvalidation_0-rmse:0.08786\tvalidation_1-rmse:0.15823\n",
      "[0]\tvalidation_0-rmse:0.49379\tvalidation_1-rmse:0.47629\n",
      "[100]\tvalidation_0-rmse:0.20027\tvalidation_1-rmse:0.18276\n",
      "[200]\tvalidation_0-rmse:0.08127\tvalidation_1-rmse:0.06496\n",
      "[300]\tvalidation_0-rmse:0.03300\tvalidation_1-rmse:0.02337\n"
     ]
    },
    {
     "name": "stderr",
     "output_type": "stream",
     "text": [
      "/Users/unimportantnotes/opt/anaconda3/lib/python3.9/site-packages/xgboost/core.py:160: UserWarning: [12:06:28] WARNING: /Users/runner/work/xgboost/xgboost/src/objective/regression_obj.cu:209: reg:linear is now deprecated in favor of reg:squarederror.\n",
      "  warnings.warn(smsg, UserWarning)\n"
     ]
    },
    {
     "name": "stdout",
     "output_type": "stream",
     "text": [
      "[400]\tvalidation_0-rmse:0.01341\tvalidation_1-rmse:0.00664\n",
      "[500]\tvalidation_0-rmse:0.00546\tvalidation_1-rmse:0.00172\n",
      "[560]\tvalidation_0-rmse:0.00320\tvalidation_1-rmse:0.00288\n",
      "[0]\tvalidation_0-rmse:0.32307\tvalidation_1-rmse:0.23497\n",
      "[100]\tvalidation_0-rmse:0.15493\tvalidation_1-rmse:0.15682\n"
     ]
    },
    {
     "name": "stderr",
     "output_type": "stream",
     "text": [
      "/Users/unimportantnotes/opt/anaconda3/lib/python3.9/site-packages/xgboost/core.py:160: UserWarning: [12:06:28] WARNING: /Users/runner/work/xgboost/xgboost/src/objective/regression_obj.cu:209: reg:linear is now deprecated in favor of reg:squarederror.\n",
      "  warnings.warn(smsg, UserWarning)\n"
     ]
    },
    {
     "name": "stdout",
     "output_type": "stream",
     "text": [
      "[200]\tvalidation_0-rmse:0.09926\tvalidation_1-rmse:0.14999\n",
      "[270]\tvalidation_0-rmse:0.08565\tvalidation_1-rmse:0.15166\n",
      "[0]\tvalidation_0-rmse:0.49369\tvalidation_1-rmse:0.47806\n",
      "[100]\tvalidation_0-rmse:0.20022\tvalidation_1-rmse:0.18458\n",
      "[200]\tvalidation_0-rmse:0.08124\tvalidation_1-rmse:0.06606\n",
      "[300]\tvalidation_0-rmse:0.03299\tvalidation_1-rmse:0.02457\n"
     ]
    },
    {
     "name": "stderr",
     "output_type": "stream",
     "text": [
      "/Users/unimportantnotes/opt/anaconda3/lib/python3.9/site-packages/xgboost/core.py:160: UserWarning: [12:06:29] WARNING: /Users/runner/work/xgboost/xgboost/src/objective/regression_obj.cu:209: reg:linear is now deprecated in favor of reg:squarederror.\n",
      "  warnings.warn(smsg, UserWarning)\n"
     ]
    },
    {
     "name": "stdout",
     "output_type": "stream",
     "text": [
      "[400]\tvalidation_0-rmse:0.01340\tvalidation_1-rmse:0.00782\n",
      "[500]\tvalidation_0-rmse:0.00546\tvalidation_1-rmse:0.00170\n",
      "[592]\tvalidation_0-rmse:0.00241\tvalidation_1-rmse:0.00221\n",
      "[0]\tvalidation_0-rmse:0.33289\tvalidation_1-rmse:0.23042\n",
      "[100]\tvalidation_0-rmse:0.15180\tvalidation_1-rmse:0.13910\n"
     ]
    },
    {
     "name": "stderr",
     "output_type": "stream",
     "text": [
      "/Users/unimportantnotes/opt/anaconda3/lib/python3.9/site-packages/xgboost/core.py:160: UserWarning: [12:06:29] WARNING: /Users/runner/work/xgboost/xgboost/src/objective/regression_obj.cu:209: reg:linear is now deprecated in favor of reg:squarederror.\n",
      "  warnings.warn(smsg, UserWarning)\n"
     ]
    },
    {
     "name": "stdout",
     "output_type": "stream",
     "text": [
      "[200]\tvalidation_0-rmse:0.08835\tvalidation_1-rmse:0.12033\n",
      "[300]\tvalidation_0-rmse:0.06986\tvalidation_1-rmse:0.11913\n",
      "[327]\tvalidation_0-rmse:0.06772\tvalidation_1-rmse:0.12036\n",
      "[0]\tvalidation_0-rmse:0.49352\tvalidation_1-rmse:0.47985\n",
      "[100]\tvalidation_0-rmse:0.20015\tvalidation_1-rmse:0.18647\n",
      "[200]\tvalidation_0-rmse:0.08121\tvalidation_1-rmse:0.06750\n",
      "[300]\tvalidation_0-rmse:0.03298\tvalidation_1-rmse:0.02545\n"
     ]
    },
    {
     "name": "stderr",
     "output_type": "stream",
     "text": [
      "/Users/unimportantnotes/opt/anaconda3/lib/python3.9/site-packages/xgboost/core.py:160: UserWarning: [12:06:30] WARNING: /Users/runner/work/xgboost/xgboost/src/objective/regression_obj.cu:209: reg:linear is now deprecated in favor of reg:squarederror.\n",
      "  warnings.warn(smsg, UserWarning)\n"
     ]
    },
    {
     "name": "stdout",
     "output_type": "stream",
     "text": [
      "[400]\tvalidation_0-rmse:0.01340\tvalidation_1-rmse:0.00858\n",
      "[500]\tvalidation_0-rmse:0.00546\tvalidation_1-rmse:0.00194\n",
      "[600]\tvalidation_0-rmse:0.00224\tvalidation_1-rmse:0.00168\n",
      "[615]\tvalidation_0-rmse:0.00196\tvalidation_1-rmse:0.00183\n",
      "[0]\tvalidation_0-rmse:0.34694\tvalidation_1-rmse:0.22552\n",
      "[100]\tvalidation_0-rmse:0.14824\tvalidation_1-rmse:0.18115\n",
      "[200]\tvalidation_0-rmse:0.07211\tvalidation_1-rmse:0.16750\n"
     ]
    },
    {
     "name": "stderr",
     "output_type": "stream",
     "text": [
      "/Users/unimportantnotes/opt/anaconda3/lib/python3.9/site-packages/xgboost/core.py:160: UserWarning: [12:06:30] WARNING: /Users/runner/work/xgboost/xgboost/src/objective/regression_obj.cu:209: reg:linear is now deprecated in favor of reg:squarederror.\n",
      "  warnings.warn(smsg, UserWarning)\n"
     ]
    },
    {
     "name": "stdout",
     "output_type": "stream",
     "text": [
      "[257]\tvalidation_0-rmse:0.05373\tvalidation_1-rmse:0.17772\n",
      "[0]\tvalidation_0-rmse:0.49309\tvalidation_1-rmse:0.48291\n",
      "[100]\tvalidation_0-rmse:0.19997\tvalidation_1-rmse:0.18978\n",
      "[200]\tvalidation_0-rmse:0.08113\tvalidation_1-rmse:0.07092\n",
      "[300]\tvalidation_0-rmse:0.03295\tvalidation_1-rmse:0.02702\n",
      "[400]\tvalidation_0-rmse:0.01340\tvalidation_1-rmse:0.00968\n"
     ]
    },
    {
     "name": "stderr",
     "output_type": "stream",
     "text": [
      "/Users/unimportantnotes/opt/anaconda3/lib/python3.9/site-packages/xgboost/core.py:160: UserWarning: [12:06:30] WARNING: /Users/runner/work/xgboost/xgboost/src/objective/regression_obj.cu:209: reg:linear is now deprecated in favor of reg:squarederror.\n",
      "  warnings.warn(smsg, UserWarning)\n"
     ]
    },
    {
     "name": "stdout",
     "output_type": "stream",
     "text": [
      "[500]\tvalidation_0-rmse:0.00545\tvalidation_1-rmse:0.00314\n",
      "[600]\tvalidation_0-rmse:0.00222\tvalidation_1-rmse:0.00107\n",
      "[700]\tvalidation_0-rmse:0.00092\tvalidation_1-rmse:0.00113\n",
      "[702]\tvalidation_0-rmse:0.00091\tvalidation_1-rmse:0.00114\n",
      "[0]\tvalidation_0-rmse:0.37070\tvalidation_1-rmse:0.22435\n",
      "[100]\tvalidation_0-rmse:0.15643\tvalidation_1-rmse:0.12647\n"
     ]
    },
    {
     "name": "stderr",
     "output_type": "stream",
     "text": [
      "/Users/unimportantnotes/opt/anaconda3/lib/python3.9/site-packages/xgboost/core.py:160: UserWarning: [12:06:31] WARNING: /Users/runner/work/xgboost/xgboost/src/objective/regression_obj.cu:209: reg:linear is now deprecated in favor of reg:squarederror.\n",
      "  warnings.warn(smsg, UserWarning)\n"
     ]
    },
    {
     "name": "stdout",
     "output_type": "stream",
     "text": [
      "[200]\tvalidation_0-rmse:0.07303\tvalidation_1-rmse:0.10672\n",
      "[300]\tvalidation_0-rmse:0.04443\tvalidation_1-rmse:0.09721\n",
      "[371]\tvalidation_0-rmse:0.03727\tvalidation_1-rmse:0.09745\n",
      "[0]\tvalidation_0-rmse:0.49260\tvalidation_1-rmse:0.48567\n",
      "[100]\tvalidation_0-rmse:0.19977\tvalidation_1-rmse:0.19284\n",
      "[200]\tvalidation_0-rmse:0.08104\tvalidation_1-rmse:0.07409\n",
      "[300]\tvalidation_0-rmse:0.03292\tvalidation_1-rmse:0.02744\n"
     ]
    },
    {
     "name": "stderr",
     "output_type": "stream",
     "text": [
      "/Users/unimportantnotes/opt/anaconda3/lib/python3.9/site-packages/xgboost/core.py:160: UserWarning: [12:06:31] WARNING: /Users/runner/work/xgboost/xgboost/src/objective/regression_obj.cu:209: reg:linear is now deprecated in favor of reg:squarederror.\n",
      "  warnings.warn(smsg, UserWarning)\n"
     ]
    },
    {
     "name": "stdout",
     "output_type": "stream",
     "text": [
      "[400]\tvalidation_0-rmse:0.01339\tvalidation_1-rmse:0.00952\n",
      "[500]\tvalidation_0-rmse:0.00545\tvalidation_1-rmse:0.00306\n",
      "[600]\tvalidation_0-rmse:0.00222\tvalidation_1-rmse:0.00184\n",
      "[654]\tvalidation_0-rmse:0.00138\tvalidation_1-rmse:0.00205\n",
      "[0]\tvalidation_0-rmse:0.36927\tvalidation_1-rmse:0.24033\n",
      "[100]\tvalidation_0-rmse:0.15552\tvalidation_1-rmse:0.11832\n",
      "[200]\tvalidation_0-rmse:0.07160\tvalidation_1-rmse:0.07188\n"
     ]
    },
    {
     "name": "stderr",
     "output_type": "stream",
     "text": [
      "/Users/unimportantnotes/opt/anaconda3/lib/python3.9/site-packages/xgboost/core.py:160: UserWarning: [12:06:32] WARNING: /Users/runner/work/xgboost/xgboost/src/objective/regression_obj.cu:209: reg:linear is now deprecated in favor of reg:squarederror.\n",
      "  warnings.warn(smsg, UserWarning)\n"
     ]
    },
    {
     "name": "stdout",
     "output_type": "stream",
     "text": [
      "[300]\tvalidation_0-rmse:0.04199\tvalidation_1-rmse:0.06286\n",
      "[400]\tvalidation_0-rmse:0.03148\tvalidation_1-rmse:0.06221\n",
      "[448]\tvalidation_0-rmse:0.02884\tvalidation_1-rmse:0.06325\n",
      "[0]\tvalidation_0-rmse:0.49162\tvalidation_1-rmse:0.48395\n",
      "[100]\tvalidation_0-rmse:0.19939\tvalidation_1-rmse:0.19173\n",
      "[200]\tvalidation_0-rmse:0.08092\tvalidation_1-rmse:0.07370\n",
      "[300]\tvalidation_0-rmse:0.03288\tvalidation_1-rmse:0.02775\n",
      "[400]\tvalidation_0-rmse:0.01337\tvalidation_1-rmse:0.00969\n"
     ]
    },
    {
     "name": "stderr",
     "output_type": "stream",
     "text": [
      "/Users/unimportantnotes/opt/anaconda3/lib/python3.9/site-packages/xgboost/core.py:160: UserWarning: [12:06:32] WARNING: /Users/runner/work/xgboost/xgboost/src/objective/regression_obj.cu:209: reg:linear is now deprecated in favor of reg:squarederror.\n",
      "  warnings.warn(smsg, UserWarning)\n"
     ]
    },
    {
     "name": "stdout",
     "output_type": "stream",
     "text": [
      "[500]\tvalidation_0-rmse:0.00545\tvalidation_1-rmse:0.00296\n",
      "[600]\tvalidation_0-rmse:0.00224\tvalidation_1-rmse:0.00136\n",
      "[663]\tvalidation_0-rmse:0.00129\tvalidation_1-rmse:0.00161\n",
      "[0]\tvalidation_0-rmse:0.36912\tvalidation_1-rmse:0.33201\n",
      "[100]\tvalidation_0-rmse:0.15112\tvalidation_1-rmse:0.13912\n",
      "[200]\tvalidation_0-rmse:0.06294\tvalidation_1-rmse:0.06490\n"
     ]
    },
    {
     "name": "stderr",
     "output_type": "stream",
     "text": [
      "/Users/unimportantnotes/opt/anaconda3/lib/python3.9/site-packages/xgboost/core.py:160: UserWarning: [12:06:33] WARNING: /Users/runner/work/xgboost/xgboost/src/objective/regression_obj.cu:209: reg:linear is now deprecated in favor of reg:squarederror.\n",
      "  warnings.warn(smsg, UserWarning)\n"
     ]
    },
    {
     "name": "stdout",
     "output_type": "stream",
     "text": [
      "[300]\tvalidation_0-rmse:0.02794\tvalidation_1-rmse:0.04761\n",
      "[363]\tvalidation_0-rmse:0.01833\tvalidation_1-rmse:0.05107\n",
      "[0]\tvalidation_0-rmse:0.49369\tvalidation_1-rmse:0.47744\n",
      "[100]\tvalidation_0-rmse:0.20022\tvalidation_1-rmse:0.18397\n",
      "[200]\tvalidation_0-rmse:0.08125\tvalidation_1-rmse:0.06570\n",
      "[300]\tvalidation_0-rmse:0.03299\tvalidation_1-rmse:0.02417\n"
     ]
    },
    {
     "name": "stderr",
     "output_type": "stream",
     "text": [
      "/Users/unimportantnotes/opt/anaconda3/lib/python3.9/site-packages/xgboost/core.py:160: UserWarning: [12:06:33] WARNING: /Users/runner/work/xgboost/xgboost/src/objective/regression_obj.cu:209: reg:linear is now deprecated in favor of reg:squarederror.\n",
      "  warnings.warn(smsg, UserWarning)\n"
     ]
    },
    {
     "name": "stdout",
     "output_type": "stream",
     "text": [
      "[400]\tvalidation_0-rmse:0.01341\tvalidation_1-rmse:0.00749\n",
      "[500]\tvalidation_0-rmse:0.00547\tvalidation_1-rmse:0.00207\n",
      "[578]\tvalidation_0-rmse:0.00274\tvalidation_1-rmse:0.00277\n",
      "[0]\tvalidation_0-rmse:0.34959\tvalidation_1-rmse:0.23187\n",
      "[100]\tvalidation_0-rmse:0.17877\tvalidation_1-rmse:0.14447\n"
     ]
    },
    {
     "name": "stderr",
     "output_type": "stream",
     "text": [
      "/Users/unimportantnotes/opt/anaconda3/lib/python3.9/site-packages/xgboost/core.py:160: UserWarning: [12:06:34] WARNING: /Users/runner/work/xgboost/xgboost/src/objective/regression_obj.cu:209: reg:linear is now deprecated in favor of reg:squarederror.\n",
      "  warnings.warn(smsg, UserWarning)\n"
     ]
    },
    {
     "name": "stdout",
     "output_type": "stream",
     "text": [
      "[200]\tvalidation_0-rmse:0.12361\tvalidation_1-rmse:0.14141\n",
      "[238]\tvalidation_0-rmse:0.11490\tvalidation_1-rmse:0.14611\n",
      "[0]\tvalidation_0-rmse:0.49373\tvalidation_1-rmse:0.47628\n",
      "[100]\tvalidation_0-rmse:0.20024\tvalidation_1-rmse:0.18279\n",
      "[200]\tvalidation_0-rmse:0.08125\tvalidation_1-rmse:0.06463\n"
     ]
    },
    {
     "name": "stderr",
     "output_type": "stream",
     "text": [
      "/Users/unimportantnotes/opt/anaconda3/lib/python3.9/site-packages/xgboost/core.py:160: UserWarning: [12:06:34] WARNING: /Users/runner/work/xgboost/xgboost/src/objective/regression_obj.cu:209: reg:linear is now deprecated in favor of reg:squarederror.\n",
      "  warnings.warn(smsg, UserWarning)\n"
     ]
    },
    {
     "name": "stdout",
     "output_type": "stream",
     "text": [
      "[300]\tvalidation_0-rmse:0.03299\tvalidation_1-rmse:0.02309\n",
      "[400]\tvalidation_0-rmse:0.01341\tvalidation_1-rmse:0.00645\n",
      "[500]\tvalidation_0-rmse:0.00547\tvalidation_1-rmse:0.00220\n",
      "[553]\tvalidation_0-rmse:0.00341\tvalidation_1-rmse:0.00323\n",
      "[0]\tvalidation_0-rmse:0.34241\tvalidation_1-rmse:0.23695\n",
      "[100]\tvalidation_0-rmse:0.18952\tvalidation_1-rmse:0.16055\n"
     ]
    },
    {
     "name": "stderr",
     "output_type": "stream",
     "text": [
      "/Users/unimportantnotes/opt/anaconda3/lib/python3.9/site-packages/xgboost/core.py:160: UserWarning: [12:06:35] WARNING: /Users/runner/work/xgboost/xgboost/src/objective/regression_obj.cu:209: reg:linear is now deprecated in favor of reg:squarederror.\n",
      "  warnings.warn(smsg, UserWarning)\n"
     ]
    },
    {
     "name": "stdout",
     "output_type": "stream",
     "text": [
      "[200]\tvalidation_0-rmse:0.14224\tvalidation_1-rmse:0.14128\n",
      "[290]\tvalidation_0-rmse:0.12875\tvalidation_1-rmse:0.14144\n",
      "[0]\tvalidation_0-rmse:0.49369\tvalidation_1-rmse:0.47854\n",
      "[100]\tvalidation_0-rmse:0.20022\tvalidation_1-rmse:0.18506\n",
      "[200]\tvalidation_0-rmse:0.08124\tvalidation_1-rmse:0.06642\n",
      "[300]\tvalidation_0-rmse:0.03299\tvalidation_1-rmse:0.02489\n"
     ]
    },
    {
     "name": "stderr",
     "output_type": "stream",
     "text": [
      "/Users/unimportantnotes/opt/anaconda3/lib/python3.9/site-packages/xgboost/core.py:160: UserWarning: [12:06:36] WARNING: /Users/runner/work/xgboost/xgboost/src/objective/regression_obj.cu:209: reg:linear is now deprecated in favor of reg:squarederror.\n",
      "  warnings.warn(smsg, UserWarning)\n"
     ]
    },
    {
     "name": "stdout",
     "output_type": "stream",
     "text": [
      "[400]\tvalidation_0-rmse:0.01340\tvalidation_1-rmse:0.00819\n",
      "[500]\tvalidation_0-rmse:0.00547\tvalidation_1-rmse:0.00225\n",
      "[598]\tvalidation_0-rmse:0.00230\tvalidation_1-rmse:0.00252\n",
      "[0]\tvalidation_0-rmse:0.35910\tvalidation_1-rmse:0.23163\n",
      "[100]\tvalidation_0-rmse:0.17515\tvalidation_1-rmse:0.14885\n"
     ]
    },
    {
     "name": "stderr",
     "output_type": "stream",
     "text": [
      "/Users/unimportantnotes/opt/anaconda3/lib/python3.9/site-packages/xgboost/core.py:160: UserWarning: [12:06:36] WARNING: /Users/runner/work/xgboost/xgboost/src/objective/regression_obj.cu:209: reg:linear is now deprecated in favor of reg:squarederror.\n",
      "  warnings.warn(smsg, UserWarning)\n"
     ]
    },
    {
     "name": "stdout",
     "output_type": "stream",
     "text": [
      "[200]\tvalidation_0-rmse:0.11285\tvalidation_1-rmse:0.13723\n",
      "[249]\tvalidation_0-rmse:0.10071\tvalidation_1-rmse:0.14260\n",
      "[0]\tvalidation_0-rmse:0.49366\tvalidation_1-rmse:0.48028\n",
      "[100]\tvalidation_0-rmse:0.20021\tvalidation_1-rmse:0.18682\n",
      "[200]\tvalidation_0-rmse:0.08123\tvalidation_1-rmse:0.06783\n"
     ]
    },
    {
     "name": "stderr",
     "output_type": "stream",
     "text": [
      "/Users/unimportantnotes/opt/anaconda3/lib/python3.9/site-packages/xgboost/core.py:160: UserWarning: [12:06:37] WARNING: /Users/runner/work/xgboost/xgboost/src/objective/regression_obj.cu:209: reg:linear is now deprecated in favor of reg:squarederror.\n",
      "  warnings.warn(smsg, UserWarning)\n"
     ]
    },
    {
     "name": "stdout",
     "output_type": "stream",
     "text": [
      "[300]\tvalidation_0-rmse:0.03298\tvalidation_1-rmse:0.02593\n",
      "[400]\tvalidation_0-rmse:0.01340\tvalidation_1-rmse:0.00915\n",
      "[500]\tvalidation_0-rmse:0.00546\tvalidation_1-rmse:0.00261\n",
      "[600]\tvalidation_0-rmse:0.00225\tvalidation_1-rmse:0.00181\n",
      "[633]\tvalidation_0-rmse:0.00169\tvalidation_1-rmse:0.00201\n",
      "[0]\tvalidation_0-rmse:0.35758\tvalidation_1-rmse:0.23048\n",
      "[100]\tvalidation_0-rmse:0.16923\tvalidation_1-rmse:0.13116\n"
     ]
    },
    {
     "name": "stderr",
     "output_type": "stream",
     "text": [
      "/Users/unimportantnotes/opt/anaconda3/lib/python3.9/site-packages/xgboost/core.py:160: UserWarning: [12:06:37] WARNING: /Users/runner/work/xgboost/xgboost/src/objective/regression_obj.cu:209: reg:linear is now deprecated in favor of reg:squarederror.\n",
      "  warnings.warn(smsg, UserWarning)\n"
     ]
    },
    {
     "name": "stdout",
     "output_type": "stream",
     "text": [
      "[200]\tvalidation_0-rmse:0.10397\tvalidation_1-rmse:0.10781\n",
      "[274]\tvalidation_0-rmse:0.08611\tvalidation_1-rmse:0.11194\n",
      "[0]\tvalidation_0-rmse:0.49345\tvalidation_1-rmse:0.48182\n",
      "[100]\tvalidation_0-rmse:0.20012\tvalidation_1-rmse:0.18848\n",
      "[200]\tvalidation_0-rmse:0.08119\tvalidation_1-rmse:0.06953\n",
      "[300]\tvalidation_0-rmse:0.03297\tvalidation_1-rmse:0.02668\n",
      "[400]\tvalidation_0-rmse:0.01340\tvalidation_1-rmse:0.00973\n"
     ]
    },
    {
     "name": "stderr",
     "output_type": "stream",
     "text": [
      "/Users/unimportantnotes/opt/anaconda3/lib/python3.9/site-packages/xgboost/core.py:160: UserWarning: [12:06:38] WARNING: /Users/runner/work/xgboost/xgboost/src/objective/regression_obj.cu:209: reg:linear is now deprecated in favor of reg:squarederror.\n",
      "  warnings.warn(smsg, UserWarning)\n"
     ]
    },
    {
     "name": "stdout",
     "output_type": "stream",
     "text": [
      "[500]\tvalidation_0-rmse:0.00546\tvalidation_1-rmse:0.00297\n",
      "[600]\tvalidation_0-rmse:0.00224\tvalidation_1-rmse:0.00123\n",
      "[688]\tvalidation_0-rmse:0.00103\tvalidation_1-rmse:0.00140\n",
      "[0]\tvalidation_0-rmse:0.37561\tvalidation_1-rmse:0.23069\n",
      "[100]\tvalidation_0-rmse:0.16651\tvalidation_1-rmse:0.13560\n"
     ]
    },
    {
     "name": "stderr",
     "output_type": "stream",
     "text": [
      "/Users/unimportantnotes/opt/anaconda3/lib/python3.9/site-packages/xgboost/core.py:160: UserWarning: [12:06:38] WARNING: /Users/runner/work/xgboost/xgboost/src/objective/regression_obj.cu:209: reg:linear is now deprecated in favor of reg:squarederror.\n",
      "  warnings.warn(smsg, UserWarning)\n"
     ]
    },
    {
     "name": "stdout",
     "output_type": "stream",
     "text": [
      "[200]\tvalidation_0-rmse:0.08820\tvalidation_1-rmse:0.11445\n",
      "[300]\tvalidation_0-rmse:0.06136\tvalidation_1-rmse:0.11035\n",
      "[400]\tvalidation_0-rmse:0.05236\tvalidation_1-rmse:0.10906\n",
      "[482]\tvalidation_0-rmse:0.04874\tvalidation_1-rmse:0.11029\n",
      "[0]\tvalidation_0-rmse:0.49326\tvalidation_1-rmse:0.48306\n",
      "[100]\tvalidation_0-rmse:0.20004\tvalidation_1-rmse:0.18983\n",
      "[200]\tvalidation_0-rmse:0.08115\tvalidation_1-rmse:0.07093\n",
      "[300]\tvalidation_0-rmse:0.03295\tvalidation_1-rmse:0.02735\n"
     ]
    },
    {
     "name": "stderr",
     "output_type": "stream",
     "text": [
      "/Users/unimportantnotes/opt/anaconda3/lib/python3.9/site-packages/xgboost/core.py:160: UserWarning: [12:06:39] WARNING: /Users/runner/work/xgboost/xgboost/src/objective/regression_obj.cu:209: reg:linear is now deprecated in favor of reg:squarederror.\n",
      "  warnings.warn(smsg, UserWarning)\n"
     ]
    },
    {
     "name": "stdout",
     "output_type": "stream",
     "text": [
      "[400]\tvalidation_0-rmse:0.01339\tvalidation_1-rmse:0.01013\n",
      "[500]\tvalidation_0-rmse:0.00545\tvalidation_1-rmse:0.00347\n",
      "[600]\tvalidation_0-rmse:0.00222\tvalidation_1-rmse:0.00124\n",
      "[700]\tvalidation_0-rmse:0.00092\tvalidation_1-rmse:0.00096\n",
      "[741]\tvalidation_0-rmse:0.00064\tvalidation_1-rmse:0.00102\n",
      "[0]\tvalidation_0-rmse:0.36980\tvalidation_1-rmse:0.23094\n",
      "[100]\tvalidation_0-rmse:0.16093\tvalidation_1-rmse:0.13469\n"
     ]
    },
    {
     "name": "stderr",
     "output_type": "stream",
     "text": [
      "/Users/unimportantnotes/opt/anaconda3/lib/python3.9/site-packages/xgboost/core.py:160: UserWarning: [12:06:39] WARNING: /Users/runner/work/xgboost/xgboost/src/objective/regression_obj.cu:209: reg:linear is now deprecated in favor of reg:squarederror.\n",
      "  warnings.warn(smsg, UserWarning)\n"
     ]
    },
    {
     "name": "stdout",
     "output_type": "stream",
     "text": [
      "[200]\tvalidation_0-rmse:0.08160\tvalidation_1-rmse:0.09911\n",
      "[300]\tvalidation_0-rmse:0.05534\tvalidation_1-rmse:0.09209\n",
      "[400]\tvalidation_0-rmse:0.04636\tvalidation_1-rmse:0.09081\n",
      "[498]\tvalidation_0-rmse:0.04281\tvalidation_1-rmse:0.09085\n",
      "[0]\tvalidation_0-rmse:0.49285\tvalidation_1-rmse:0.48513\n",
      "[100]\tvalidation_0-rmse:0.19987\tvalidation_1-rmse:0.19215\n",
      "[200]\tvalidation_0-rmse:0.08108\tvalidation_1-rmse:0.07334\n",
      "[300]\tvalidation_0-rmse:0.03293\tvalidation_1-rmse:0.02755\n",
      "[400]\tvalidation_0-rmse:0.01339\tvalidation_1-rmse:0.00988\n"
     ]
    },
    {
     "name": "stderr",
     "output_type": "stream",
     "text": [
      "/Users/unimportantnotes/opt/anaconda3/lib/python3.9/site-packages/xgboost/core.py:160: UserWarning: [12:06:40] WARNING: /Users/runner/work/xgboost/xgboost/src/objective/regression_obj.cu:209: reg:linear is now deprecated in favor of reg:squarederror.\n",
      "  warnings.warn(smsg, UserWarning)\n"
     ]
    },
    {
     "name": "stdout",
     "output_type": "stream",
     "text": [
      "[500]\tvalidation_0-rmse:0.00545\tvalidation_1-rmse:0.00352\n",
      "[600]\tvalidation_0-rmse:0.00222\tvalidation_1-rmse:0.00190\n",
      "[689]\tvalidation_0-rmse:0.00101\tvalidation_1-rmse:0.00198\n",
      "[0]\tvalidation_0-rmse:0.36957\tvalidation_1-rmse:0.23536\n",
      "[100]\tvalidation_0-rmse:0.15397\tvalidation_1-rmse:0.11540\n"
     ]
    },
    {
     "name": "stderr",
     "output_type": "stream",
     "text": [
      "/Users/unimportantnotes/opt/anaconda3/lib/python3.9/site-packages/xgboost/core.py:160: UserWarning: [12:06:40] WARNING: /Users/runner/work/xgboost/xgboost/src/objective/regression_obj.cu:209: reg:linear is now deprecated in favor of reg:squarederror.\n",
      "  warnings.warn(smsg, UserWarning)\n"
     ]
    },
    {
     "name": "stdout",
     "output_type": "stream",
     "text": [
      "[200]\tvalidation_0-rmse:0.06918\tvalidation_1-rmse:0.07813\n",
      "[300]\tvalidation_0-rmse:0.03901\tvalidation_1-rmse:0.06675\n",
      "[400]\tvalidation_0-rmse:0.02970\tvalidation_1-rmse:0.06472\n",
      "[458]\tvalidation_0-rmse:0.02706\tvalidation_1-rmse:0.06570\n",
      "[0]\tvalidation_0-rmse:0.49229\tvalidation_1-rmse:0.48664\n",
      "[100]\tvalidation_0-rmse:0.19965\tvalidation_1-rmse:0.19399\n",
      "[200]\tvalidation_0-rmse:0.08099\tvalidation_1-rmse:0.07533\n",
      "[300]\tvalidation_0-rmse:0.03290\tvalidation_1-rmse:0.02819\n",
      "[400]\tvalidation_0-rmse:0.01338\tvalidation_1-rmse:0.00995\n"
     ]
    },
    {
     "name": "stderr",
     "output_type": "stream",
     "text": [
      "/Users/unimportantnotes/opt/anaconda3/lib/python3.9/site-packages/xgboost/core.py:160: UserWarning: [12:06:41] WARNING: /Users/runner/work/xgboost/xgboost/src/objective/regression_obj.cu:209: reg:linear is now deprecated in favor of reg:squarederror.\n",
      "  warnings.warn(smsg, UserWarning)\n"
     ]
    },
    {
     "name": "stdout",
     "output_type": "stream",
     "text": [
      "[500]\tvalidation_0-rmse:0.00544\tvalidation_1-rmse:0.00304\n",
      "[600]\tvalidation_0-rmse:0.00222\tvalidation_1-rmse:0.00108\n",
      "[671]\tvalidation_0-rmse:0.00119\tvalidation_1-rmse:0.00137\n",
      "[0]\tvalidation_0-rmse:0.36111\tvalidation_1-rmse:0.25575\n",
      "[100]\tvalidation_0-rmse:0.14865\tvalidation_1-rmse:0.12723\n"
     ]
    },
    {
     "name": "stderr",
     "output_type": "stream",
     "text": [
      "/Users/unimportantnotes/opt/anaconda3/lib/python3.9/site-packages/xgboost/core.py:160: UserWarning: [12:06:41] WARNING: /Users/runner/work/xgboost/xgboost/src/objective/regression_obj.cu:209: reg:linear is now deprecated in favor of reg:squarederror.\n",
      "  warnings.warn(smsg, UserWarning)\n"
     ]
    },
    {
     "name": "stdout",
     "output_type": "stream",
     "text": [
      "[200]\tvalidation_0-rmse:0.06358\tvalidation_1-rmse:0.08787\n",
      "[300]\tvalidation_0-rmse:0.03112\tvalidation_1-rmse:0.07368\n",
      "[400]\tvalidation_0-rmse:0.02000\tvalidation_1-rmse:0.06754\n",
      "[500]\tvalidation_0-rmse:0.01638\tvalidation_1-rmse:0.06488\n",
      "[600]\tvalidation_0-rmse:0.01490\tvalidation_1-rmse:0.06379\n",
      "[673]\tvalidation_0-rmse:0.01421\tvalidation_1-rmse:0.06434\n",
      "[0]\tvalidation_0-rmse:0.49125\tvalidation_1-rmse:0.48417\n",
      "[100]\tvalidation_0-rmse:0.19924\tvalidation_1-rmse:0.19219\n",
      "[200]\tvalidation_0-rmse:0.08087\tvalidation_1-rmse:0.07455\n",
      "[300]\tvalidation_0-rmse:0.03286\tvalidation_1-rmse:0.02863\n",
      "[400]\tvalidation_0-rmse:0.01336\tvalidation_1-rmse:0.01052\n"
     ]
    },
    {
     "name": "stderr",
     "output_type": "stream",
     "text": [
      "/Users/unimportantnotes/opt/anaconda3/lib/python3.9/site-packages/xgboost/core.py:160: UserWarning: [12:06:42] WARNING: /Users/runner/work/xgboost/xgboost/src/objective/regression_obj.cu:209: reg:linear is now deprecated in favor of reg:squarederror.\n",
      "  warnings.warn(smsg, UserWarning)\n"
     ]
    },
    {
     "name": "stdout",
     "output_type": "stream",
     "text": [
      "[500]\tvalidation_0-rmse:0.00545\tvalidation_1-rmse:0.00368\n",
      "[600]\tvalidation_0-rmse:0.00223\tvalidation_1-rmse:0.00155\n",
      "[700]\tvalidation_0-rmse:0.00094\tvalidation_1-rmse:0.00143\n",
      "[724]\tvalidation_0-rmse:0.00077\tvalidation_1-rmse:0.00147\n",
      "[0]\tvalidation_0-rmse:0.37060\tvalidation_1-rmse:0.34311\n",
      "[100]\tvalidation_0-rmse:0.15108\tvalidation_1-rmse:0.13193\n"
     ]
    },
    {
     "name": "stderr",
     "output_type": "stream",
     "text": [
      "/Users/unimportantnotes/opt/anaconda3/lib/python3.9/site-packages/xgboost/core.py:160: UserWarning: [12:06:42] WARNING: /Users/runner/work/xgboost/xgboost/src/objective/regression_obj.cu:209: reg:linear is now deprecated in favor of reg:squarederror.\n",
      "  warnings.warn(smsg, UserWarning)\n"
     ]
    },
    {
     "name": "stdout",
     "output_type": "stream",
     "text": [
      "[200]\tvalidation_0-rmse:0.06221\tvalidation_1-rmse:0.05797\n",
      "[300]\tvalidation_0-rmse:0.02659\tvalidation_1-rmse:0.04337\n",
      "[368]\tvalidation_0-rmse:0.01577\tvalidation_1-rmse:0.04514\n",
      "[0]\tvalidation_0-rmse:0.49367\tvalidation_1-rmse:0.48113\n",
      "[100]\tvalidation_0-rmse:0.20021\tvalidation_1-rmse:0.18766\n",
      "[200]\tvalidation_0-rmse:0.08123\tvalidation_1-rmse:0.06867\n",
      "[300]\tvalidation_0-rmse:0.03298\tvalidation_1-rmse:0.02664\n"
     ]
    },
    {
     "name": "stderr",
     "output_type": "stream",
     "text": [
      "/Users/unimportantnotes/opt/anaconda3/lib/python3.9/site-packages/xgboost/core.py:160: UserWarning: [12:06:43] WARNING: /Users/runner/work/xgboost/xgboost/src/objective/regression_obj.cu:209: reg:linear is now deprecated in favor of reg:squarederror.\n",
      "  warnings.warn(smsg, UserWarning)\n"
     ]
    },
    {
     "name": "stdout",
     "output_type": "stream",
     "text": [
      "[400]\tvalidation_0-rmse:0.01340\tvalidation_1-rmse:0.00983\n",
      "[500]\tvalidation_0-rmse:0.00546\tvalidation_1-rmse:0.00341\n",
      "[600]\tvalidation_0-rmse:0.00225\tvalidation_1-rmse:0.00229\n",
      "[658]\tvalidation_0-rmse:0.00137\tvalidation_1-rmse:0.00247\n",
      "[0]\tvalidation_0-rmse:0.35863\tvalidation_1-rmse:0.23050\n",
      "[100]\tvalidation_0-rmse:0.16867\tvalidation_1-rmse:0.12515\n"
     ]
    },
    {
     "name": "stderr",
     "output_type": "stream",
     "text": [
      "/Users/unimportantnotes/opt/anaconda3/lib/python3.9/site-packages/xgboost/core.py:160: UserWarning: [12:06:43] WARNING: /Users/runner/work/xgboost/xgboost/src/objective/regression_obj.cu:209: reg:linear is now deprecated in favor of reg:squarederror.\n",
      "  warnings.warn(smsg, UserWarning)\n"
     ]
    },
    {
     "name": "stdout",
     "output_type": "stream",
     "text": [
      "[200]\tvalidation_0-rmse:0.10331\tvalidation_1-rmse:0.10230\n",
      "[300]\tvalidation_0-rmse:0.08222\tvalidation_1-rmse:0.10091\n",
      "[320]\tvalidation_0-rmse:0.07995\tvalidation_1-rmse:0.10242\n",
      "[0]\tvalidation_0-rmse:0.49364\tvalidation_1-rmse:0.48015\n",
      "[100]\tvalidation_0-rmse:0.20020\tvalidation_1-rmse:0.18671\n",
      "[200]\tvalidation_0-rmse:0.08123\tvalidation_1-rmse:0.06773\n"
     ]
    },
    {
     "name": "stderr",
     "output_type": "stream",
     "text": [
      "/Users/unimportantnotes/opt/anaconda3/lib/python3.9/site-packages/xgboost/core.py:160: UserWarning: [12:06:44] WARNING: /Users/runner/work/xgboost/xgboost/src/objective/regression_obj.cu:209: reg:linear is now deprecated in favor of reg:squarederror.\n",
      "  warnings.warn(smsg, UserWarning)\n"
     ]
    },
    {
     "name": "stdout",
     "output_type": "stream",
     "text": [
      "[300]\tvalidation_0-rmse:0.03299\tvalidation_1-rmse:0.02615\n",
      "[400]\tvalidation_0-rmse:0.01341\tvalidation_1-rmse:0.00940\n",
      "[500]\tvalidation_0-rmse:0.00548\tvalidation_1-rmse:0.00307\n",
      "[600]\tvalidation_0-rmse:0.00228\tvalidation_1-rmse:0.00229\n",
      "[639]\tvalidation_0-rmse:0.00163\tvalidation_1-rmse:0.00248\n",
      "[0]\tvalidation_0-rmse:0.37015\tvalidation_1-rmse:0.23213\n",
      "[100]\tvalidation_0-rmse:0.19605\tvalidation_1-rmse:0.15161\n"
     ]
    },
    {
     "name": "stderr",
     "output_type": "stream",
     "text": [
      "/Users/unimportantnotes/opt/anaconda3/lib/python3.9/site-packages/xgboost/core.py:160: UserWarning: [12:06:45] WARNING: /Users/runner/work/xgboost/xgboost/src/objective/regression_obj.cu:209: reg:linear is now deprecated in favor of reg:squarederror.\n",
      "  warnings.warn(smsg, UserWarning)\n"
     ]
    },
    {
     "name": "stdout",
     "output_type": "stream",
     "text": [
      "[200]\tvalidation_0-rmse:0.14033\tvalidation_1-rmse:0.13461\n",
      "[300]\tvalidation_0-rmse:0.12124\tvalidation_1-rmse:0.13128\n",
      "[336]\tvalidation_0-rmse:0.11706\tvalidation_1-rmse:0.13844\n",
      "[0]\tvalidation_0-rmse:0.49360\tvalidation_1-rmse:0.48200\n",
      "[100]\tvalidation_0-rmse:0.20018\tvalidation_1-rmse:0.18857\n",
      "[200]\tvalidation_0-rmse:0.08122\tvalidation_1-rmse:0.06959\n"
     ]
    },
    {
     "name": "stderr",
     "output_type": "stream",
     "text": [
      "/Users/unimportantnotes/opt/anaconda3/lib/python3.9/site-packages/xgboost/core.py:160: UserWarning: [12:06:45] WARNING: /Users/runner/work/xgboost/xgboost/src/objective/regression_obj.cu:209: reg:linear is now deprecated in favor of reg:squarederror.\n",
      "  warnings.warn(smsg, UserWarning)\n"
     ]
    },
    {
     "name": "stdout",
     "output_type": "stream",
     "text": [
      "[300]\tvalidation_0-rmse:0.03298\tvalidation_1-rmse:0.02669\n",
      "[400]\tvalidation_0-rmse:0.01340\tvalidation_1-rmse:0.00979\n",
      "[500]\tvalidation_0-rmse:0.00546\tvalidation_1-rmse:0.00346\n",
      "[600]\tvalidation_0-rmse:0.00224\tvalidation_1-rmse:0.00265\n",
      "[647]\tvalidation_0-rmse:0.00148\tvalidation_1-rmse:0.00281\n",
      "[0]\tvalidation_0-rmse:0.37185\tvalidation_1-rmse:0.23162\n",
      "[100]\tvalidation_0-rmse:0.17266\tvalidation_1-rmse:0.12153\n"
     ]
    },
    {
     "name": "stderr",
     "output_type": "stream",
     "text": [
      "/Users/unimportantnotes/opt/anaconda3/lib/python3.9/site-packages/xgboost/core.py:160: UserWarning: [12:06:46] WARNING: /Users/runner/work/xgboost/xgboost/src/objective/regression_obj.cu:209: reg:linear is now deprecated in favor of reg:squarederror.\n",
      "  warnings.warn(smsg, UserWarning)\n"
     ]
    },
    {
     "name": "stdout",
     "output_type": "stream",
     "text": [
      "[200]\tvalidation_0-rmse:0.10129\tvalidation_1-rmse:0.09862\n",
      "[300]\tvalidation_0-rmse:0.07596\tvalidation_1-rmse:0.09794\n",
      "[313]\tvalidation_0-rmse:0.07407\tvalidation_1-rmse:0.09806\n",
      "[0]\tvalidation_0-rmse:0.49333\tvalidation_1-rmse:0.48360\n",
      "[100]\tvalidation_0-rmse:0.20007\tvalidation_1-rmse:0.19033\n",
      "[200]\tvalidation_0-rmse:0.08117\tvalidation_1-rmse:0.07141\n",
      "[300]\tvalidation_0-rmse:0.03296\tvalidation_1-rmse:0.02738\n",
      "[400]\tvalidation_0-rmse:0.01340\tvalidation_1-rmse:0.01014\n"
     ]
    },
    {
     "name": "stderr",
     "output_type": "stream",
     "text": [
      "/Users/unimportantnotes/opt/anaconda3/lib/python3.9/site-packages/xgboost/core.py:160: UserWarning: [12:06:46] WARNING: /Users/runner/work/xgboost/xgboost/src/objective/regression_obj.cu:209: reg:linear is now deprecated in favor of reg:squarederror.\n",
      "  warnings.warn(smsg, UserWarning)\n"
     ]
    },
    {
     "name": "stdout",
     "output_type": "stream",
     "text": [
      "[500]\tvalidation_0-rmse:0.00546\tvalidation_1-rmse:0.00369\n",
      "[600]\tvalidation_0-rmse:0.00223\tvalidation_1-rmse:0.00217\n",
      "[690]\tvalidation_0-rmse:0.00101\tvalidation_1-rmse:0.00225\n",
      "[0]\tvalidation_0-rmse:0.37089\tvalidation_1-rmse:0.23484\n",
      "[100]\tvalidation_0-rmse:0.16321\tvalidation_1-rmse:0.13069\n"
     ]
    },
    {
     "name": "stderr",
     "output_type": "stream",
     "text": [
      "/Users/unimportantnotes/opt/anaconda3/lib/python3.9/site-packages/xgboost/core.py:160: UserWarning: [12:06:46] WARNING: /Users/runner/work/xgboost/xgboost/src/objective/regression_obj.cu:209: reg:linear is now deprecated in favor of reg:squarederror.\n",
      "  warnings.warn(smsg, UserWarning)\n"
     ]
    },
    {
     "name": "stdout",
     "output_type": "stream",
     "text": [
      "[200]\tvalidation_0-rmse:0.08581\tvalidation_1-rmse:0.09906\n",
      "[300]\tvalidation_0-rmse:0.05983\tvalidation_1-rmse:0.09628\n",
      "[339]\tvalidation_0-rmse:0.05499\tvalidation_1-rmse:0.09532\n",
      "[0]\tvalidation_0-rmse:0.49311\tvalidation_1-rmse:0.48469\n",
      "[100]\tvalidation_0-rmse:0.19998\tvalidation_1-rmse:0.19155\n",
      "[200]\tvalidation_0-rmse:0.08112\tvalidation_1-rmse:0.07268\n",
      "[300]\tvalidation_0-rmse:0.03294\tvalidation_1-rmse:0.02750\n",
      "[400]\tvalidation_0-rmse:0.01339\tvalidation_1-rmse:0.00998\n"
     ]
    },
    {
     "name": "stderr",
     "output_type": "stream",
     "text": [
      "/Users/unimportantnotes/opt/anaconda3/lib/python3.9/site-packages/xgboost/core.py:160: UserWarning: [12:06:47] WARNING: /Users/runner/work/xgboost/xgboost/src/objective/regression_obj.cu:209: reg:linear is now deprecated in favor of reg:squarederror.\n",
      "  warnings.warn(smsg, UserWarning)\n"
     ]
    },
    {
     "name": "stdout",
     "output_type": "stream",
     "text": [
      "[500]\tvalidation_0-rmse:0.00545\tvalidation_1-rmse:0.00370\n",
      "[600]\tvalidation_0-rmse:0.00223\tvalidation_1-rmse:0.00228\n",
      "[682]\tvalidation_0-rmse:0.00108\tvalidation_1-rmse:0.00237\n",
      "[0]\tvalidation_0-rmse:0.36318\tvalidation_1-rmse:0.23957\n",
      "[100]\tvalidation_0-rmse:0.15256\tvalidation_1-rmse:0.12513\n"
     ]
    },
    {
     "name": "stderr",
     "output_type": "stream",
     "text": [
      "/Users/unimportantnotes/opt/anaconda3/lib/python3.9/site-packages/xgboost/core.py:160: UserWarning: [12:06:47] WARNING: /Users/runner/work/xgboost/xgboost/src/objective/regression_obj.cu:209: reg:linear is now deprecated in favor of reg:squarederror.\n",
      "  warnings.warn(smsg, UserWarning)\n"
     ]
    },
    {
     "name": "stdout",
     "output_type": "stream",
     "text": [
      "[200]\tvalidation_0-rmse:0.06947\tvalidation_1-rmse:0.09089\n",
      "[300]\tvalidation_0-rmse:0.03938\tvalidation_1-rmse:0.08590\n",
      "[384]\tvalidation_0-rmse:0.03114\tvalidation_1-rmse:0.08586\n",
      "[0]\tvalidation_0-rmse:0.49294\tvalidation_1-rmse:0.48547\n",
      "[100]\tvalidation_0-rmse:0.19991\tvalidation_1-rmse:0.19244\n",
      "[200]\tvalidation_0-rmse:0.08109\tvalidation_1-rmse:0.07361\n",
      "[300]\tvalidation_0-rmse:0.03293\tvalidation_1-rmse:0.02753\n"
     ]
    },
    {
     "name": "stderr",
     "output_type": "stream",
     "text": [
      "/Users/unimportantnotes/opt/anaconda3/lib/python3.9/site-packages/xgboost/core.py:160: UserWarning: [12:06:48] WARNING: /Users/runner/work/xgboost/xgboost/src/objective/regression_obj.cu:209: reg:linear is now deprecated in favor of reg:squarederror.\n",
      "  warnings.warn(smsg, UserWarning)\n"
     ]
    },
    {
     "name": "stdout",
     "output_type": "stream",
     "text": [
      "[400]\tvalidation_0-rmse:0.01339\tvalidation_1-rmse:0.00973\n",
      "[500]\tvalidation_0-rmse:0.00545\tvalidation_1-rmse:0.00346\n",
      "[600]\tvalidation_0-rmse:0.00222\tvalidation_1-rmse:0.00227\n",
      "[667]\tvalidation_0-rmse:0.00123\tvalidation_1-rmse:0.00244\n",
      "[0]\tvalidation_0-rmse:0.36427\tvalidation_1-rmse:0.24223\n",
      "[100]\tvalidation_0-rmse:0.15193\tvalidation_1-rmse:0.12347\n",
      "[200]\tvalidation_0-rmse:0.06844\tvalidation_1-rmse:0.08988\n"
     ]
    },
    {
     "name": "stderr",
     "output_type": "stream",
     "text": [
      "/Users/unimportantnotes/opt/anaconda3/lib/python3.9/site-packages/xgboost/core.py:160: UserWarning: [12:06:48] WARNING: /Users/runner/work/xgboost/xgboost/src/objective/regression_obj.cu:209: reg:linear is now deprecated in favor of reg:squarederror.\n",
      "  warnings.warn(smsg, UserWarning)\n"
     ]
    },
    {
     "name": "stdout",
     "output_type": "stream",
     "text": [
      "[300]\tvalidation_0-rmse:0.03829\tvalidation_1-rmse:0.08676\n",
      "[391]\tvalidation_0-rmse:0.02930\tvalidation_1-rmse:0.08676\n",
      "[0]\tvalidation_0-rmse:0.49262\tvalidation_1-rmse:0.48680\n",
      "[100]\tvalidation_0-rmse:0.19978\tvalidation_1-rmse:0.19396\n",
      "[200]\tvalidation_0-rmse:0.08104\tvalidation_1-rmse:0.07521\n",
      "[300]\tvalidation_0-rmse:0.03291\tvalidation_1-rmse:0.02792\n",
      "[400]\tvalidation_0-rmse:0.01338\tvalidation_1-rmse:0.00987\n"
     ]
    },
    {
     "name": "stderr",
     "output_type": "stream",
     "text": [
      "/Users/unimportantnotes/opt/anaconda3/lib/python3.9/site-packages/xgboost/core.py:160: UserWarning: [12:06:49] WARNING: /Users/runner/work/xgboost/xgboost/src/objective/regression_obj.cu:209: reg:linear is now deprecated in favor of reg:squarederror.\n",
      "  warnings.warn(smsg, UserWarning)\n"
     ]
    },
    {
     "name": "stdout",
     "output_type": "stream",
     "text": [
      "[500]\tvalidation_0-rmse:0.00545\tvalidation_1-rmse:0.00313\n",
      "[600]\tvalidation_0-rmse:0.00222\tvalidation_1-rmse:0.00144\n",
      "[670]\tvalidation_0-rmse:0.00119\tvalidation_1-rmse:0.00167\n",
      "[0]\tvalidation_0-rmse:0.36583\tvalidation_1-rmse:0.25001\n",
      "[100]\tvalidation_0-rmse:0.15342\tvalidation_1-rmse:0.09365\n"
     ]
    },
    {
     "name": "stderr",
     "output_type": "stream",
     "text": [
      "/Users/unimportantnotes/opt/anaconda3/lib/python3.9/site-packages/xgboost/core.py:160: UserWarning: [12:06:49] WARNING: /Users/runner/work/xgboost/xgboost/src/objective/regression_obj.cu:209: reg:linear is now deprecated in favor of reg:squarederror.\n",
      "  warnings.warn(smsg, UserWarning)\n"
     ]
    },
    {
     "name": "stdout",
     "output_type": "stream",
     "text": [
      "[200]\tvalidation_0-rmse:0.06926\tvalidation_1-rmse:0.04718\n",
      "[300]\tvalidation_0-rmse:0.03870\tvalidation_1-rmse:0.04477\n",
      "[337]\tvalidation_0-rmse:0.03383\tvalidation_1-rmse:0.04849\n",
      "[0]\tvalidation_0-rmse:0.49107\tvalidation_1-rmse:0.48604\n",
      "[100]\tvalidation_0-rmse:0.19917\tvalidation_1-rmse:0.19416\n",
      "[200]\tvalidation_0-rmse:0.08082\tvalidation_1-rmse:0.07588\n",
      "[300]\tvalidation_0-rmse:0.03284\tvalidation_1-rmse:0.02983\n",
      "[400]\tvalidation_0-rmse:0.01336\tvalidation_1-rmse:0.01169\n"
     ]
    },
    {
     "name": "stderr",
     "output_type": "stream",
     "text": [
      "/Users/unimportantnotes/opt/anaconda3/lib/python3.9/site-packages/xgboost/core.py:160: UserWarning: [12:06:50] WARNING: /Users/runner/work/xgboost/xgboost/src/objective/regression_obj.cu:209: reg:linear is now deprecated in favor of reg:squarederror.\n",
      "  warnings.warn(smsg, UserWarning)\n"
     ]
    },
    {
     "name": "stdout",
     "output_type": "stream",
     "text": [
      "[500]\tvalidation_0-rmse:0.00545\tvalidation_1-rmse:0.00472\n",
      "[600]\tvalidation_0-rmse:0.00224\tvalidation_1-rmse:0.00209\n",
      "[700]\tvalidation_0-rmse:0.00096\tvalidation_1-rmse:0.00130\n",
      "[800]\tvalidation_0-rmse:0.00047\tvalidation_1-rmse:0.00115\n",
      "[900]\tvalidation_0-rmse:0.00032\tvalidation_1-rmse:0.00114\n",
      "[924]\tvalidation_0-rmse:0.00031\tvalidation_1-rmse:0.00114\n",
      "[0]\tvalidation_0-rmse:0.37831\tvalidation_1-rmse:0.34881\n",
      "[100]\tvalidation_0-rmse:0.15418\tvalidation_1-rmse:0.13183\n"
     ]
    },
    {
     "name": "stderr",
     "output_type": "stream",
     "text": [
      "/Users/unimportantnotes/opt/anaconda3/lib/python3.9/site-packages/xgboost/core.py:160: UserWarning: [12:06:50] WARNING: /Users/runner/work/xgboost/xgboost/src/objective/regression_obj.cu:209: reg:linear is now deprecated in favor of reg:squarederror.\n",
      "  warnings.warn(smsg, UserWarning)\n"
     ]
    },
    {
     "name": "stdout",
     "output_type": "stream",
     "text": [
      "[200]\tvalidation_0-rmse:0.06343\tvalidation_1-rmse:0.05985\n",
      "[300]\tvalidation_0-rmse:0.02706\tvalidation_1-rmse:0.04150\n",
      "[369]\tvalidation_0-rmse:0.01590\tvalidation_1-rmse:0.04398\n",
      "[0]\tvalidation_0-rmse:0.49013\tvalidation_1-rmse:0.48302\n",
      "[100]\tvalidation_0-rmse:0.19881\tvalidation_1-rmse:0.19177\n",
      "[200]\tvalidation_0-rmse:0.08071\tvalidation_1-rmse:0.07564\n",
      "[300]\tvalidation_0-rmse:0.03280\tvalidation_1-rmse:0.02987\n",
      "[400]\tvalidation_0-rmse:0.01335\tvalidation_1-rmse:0.01201\n"
     ]
    },
    {
     "name": "stderr",
     "output_type": "stream",
     "text": [
      "/Users/unimportantnotes/opt/anaconda3/lib/python3.9/site-packages/xgboost/core.py:160: UserWarning: [12:06:50] WARNING: /Users/runner/work/xgboost/xgboost/src/objective/regression_obj.cu:209: reg:linear is now deprecated in favor of reg:squarederror.\n",
      "  warnings.warn(smsg, UserWarning)\n"
     ]
    },
    {
     "name": "stdout",
     "output_type": "stream",
     "text": [
      "[500]\tvalidation_0-rmse:0.00546\tvalidation_1-rmse:0.00549\n",
      "[600]\tvalidation_0-rmse:0.00225\tvalidation_1-rmse:0.00317\n",
      "[700]\tvalidation_0-rmse:0.00097\tvalidation_1-rmse:0.00246\n",
      "[800]\tvalidation_0-rmse:0.00049\tvalidation_1-rmse:0.00225\n",
      "[900]\tvalidation_0-rmse:0.00034\tvalidation_1-rmse:0.00220\n",
      "[999]\tvalidation_0-rmse:0.00031\tvalidation_1-rmse:0.00220\n",
      "[0]\tvalidation_0-rmse:0.38085\tvalidation_1-rmse:0.36011\n",
      "[100]\tvalidation_0-rmse:0.15505\tvalidation_1-rmse:0.13245\n",
      "[200]\tvalidation_0-rmse:0.06358\tvalidation_1-rmse:0.05390\n"
     ]
    },
    {
     "name": "stderr",
     "output_type": "stream",
     "text": [
      "/Users/unimportantnotes/opt/anaconda3/lib/python3.9/site-packages/xgboost/core.py:160: UserWarning: [12:06:51] WARNING: /Users/runner/work/xgboost/xgboost/src/objective/regression_obj.cu:209: reg:linear is now deprecated in favor of reg:squarederror.\n",
      "  warnings.warn(smsg, UserWarning)\n"
     ]
    },
    {
     "name": "stdout",
     "output_type": "stream",
     "text": [
      "[300]\tvalidation_0-rmse:0.02675\tvalidation_1-rmse:0.04367\n",
      "[337]\tvalidation_0-rmse:0.01973\tvalidation_1-rmse:0.04828\n",
      "[0]\tvalidation_0-rmse:0.49235\tvalidation_1-rmse:0.48828\n",
      "[100]\tvalidation_0-rmse:0.19967\tvalidation_1-rmse:0.19560\n",
      "[200]\tvalidation_0-rmse:0.08099\tvalidation_1-rmse:0.07692\n",
      "[300]\tvalidation_0-rmse:0.03289\tvalidation_1-rmse:0.02939\n"
     ]
    },
    {
     "name": "stderr",
     "output_type": "stream",
     "text": [
      "/Users/unimportantnotes/opt/anaconda3/lib/python3.9/site-packages/xgboost/core.py:160: UserWarning: [12:06:51] WARNING: /Users/runner/work/xgboost/xgboost/src/objective/regression_obj.cu:209: reg:linear is now deprecated in favor of reg:squarederror.\n",
      "  warnings.warn(smsg, UserWarning)\n"
     ]
    },
    {
     "name": "stdout",
     "output_type": "stream",
     "text": [
      "[400]\tvalidation_0-rmse:0.01337\tvalidation_1-rmse:0.01105\n",
      "[500]\tvalidation_0-rmse:0.00544\tvalidation_1-rmse:0.00403\n",
      "[600]\tvalidation_0-rmse:0.00222\tvalidation_1-rmse:0.00142\n",
      "[700]\tvalidation_0-rmse:0.00092\tvalidation_1-rmse:0.00092\n",
      "[766]\tvalidation_0-rmse:0.00053\tvalidation_1-rmse:0.00099\n",
      "[0]\tvalidation_0-rmse:0.36955\tvalidation_1-rmse:0.26790\n",
      "[100]\tvalidation_0-rmse:0.15094\tvalidation_1-rmse:0.10840\n"
     ]
    },
    {
     "name": "stderr",
     "output_type": "stream",
     "text": [
      "/Users/unimportantnotes/opt/anaconda3/lib/python3.9/site-packages/xgboost/core.py:160: UserWarning: [12:06:52] WARNING: /Users/runner/work/xgboost/xgboost/src/objective/regression_obj.cu:209: reg:linear is now deprecated in favor of reg:squarederror.\n",
      "  warnings.warn(smsg, UserWarning)\n"
     ]
    },
    {
     "name": "stdout",
     "output_type": "stream",
     "text": [
      "[200]\tvalidation_0-rmse:0.06263\tvalidation_1-rmse:0.05265\n",
      "[300]\tvalidation_0-rmse:0.02764\tvalidation_1-rmse:0.03923\n",
      "[400]\tvalidation_0-rmse:0.01478\tvalidation_1-rmse:0.03734\n",
      "[500]\tvalidation_0-rmse:0.01066\tvalidation_1-rmse:0.03734\n",
      "[510]\tvalidation_0-rmse:0.01046\tvalidation_1-rmse:0.03737\n",
      "[0]\tvalidation_0-rmse:0.49238\tvalidation_1-rmse:0.48816\n",
      "[100]\tvalidation_0-rmse:0.19968\tvalidation_1-rmse:0.19546\n",
      "[200]\tvalidation_0-rmse:0.08100\tvalidation_1-rmse:0.07677\n",
      "[300]\tvalidation_0-rmse:0.03289\tvalidation_1-rmse:0.02923\n",
      "[400]\tvalidation_0-rmse:0.01337\tvalidation_1-rmse:0.01091\n"
     ]
    },
    {
     "name": "stderr",
     "output_type": "stream",
     "text": [
      "/Users/unimportantnotes/opt/anaconda3/lib/python3.9/site-packages/xgboost/core.py:160: UserWarning: [12:06:53] WARNING: /Users/runner/work/xgboost/xgboost/src/objective/regression_obj.cu:209: reg:linear is now deprecated in favor of reg:squarederror.\n",
      "  warnings.warn(smsg, UserWarning)\n"
     ]
    },
    {
     "name": "stdout",
     "output_type": "stream",
     "text": [
      "[500]\tvalidation_0-rmse:0.00544\tvalidation_1-rmse:0.00392\n",
      "[600]\tvalidation_0-rmse:0.00222\tvalidation_1-rmse:0.00137\n",
      "[700]\tvalidation_0-rmse:0.00092\tvalidation_1-rmse:0.00098\n",
      "[750]\tvalidation_0-rmse:0.00061\tvalidation_1-rmse:0.00106\n",
      "[0]\tvalidation_0-rmse:0.36947\tvalidation_1-rmse:0.26565\n",
      "[100]\tvalidation_0-rmse:0.15089\tvalidation_1-rmse:0.11239\n"
     ]
    },
    {
     "name": "stderr",
     "output_type": "stream",
     "text": [
      "/Users/unimportantnotes/opt/anaconda3/lib/python3.9/site-packages/xgboost/core.py:160: UserWarning: [12:06:53] WARNING: /Users/runner/work/xgboost/xgboost/src/objective/regression_obj.cu:209: reg:linear is now deprecated in favor of reg:squarederror.\n",
      "  warnings.warn(smsg, UserWarning)\n"
     ]
    },
    {
     "name": "stdout",
     "output_type": "stream",
     "text": [
      "[200]\tvalidation_0-rmse:0.06251\tvalidation_1-rmse:0.06198\n",
      "[300]\tvalidation_0-rmse:0.02727\tvalidation_1-rmse:0.05131\n",
      "[400]\tvalidation_0-rmse:0.01413\tvalidation_1-rmse:0.05037\n",
      "[442]\tvalidation_0-rmse:0.01168\tvalidation_1-rmse:0.05063\n",
      "[0]\tvalidation_0-rmse:0.49233\tvalidation_1-rmse:0.48840\n",
      "[100]\tvalidation_0-rmse:0.19966\tvalidation_1-rmse:0.19573\n",
      "[200]\tvalidation_0-rmse:0.08099\tvalidation_1-rmse:0.07706\n",
      "[300]\tvalidation_0-rmse:0.03289\tvalidation_1-rmse:0.02952\n"
     ]
    },
    {
     "name": "stderr",
     "output_type": "stream",
     "text": [
      "/Users/unimportantnotes/opt/anaconda3/lib/python3.9/site-packages/xgboost/core.py:160: UserWarning: [12:06:53] WARNING: /Users/runner/work/xgboost/xgboost/src/objective/regression_obj.cu:209: reg:linear is now deprecated in favor of reg:squarederror.\n",
      "  warnings.warn(smsg, UserWarning)\n"
     ]
    },
    {
     "name": "stdout",
     "output_type": "stream",
     "text": [
      "[400]\tvalidation_0-rmse:0.01337\tvalidation_1-rmse:0.01115\n",
      "[500]\tvalidation_0-rmse:0.00544\tvalidation_1-rmse:0.00410\n",
      "[600]\tvalidation_0-rmse:0.00222\tvalidation_1-rmse:0.00146\n",
      "[700]\tvalidation_0-rmse:0.00092\tvalidation_1-rmse:0.00089\n",
      "[774]\tvalidation_0-rmse:0.00050\tvalidation_1-rmse:0.00095\n",
      "[0]\tvalidation_0-rmse:0.37080\tvalidation_1-rmse:0.26958\n",
      "[100]\tvalidation_0-rmse:0.15185\tvalidation_1-rmse:0.10918\n"
     ]
    },
    {
     "name": "stderr",
     "output_type": "stream",
     "text": [
      "/Users/unimportantnotes/opt/anaconda3/lib/python3.9/site-packages/xgboost/core.py:160: UserWarning: [12:06:54] WARNING: /Users/runner/work/xgboost/xgboost/src/objective/regression_obj.cu:209: reg:linear is now deprecated in favor of reg:squarederror.\n",
      "  warnings.warn(smsg, UserWarning)\n"
     ]
    },
    {
     "name": "stdout",
     "output_type": "stream",
     "text": [
      "[200]\tvalidation_0-rmse:0.06325\tvalidation_1-rmse:0.05335\n",
      "[300]\tvalidation_0-rmse:0.02802\tvalidation_1-rmse:0.03877\n",
      "[400]\tvalidation_0-rmse:0.01493\tvalidation_1-rmse:0.03719\n",
      "[466]\tvalidation_0-rmse:0.01165\tvalidation_1-rmse:0.03727\n",
      "[0]\tvalidation_0-rmse:0.49230\tvalidation_1-rmse:0.48862\n",
      "[100]\tvalidation_0-rmse:0.19965\tvalidation_1-rmse:0.19597\n",
      "[200]\tvalidation_0-rmse:0.08098\tvalidation_1-rmse:0.07730\n",
      "[300]\tvalidation_0-rmse:0.03288\tvalidation_1-rmse:0.02978\n",
      "[400]\tvalidation_0-rmse:0.01337\tvalidation_1-rmse:0.01135\n"
     ]
    },
    {
     "name": "stderr",
     "output_type": "stream",
     "text": [
      "/Users/unimportantnotes/opt/anaconda3/lib/python3.9/site-packages/xgboost/core.py:160: UserWarning: [12:06:54] WARNING: /Users/runner/work/xgboost/xgboost/src/objective/regression_obj.cu:209: reg:linear is now deprecated in favor of reg:squarederror.\n",
      "  warnings.warn(smsg, UserWarning)\n"
     ]
    },
    {
     "name": "stdout",
     "output_type": "stream",
     "text": [
      "[500]\tvalidation_0-rmse:0.00544\tvalidation_1-rmse:0.00425\n",
      "[600]\tvalidation_0-rmse:0.00222\tvalidation_1-rmse:0.00155\n",
      "[700]\tvalidation_0-rmse:0.00092\tvalidation_1-rmse:0.00084\n",
      "[798]\tvalidation_0-rmse:0.00042\tvalidation_1-rmse:0.00086\n",
      "[0]\tvalidation_0-rmse:0.37224\tvalidation_1-rmse:0.26884\n",
      "[100]\tvalidation_0-rmse:0.15249\tvalidation_1-rmse:0.10560\n"
     ]
    },
    {
     "name": "stderr",
     "output_type": "stream",
     "text": [
      "/Users/unimportantnotes/opt/anaconda3/lib/python3.9/site-packages/xgboost/core.py:160: UserWarning: [12:06:55] WARNING: /Users/runner/work/xgboost/xgboost/src/objective/regression_obj.cu:209: reg:linear is now deprecated in favor of reg:squarederror.\n",
      "  warnings.warn(smsg, UserWarning)\n"
     ]
    },
    {
     "name": "stdout",
     "output_type": "stream",
     "text": [
      "[200]\tvalidation_0-rmse:0.06367\tvalidation_1-rmse:0.04426\n",
      "[300]\tvalidation_0-rmse:0.02824\tvalidation_1-rmse:0.02731\n",
      "[400]\tvalidation_0-rmse:0.01525\tvalidation_1-rmse:0.02602\n",
      "[444]\tvalidation_0-rmse:0.01282\tvalidation_1-rmse:0.02635\n",
      "[0]\tvalidation_0-rmse:0.49225\tvalidation_1-rmse:0.48878\n",
      "[100]\tvalidation_0-rmse:0.19963\tvalidation_1-rmse:0.19616\n",
      "[200]\tvalidation_0-rmse:0.08097\tvalidation_1-rmse:0.07750\n",
      "[300]\tvalidation_0-rmse:0.03288\tvalidation_1-rmse:0.02994\n"
     ]
    },
    {
     "name": "stderr",
     "output_type": "stream",
     "text": [
      "/Users/unimportantnotes/opt/anaconda3/lib/python3.9/site-packages/xgboost/core.py:160: UserWarning: [12:06:55] WARNING: /Users/runner/work/xgboost/xgboost/src/objective/regression_obj.cu:209: reg:linear is now deprecated in favor of reg:squarederror.\n",
      "  warnings.warn(smsg, UserWarning)\n"
     ]
    },
    {
     "name": "stdout",
     "output_type": "stream",
     "text": [
      "[400]\tvalidation_0-rmse:0.01337\tvalidation_1-rmse:0.01144\n",
      "[500]\tvalidation_0-rmse:0.00544\tvalidation_1-rmse:0.00435\n",
      "[600]\tvalidation_0-rmse:0.00222\tvalidation_1-rmse:0.00161\n",
      "[700]\tvalidation_0-rmse:0.00093\tvalidation_1-rmse:0.00082\n",
      "[800]\tvalidation_0-rmse:0.00042\tvalidation_1-rmse:0.00080\n",
      "[816]\tvalidation_0-rmse:0.00038\tvalidation_1-rmse:0.00081\n",
      "[0]\tvalidation_0-rmse:0.37235\tvalidation_1-rmse:0.27953\n",
      "[100]\tvalidation_0-rmse:0.15206\tvalidation_1-rmse:0.11341\n",
      "[200]\tvalidation_0-rmse:0.06294\tvalidation_1-rmse:0.05496\n"
     ]
    },
    {
     "name": "stderr",
     "output_type": "stream",
     "text": [
      "/Users/unimportantnotes/opt/anaconda3/lib/python3.9/site-packages/xgboost/core.py:160: UserWarning: [12:06:56] WARNING: /Users/runner/work/xgboost/xgboost/src/objective/regression_obj.cu:209: reg:linear is now deprecated in favor of reg:squarederror.\n",
      "  warnings.warn(smsg, UserWarning)\n"
     ]
    },
    {
     "name": "stdout",
     "output_type": "stream",
     "text": [
      "[300]\tvalidation_0-rmse:0.02743\tvalidation_1-rmse:0.03979\n",
      "[400]\tvalidation_0-rmse:0.01413\tvalidation_1-rmse:0.03722\n",
      "[500]\tvalidation_0-rmse:0.00982\tvalidation_1-rmse:0.03734\n",
      "[502]\tvalidation_0-rmse:0.00978\tvalidation_1-rmse:0.03736\n",
      "[0]\tvalidation_0-rmse:0.49219\tvalidation_1-rmse:0.48895\n",
      "[100]\tvalidation_0-rmse:0.19961\tvalidation_1-rmse:0.19636\n",
      "[200]\tvalidation_0-rmse:0.08097\tvalidation_1-rmse:0.07772\n",
      "[300]\tvalidation_0-rmse:0.03288\tvalidation_1-rmse:0.03012\n",
      "[400]\tvalidation_0-rmse:0.01336\tvalidation_1-rmse:0.01158\n"
     ]
    },
    {
     "name": "stderr",
     "output_type": "stream",
     "text": [
      "/Users/unimportantnotes/opt/anaconda3/lib/python3.9/site-packages/xgboost/core.py:160: UserWarning: [12:06:57] WARNING: /Users/runner/work/xgboost/xgboost/src/objective/regression_obj.cu:209: reg:linear is now deprecated in favor of reg:squarederror.\n",
      "  warnings.warn(smsg, UserWarning)\n"
     ]
    },
    {
     "name": "stdout",
     "output_type": "stream",
     "text": [
      "[500]\tvalidation_0-rmse:0.00544\tvalidation_1-rmse:0.00468\n",
      "[600]\tvalidation_0-rmse:0.00222\tvalidation_1-rmse:0.00191\n",
      "[700]\tvalidation_0-rmse:0.00093\tvalidation_1-rmse:0.00102\n",
      "[800]\tvalidation_0-rmse:0.00042\tvalidation_1-rmse:0.00086\n",
      "[883]\tvalidation_0-rmse:0.00027\tvalidation_1-rmse:0.00088\n",
      "[0]\tvalidation_0-rmse:0.37245\tvalidation_1-rmse:0.27156\n",
      "[100]\tvalidation_0-rmse:0.15245\tvalidation_1-rmse:0.10317\n"
     ]
    },
    {
     "name": "stderr",
     "output_type": "stream",
     "text": [
      "/Users/unimportantnotes/opt/anaconda3/lib/python3.9/site-packages/xgboost/core.py:160: UserWarning: [12:06:57] WARNING: /Users/runner/work/xgboost/xgboost/src/objective/regression_obj.cu:209: reg:linear is now deprecated in favor of reg:squarederror.\n",
      "  warnings.warn(smsg, UserWarning)\n"
     ]
    },
    {
     "name": "stdout",
     "output_type": "stream",
     "text": [
      "[200]\tvalidation_0-rmse:0.06348\tvalidation_1-rmse:0.03929\n",
      "[300]\tvalidation_0-rmse:0.02782\tvalidation_1-rmse:0.01989\n",
      "[400]\tvalidation_0-rmse:0.01453\tvalidation_1-rmse:0.01852\n",
      "[485]\tvalidation_0-rmse:0.01063\tvalidation_1-rmse:0.01907\n",
      "[0]\tvalidation_0-rmse:0.49159\tvalidation_1-rmse:0.48763\n",
      "[100]\tvalidation_0-rmse:0.19937\tvalidation_1-rmse:0.19542\n",
      "[200]\tvalidation_0-rmse:0.08088\tvalidation_1-rmse:0.07695\n",
      "[300]\tvalidation_0-rmse:0.03286\tvalidation_1-rmse:0.02988\n",
      "[400]\tvalidation_0-rmse:0.01336\tvalidation_1-rmse:0.01193\n"
     ]
    },
    {
     "name": "stderr",
     "output_type": "stream",
     "text": [
      "/Users/unimportantnotes/opt/anaconda3/lib/python3.9/site-packages/xgboost/core.py:160: UserWarning: [12:06:58] WARNING: /Users/runner/work/xgboost/xgboost/src/objective/regression_obj.cu:209: reg:linear is now deprecated in favor of reg:squarederror.\n",
      "  warnings.warn(smsg, UserWarning)\n"
     ]
    },
    {
     "name": "stdout",
     "output_type": "stream",
     "text": [
      "[500]\tvalidation_0-rmse:0.00544\tvalidation_1-rmse:0.00485\n",
      "[600]\tvalidation_0-rmse:0.00223\tvalidation_1-rmse:0.00207\n",
      "[700]\tvalidation_0-rmse:0.00093\tvalidation_1-rmse:0.00116\n",
      "[800]\tvalidation_0-rmse:0.00042\tvalidation_1-rmse:0.00095\n",
      "[900]\tvalidation_0-rmse:0.00025\tvalidation_1-rmse:0.00093\n",
      "[961]\tvalidation_0-rmse:0.00021\tvalidation_1-rmse:0.00093\n",
      "[0]\tvalidation_0-rmse:0.36952\tvalidation_1-rmse:0.28662\n",
      "[100]\tvalidation_0-rmse:0.15104\tvalidation_1-rmse:0.11261\n",
      "[200]\tvalidation_0-rmse:0.06281\tvalidation_1-rmse:0.05680\n"
     ]
    },
    {
     "name": "stderr",
     "output_type": "stream",
     "text": [
      "/Users/unimportantnotes/opt/anaconda3/lib/python3.9/site-packages/xgboost/core.py:160: UserWarning: [12:06:58] WARNING: /Users/runner/work/xgboost/xgboost/src/objective/regression_obj.cu:209: reg:linear is now deprecated in favor of reg:squarederror.\n",
      "  warnings.warn(smsg, UserWarning)\n"
     ]
    },
    {
     "name": "stdout",
     "output_type": "stream",
     "text": [
      "[300]\tvalidation_0-rmse:0.02770\tvalidation_1-rmse:0.03900\n",
      "[400]\tvalidation_0-rmse:0.01475\tvalidation_1-rmse:0.03709\n",
      "[464]\tvalidation_0-rmse:0.01164\tvalidation_1-rmse:0.03774\n"
     ]
    }
   ],
   "source": [
    "for i in range(len(unique_combos)):\n",
    "    a,b=unique_combos.loc[i,:]\n",
    "    df=datasets[a,b]\n",
    "    #fit alpha\n",
    "    dfa=df[df['Strike']=='atm'].drop_duplicates('Forward Swap Rate',keep='first')[['alpha','Forward Swap Rate','Vols','sabrvol']]\n",
    "    dfa=create_featuresa(dfa)\n",
    "    xa=dfa.drop(['alpha','Vols','sabrvol'],axis=1)\n",
    "    ya=dfa[['alpha']]\n",
    "    x_train, x_testa, y_train, y_testa = train_test_split(xa, ya, test_size=1 - 0.8,shuffle=False)#, random_state = seed, shuffle=False)\n",
    "    reg = xgb.XGBRegressor(base_score=0.5, booster='gbtree',    \n",
    "                           n_estimators=1000,\n",
    "                           early_stopping_rounds=70,\n",
    "                           objective='reg:linear',\n",
    "                           max_depth=3,\n",
    "                           learning_rate=0.009)\n",
    "    reg.fit(x_train, y_train,\n",
    "        eval_set=[(x_train, y_train), (x_testa, y_testa)],\n",
    "        verbose=100)\n",
    "    filename = f'model/{a}_{b}_alphamodel.json'\n",
    "    reg.save_model(filename)\n",
    "    #fit others\n",
    "    dfo=df[df['Strike']=='atm'].drop_duplicates('Forward Swap Rate',keep='first')[['rho','volvol','Forward Swap Rate','Vols','sabrvol']]\n",
    "    dfo=create_features(dfo)\n",
    "    x=dfo.drop(['rho','volvol','Vols','sabrvol'],axis=1)\n",
    "    y=dfo[['rho','volvol']]\n",
    "    x_train, x_test, y_train, y_test = train_test_split(x, y, test_size=1 - 0.8,shuffle=False)#, random_state = seed, shuffle=False)\n",
    "    reg = xgb.XGBRegressor(base_score=0.5, booster='gbtree',    \n",
    "                           n_estimators=1000,\n",
    "                           early_stopping_rounds=70,\n",
    "                           objective='reg:linear',\n",
    "                           max_depth=3,\n",
    "                           learning_rate=0.009)\n",
    "    reg.fit(x_train, y_train,\n",
    "        eval_set=[(x_train, y_train), (x_test, y_test)],\n",
    "        verbose=100)\n",
    "    filename = f'model/{a}_{b}_rhovolmodel.json'\n",
    "    reg.save_model(filename)\n",
    "    \n",
    "    "
   ]
  }
 ],
 "metadata": {
  "kernelspec": {
   "display_name": "Python 3 (ipykernel)",
   "language": "python",
   "name": "python3"
  },
  "language_info": {
   "codemirror_mode": {
    "name": "ipython",
    "version": 3
   },
   "file_extension": ".py",
   "mimetype": "text/x-python",
   "name": "python",
   "nbconvert_exporter": "python",
   "pygments_lexer": "ipython3",
   "version": "3.9.13"
  }
 },
 "nbformat": 4,
 "nbformat_minor": 5
}
